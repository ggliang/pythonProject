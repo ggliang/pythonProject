{
 "cells": [
  {
   "cell_type": "code",
   "execution_count": 28,
   "metadata": {},
   "outputs": [
    {
     "name": "stdout",
     "output_type": "stream",
     "text": [
      "false\n",
      "false\n"
     ]
    }
   ],
   "source": [
    "board = [[\".\",\".\",\".\",\".\",\"5\",\".\",\".\",\"1\",\".\"],\n",
    "         [\".\",\"4\",\".\",\"3\",\".\",\".\",\".\",\".\",\".\"],\n",
    "         [\".\",\".\",\".\",\".\",\".\",\"3\",\".\",\".\",\"1\"],\n",
    "         [\"8\",\".\",\".\",\".\",\".\",\".\",\".\",\"2\",\".\"],\n",
    "         [\".\",\".\",\"2\",\".\",\"7\",\".\",\".\",\".\",\".\"],\n",
    "         [\".\",\"1\",\"5\",\".\",\".\",\".\",\".\",\".\",\".\"],\n",
    "         [\".\",\".\",\".\",\".\",\".\",\"2\",\".\",\".\",\".\"],\n",
    "         [\".\",\"2\",\".\",\"9\",\".\",\".\",\".\",\".\",\".\"],\n",
    "         [\".\",\".\",\"4\",\".\",\".\",\".\",\".\",\".\",\".\"]]\n",
    "\n",
    "test=[]\n",
    "poi=[[0,1,2],[3,4,5],[6,7,8]]\n",
    "for i in range(9):\n",
    "    for j in range(9):\n",
    "        if(board[i][j] not in test and board[i][j] !='.'):\n",
    "            test.append(board[i][j])\n",
    "        elif(board[i][j]=='.'):\n",
    "            continue\n",
    "        else:\n",
    "            print(\"false\")\n",
    "    test=[]\n",
    "for i in range(9):\n",
    "    for j in range(9):\n",
    "        if(board[j][i] not in test and board[j][i] !='.'):\n",
    "            test.append(board[j][i])\n",
    "        elif(board[j][i]=='.'):\n",
    "            continue\n",
    "        else:\n",
    "            print(board[j][i])\n",
    "            print(\"false\")\n",
    "    test=[]\n",
    "\n",
    "for group1 in poi:\n",
    "    for group2 in poi:\n",
    "        for i in group1:\n",
    "            for j in group2:\n",
    "                if(board[i][j] not in test and board[i][j] !='.'):\n",
    "                    test.append(board[i][j])\n",
    "                elif(board[i][j]=='.'):\n",
    "                    continue\n",
    "                else:\n",
    "                    print(\"false\")\n",
    "        test=[]"
   ]
  },
  {
   "cell_type": "code",
   "execution_count": 20,
   "metadata": {},
   "outputs": [
    {
     "data": {
      "text/plain": [
       "[['5', '3', '4', '6', '7', '8', '9', '1', '2'],\n",
       " ['6', '7', '2', '1', '9', '5', '3', '4', '8'],\n",
       " ['1', '9', '8', '3', '4', '2', '5', '6', '7'],\n",
       " ['8', '5', '9', '7', '6', '1', '4', '2', '3'],\n",
       " ['4', '2', '6', '8', '5', '3', '7', '9', '1'],\n",
       " ['7', '1', '3', '9', '2', '4', '8', '5', '6'],\n",
       " ['9', '6', '1', '5', '3', '7', '2', '8', '4'],\n",
       " ['2', '8', '7', '4', '1', '9', '6', '3', '5'],\n",
       " ['3', '4', '5', '2', '8', '6', '1', '7', '9']]"
      ]
     },
     "execution_count": 20,
     "metadata": {},
     "output_type": "execute_result"
    }
   ],
   "source": [
    "board = [[\"5\",\"3\",\".\",\".\",\"7\",\".\",\".\",\".\",\".\"],\n",
    "         [\"6\",\".\",\".\",\"1\",\"9\",\"5\",\".\",\".\",\".\"],\n",
    "         [\".\",\"9\",\"8\",\".\",\".\",\".\",\".\",\"6\",\".\"],\n",
    "         [\"8\",\".\",\".\",\".\",\"6\",\".\",\".\",\".\",\"3\"],\n",
    "         [\"4\",\".\",\".\",\"8\",\".\",\"3\",\".\",\".\",\"1\"],\n",
    "         [\"7\",\".\",\".\",\".\",\"2\",\".\",\".\",\".\",\"6\"],\n",
    "         [\".\",\"6\",\".\",\".\",\".\",\".\",\"2\",\"8\",\".\"],\n",
    "         [\".\",\".\",\".\",\"4\",\"1\",\"9\",\".\",\".\",\"5\"],\n",
    "         [\".\",\".\",\".\",\".\",\"8\",\".\",\".\",\"7\",\"9\"]]\n",
    "\n",
    "def check_row(row,ch):\n",
    "    for col in range(9):\n",
    "        if board[row][col]==ch:\n",
    "            return False\n",
    "    return True\n",
    "\n",
    "def check_col(col,ch):\n",
    "    for row in range(9):\n",
    "        if board[row][col]==ch:\n",
    "            return False\n",
    "    return True\n",
    "\n",
    "def check_box(row,col,ch):\n",
    "    row_box=row//3\n",
    "    col_box=col//3\n",
    "    for i in range(row_box*3,row_box*3+3):\n",
    "        for j in range(col_box*3,col_box*3+3):\n",
    "            if board[i][j]==ch:\n",
    "                return False\n",
    "    return True\n",
    "\n",
    "def isSafe(row,col,ch):\n",
    "    if check_row(row,ch) and check_col(col,ch) and check_box(row,col,ch):\n",
    "        return True\n",
    "    return False\n",
    "\n",
    "def empty():\n",
    "    for i in range(9):\n",
    "        for j in range(9):\n",
    "            if board[i][j]=='.':\n",
    "                return i,j\n",
    "    return -1,-1\n",
    "\n",
    "def solve():\n",
    "    global board\n",
    "    row,col=empty()\n",
    "    if(row==-1 and col==-1):\n",
    "        return True\n",
    "    for i in ['1','2','3','4','5','6','7','8','9']:\n",
    "        if isSafe(row,col,i):\n",
    "            board[row][col]=i\n",
    "            if solve():\n",
    "                return True\n",
    "            board[row][col]='.' \n",
    "    return\n",
    "solve()\n"
   ]
  },
  {
   "cell_type": "code",
   "execution_count": 13,
   "metadata": {},
   "outputs": [
    {
     "name": "stdout",
     "output_type": "stream",
     "text": [
      "['Lilei', 'Hi']\n",
      "['Lilei', 'Hi']\n"
     ]
    }
   ],
   "source": [
    "names  = ['Lilei','Jcak']\n",
    " \n",
    "def change_name():\n",
    "    \n",
    "    names[1] = 'Hi'\n",
    "    print(names)    \n",
    "\n",
    "change_name()    \n",
    "print(names)"
   ]
  },
  {
   "cell_type": "code",
   "execution_count": null,
   "metadata": {},
   "outputs": [],
   "source": []
  },
  {
   "cell_type": "code",
   "execution_count": null,
   "metadata": {},
   "outputs": [],
   "source": []
  }
 ],
 "metadata": {
  "kernelspec": {
   "display_name": "Python 3",
   "language": "python",
   "name": "python3"
  },
  "language_info": {
   "codemirror_mode": {
    "name": "ipython",
    "version": 3
   },
   "file_extension": ".py",
   "mimetype": "text/x-python",
   "name": "python",
   "nbconvert_exporter": "python",
   "pygments_lexer": "ipython3",
   "version": "3.6.5"
  }
 },
 "nbformat": 4,
 "nbformat_minor": 2
}
