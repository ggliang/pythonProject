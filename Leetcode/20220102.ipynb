{
 "cells": [
  {
   "cell_type": "code",
   "execution_count": 32,
   "id": "dc28cf16",
   "metadata": {},
   "outputs": [],
   "source": [
    "class ListNode:\n",
    "    def __init__(self, val=0, next=None):\n",
    "        self.val = val\n",
    "        self.next = next\n",
    "head = ListNode(1)\n",
    "p = head\n",
    "p.next = ListNode(2)\n",
    "p = p.next\n",
    "p.next = ListNode(3)\n",
    "p = p.next\n",
    "p.next = ListNode(4)"
   ]
  },
  {
   "cell_type": "code",
   "execution_count": 33,
   "id": "60f872be",
   "metadata": {},
   "outputs": [
    {
     "data": {
      "text/plain": [
       "2"
      ]
     },
     "execution_count": 33,
     "metadata": {},
     "output_type": "execute_result"
    }
   ],
   "source": [
    "def exchange(head):\n",
    "    if not head or head.next == None:\n",
    "        return head\n",
    "    else:\n",
    "        p = head\n",
    "        next_ = p.next.next\n",
    "        head = head.next\n",
    "        p.next = next_\n",
    "        head.next = p\n",
    "    while p.next and p.next.next:\n",
    "        next_ = p.next.next.next\n",
    "        n1 = p.next\n",
    "        n2 = p.next.next\n",
    "        p.next = n2\n",
    "        n1.next = next_\n",
    "        n2.next = n1\n",
    "        p = n1\n",
    "    return head\n",
    "new = exchange(head)\n",
    "new.val"
   ]
  },
  {
   "cell_type": "code",
   "execution_count": 42,
   "id": "ce5437bb",
   "metadata": {},
   "outputs": [
    {
     "data": {
      "text/plain": [
       "2"
      ]
     },
     "execution_count": 42,
     "metadata": {},
     "output_type": "execute_result"
    }
   ],
   "source": [
    "haystack = \"hello\"\n",
    "needle = \"ll\"\n",
    "def strStr(haystack,needle):\n",
    "    if not needle:\n",
    "        return 0\n",
    "    elif not haystack:\n",
    "        return -1\n",
    "    else:\n",
    "        p1 = 0\n",
    "        p1_cur = p1\n",
    "        p2 = 0\n",
    "        while p1<len(haystack):\n",
    "            if haystack[p1]!=needle[p2]:\n",
    "                \n",
    "                p2 = 0\n",
    "                p1 = p1_cur+1\n",
    "                p1_cur = p1\n",
    "            else:\n",
    "                if p2==0:\n",
    "                    p1_cur = p1\n",
    "                p2 += 1\n",
    "                p1 += 1\n",
    "                if p2 ==len(needle):\n",
    "                    return p1_cur\n",
    "        return -1\n",
    "strStr(haystack,needle)"
   ]
  },
  {
   "cell_type": "code",
   "execution_count": 103,
   "id": "01243eee",
   "metadata": {},
   "outputs": [
    {
     "data": {
      "text/plain": [
       "15"
      ]
     },
     "execution_count": 103,
     "metadata": {},
     "output_type": "execute_result"
    }
   ],
   "source": [
    "haystack = \"BBC ABCDAB ABCDABCDABDE\"\n",
    "needle = \"ABCDABD\"\n",
    "def strStr(haystack,needle):\n",
    "    if not needle:\n",
    "        return 0\n",
    "    elif not haystack or len(needle)>len(haystack):\n",
    "        return -1\n",
    "    else:\n",
    "        next_ = []\n",
    "        for i in range(len(needle)):\n",
    "            count = 0\n",
    "            pre = []\n",
    "            end = []\n",
    "            for j in range(1,len(needle[:i+1])+1):\n",
    "                pre.append(needle[:i+1][:j-1])\n",
    "                end.append(needle[:i+1][j-1:])\n",
    "            for k in pre:\n",
    "                if k in end and k!='':\n",
    "                    count = len(k)\n",
    "            next_.append(count)\n",
    "        next_.append(0)\n",
    "        p1 = 0\n",
    "        p2 = 0\n",
    "        p1_cur = 0\n",
    "        while p1<len(haystack):\n",
    "            if haystack[p1]!=needle[p2]:\n",
    "                p1 = max(1+p1_cur,p1_cur+p2-next_[p2-1])\n",
    "                p2 = 0\n",
    "                p1_cur = p1\n",
    "            else:\n",
    "                if p2==0:\n",
    "                    p1_cur = p1\n",
    "                p2 += 1\n",
    "                p1 += 1\n",
    "                if p2 ==len(needle):\n",
    "                    return p1_cur\n",
    "    return -1\n",
    "strStr(haystack,needle)"
   ]
  },
  {
   "cell_type": "code",
   "execution_count": 104,
   "id": "8056c1c2",
   "metadata": {},
   "outputs": [
    {
     "data": {
      "text/plain": [
       "[-1, 0, 0, 0, 0, 1, 2, 0]"
      ]
     },
     "execution_count": 104,
     "metadata": {},
     "output_type": "execute_result"
    }
   ],
   "source": [
    "haystack = \"BBC ABCDAB ABCDABCDABDE\"\n",
    "needle = \"ABCDABD\"\n",
    "n, h = len(needle), len(haystack)\n",
    "i, j, nxt = 1, 0, [-1]+[0]*n\n",
    "while i < n:                                # calculate next array\n",
    "    if j == -1 or needle[i] == needle[j]:   \n",
    "        i += 1\n",
    "        j += 1\n",
    "        nxt[i] = j\n",
    "    else:\n",
    "        j = nxt[j]\n",
    "nxt"
   ]
  },
  {
   "cell_type": "code",
   "execution_count": 105,
   "id": "c6d6ac7a",
   "metadata": {},
   "outputs": [
    {
     "name": "stdout",
     "output_type": "stream",
     "text": [
      "[''] ['D']\n",
      "['', 'D'] ['DD', 'D']\n",
      "['', 'D', 'DD'] ['DDD', 'DD', 'D']\n",
      "['', 'D', 'DD', 'DDD'] ['DDDD', 'DDD', 'DD', 'D']\n",
      "['', 'D', 'DD', 'DDD', 'DDDD'] ['DDDDA', 'DDDA', 'DDA', 'DA', 'A']\n",
      "['', 'D', 'DD', 'DDD', 'DDDD', 'DDDDA'] ['DDDDAB', 'DDDAB', 'DDAB', 'DAB', 'AB', 'B']\n",
      "['', 'D', 'DD', 'DDD', 'DDDD', 'DDDDA', 'DDDDAB'] ['DDDDABC', 'DDDABC', 'DDABC', 'DABC', 'ABC', 'BC', 'C']\n",
      "['', 'D', 'DD', 'DDD', 'DDDD', 'DDDDA', 'DDDDAB', 'DDDDABC'] ['DDDDABCD', 'DDDABCD', 'DDABCD', 'DABCD', 'ABCD', 'BCD', 'CD', 'D']\n",
      "['', 'D', 'DD', 'DDD', 'DDDD', 'DDDDA', 'DDDDAB', 'DDDDABC', 'DDDDABCD'] ['DDDDABCDA', 'DDDABCDA', 'DDABCDA', 'DABCDA', 'ABCDA', 'BCDA', 'CDA', 'DA', 'A']\n",
      "['', 'D', 'DD', 'DDD', 'DDDD', 'DDDDA', 'DDDDAB', 'DDDDABC', 'DDDDABCD', 'DDDDABCDA'] ['DDDDABCDAB', 'DDDABCDAB', 'DDABCDAB', 'DABCDAB', 'ABCDAB', 'BCDAB', 'CDAB', 'DAB', 'AB', 'B']\n",
      "['', 'D', 'DD', 'DDD', 'DDDD', 'DDDDA', 'DDDDAB', 'DDDDABC', 'DDDDABCD', 'DDDDABCDA', 'DDDDABCDAB'] ['DDDDABCDABD', 'DDDABCDABD', 'DDABCDABD', 'DABCDABD', 'ABCDABD', 'BCDABD', 'CDABD', 'DABD', 'ABD', 'BD', 'D']\n"
     ]
    },
    {
     "data": {
      "text/plain": [
       "[0, 1, 2, 3, 0, 0, 0, 1, 0, 0, 1]"
      ]
     },
     "execution_count": 105,
     "metadata": {},
     "output_type": "execute_result"
    }
   ],
   "source": [
    "needle = \"DDDDABCDABD\"\n",
    "next_ = []\n",
    "\n",
    "for i in range(len(needle)):\n",
    "    count = 0\n",
    "    pre = []\n",
    "    end = []\n",
    "#     print(needle[:i+1])\n",
    "    for j in range(1,len(needle[:i+1])+1):\n",
    "        pre.append(needle[:i+1][:j-1])\n",
    "        end.append(needle[:i+1][j-1:])\n",
    "    print(pre,end)\n",
    "    for k in pre:\n",
    "        if k in end and k!='':\n",
    "            count = len(k)\n",
    "    next_.append(count)\n",
    "next_"
   ]
  }
 ],
 "metadata": {
  "kernelspec": {
   "display_name": "Python 3",
   "language": "python",
   "name": "python3"
  },
  "language_info": {
   "codemirror_mode": {
    "name": "ipython",
    "version": 3
   },
   "file_extension": ".py",
   "mimetype": "text/x-python",
   "name": "python",
   "nbconvert_exporter": "python",
   "pygments_lexer": "ipython3",
   "version": "3.8.8"
  }
 },
 "nbformat": 4,
 "nbformat_minor": 5
}
