{
 "cells": [
  {
   "cell_type": "code",
   "execution_count": 56,
   "metadata": {},
   "outputs": [
    {
     "data": {
      "text/plain": [
       "[[1, 1, 1], [1, 2]]"
      ]
     },
     "execution_count": 56,
     "metadata": {},
     "output_type": "execute_result"
    }
   ],
   "source": [
    "candidates= [1,1,2,1,1,1,1]\n",
    "target=3\n",
    "res=[]\n",
    "def comsum(cur,cur_sum,idx):\n",
    "    cur.sort()\n",
    "    if(cur_sum>target):\n",
    "        return\n",
    "    if(cur_sum==target and cur not in res):\n",
    "        res.append(cur)\n",
    "        return\n",
    "    for i in range(idx,len(candidates)):\n",
    "        if(i>idx and candidates[i]==candidates[i-1]):\n",
    "            continue\n",
    "        comsum(cur+[candidates[i]],cur_sum+candidates[i],i+1)\n",
    "    return res\n",
    "comsum([],0,0)\n",
    "    "
   ]
  },
  {
   "cell_type": "code",
   "execution_count": 48,
   "metadata": {},
   "outputs": [
    {
     "name": "stdout",
     "output_type": "stream",
     "text": [
      "0\n",
      "0\n",
      "0\n",
      "0\n",
      "1\n",
      "2\n",
      "3\n"
     ]
    },
    {
     "data": {
      "text/plain": [
       "[]"
      ]
     },
     "execution_count": 48,
     "metadata": {},
     "output_type": "execute_result"
    }
   ],
   "source": [
    "candidates= [1,2,1,1]\n",
    "target=15\n",
    "candidates.sort()\n",
    "ans=[]\n",
    "def backtrack(nums, res,target):\n",
    "    if target<0:\n",
    "        return\n",
    "    if target==0:\n",
    "        ans.append(res)\n",
    "        return\n",
    "    for i in range(len(nums)):\n",
    "        if i>0 and nums[i]==nums[i-1]: # dont consider the path starting with same element\n",
    "            continue\n",
    "        print(i)\n",
    "        backtrack(nums[i+1:],res+[nums[i]], target-nums[i])\n",
    "backtrack(candidates,[],target)\n",
    "ans\n"
   ]
  },
  {
   "cell_type": "code",
   "execution_count": 4,
   "metadata": {},
   "outputs": [],
   "source": [
    "a=\"abcd\"\n",
    "for char in a:\n",
    "    if(char==\"e\"):\n",
    "        print(\"true\")"
   ]
  },
  {
   "cell_type": "code",
   "execution_count": null,
   "metadata": {},
   "outputs": [],
   "source": []
  }
 ],
 "metadata": {
  "kernelspec": {
   "display_name": "Python 3",
   "language": "python",
   "name": "python3"
  },
  "language_info": {
   "codemirror_mode": {
    "name": "ipython",
    "version": 3
   },
   "file_extension": ".py",
   "mimetype": "text/x-python",
   "name": "python",
   "nbconvert_exporter": "python",
   "pygments_lexer": "ipython3",
   "version": "3.6.5"
  }
 },
 "nbformat": 4,
 "nbformat_minor": 2
}
