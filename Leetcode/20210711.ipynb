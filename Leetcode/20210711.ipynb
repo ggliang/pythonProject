{
 "cells": [
  {
   "cell_type": "code",
   "execution_count": 23,
   "metadata": {},
   "outputs": [
    {
     "data": {
      "text/plain": [
       "6"
      ]
     },
     "execution_count": 23,
     "metadata": {},
     "output_type": "execute_result"
    }
   ],
   "source": [
    "nums = [-2,1,-3,4,-1,2,1,-5,4]\n",
    "left=0\n",
    "right=0\n",
    "_sum=nums[0]\n",
    "while left!= len(nums):\n",
    "    for i in range(left,len(nums)):\n",
    "        if( sum(nums[left:i+1])>_sum):\n",
    "            _sum=sum(nums[left:i+1])\n",
    "    left+=1\n",
    "_sum"
   ]
  },
  {
   "cell_type": "code",
   "execution_count": 29,
   "metadata": {},
   "outputs": [
    {
     "data": {
      "text/plain": [
       "23"
      ]
     },
     "execution_count": 29,
     "metadata": {},
     "output_type": "execute_result"
    }
   ],
   "source": [
    "nums = [5,4,-1,7,8]\n",
    "left=0\n",
    "right=len(nums)-1\n",
    "_sum=sum(nums[left:right+1])\n",
    "while left!=right:\n",
    "    if(nums[left]>=nums[right]):\n",
    "        right-=1\n",
    "    else:\n",
    "        left+=1\n",
    "    if(sum(nums[left:right+1])>_sum):\n",
    "        _sum=sum(nums[left:right+1])\n",
    "_sum"
   ]
  },
  {
   "cell_type": "code",
   "execution_count": 3,
   "metadata": {},
   "outputs": [
    {
     "name": "stdout",
     "output_type": "stream",
     "text": [
      "3\n",
      "[]\n",
      "3\n",
      "[]\n",
      "2\n"
     ]
    }
   ],
   "source": [
    "matrix = [[3],[2]]\n",
    "short = len(matrix)\n",
    "long = len(matrix[0])\n",
    "loop=int(min(long,short)/2)\n",
    "res=[]\n",
    "for i in range(loop+1):\n",
    "    print(matrix[i][i])#左上第一格\n",
    "    print(matrix[i][i+1:long-i-1])#上列\n",
    "    for j in range(i,short-1-i):\n",
    "        print(matrix[j][long-i-1])#右列\n",
    "    print(matrix[short-i-1][-1-i:-long+i:-1])#下列\n",
    "    for k in range(i,short-1-i):\n",
    "        print(matrix[short-k-1][i])"
   ]
  },
  {
   "cell_type": "code",
   "execution_count": 4,
   "metadata": {},
   "outputs": [
    {
     "data": {
      "text/plain": [
       "[3, 3, 2]"
      ]
     },
     "execution_count": 4,
     "metadata": {},
     "output_type": "execute_result"
    }
   ],
   "source": [
    "matrix = [[3],[2]]\n",
    "short = len(matrix)\n",
    "long = len(matrix[0])\n",
    "loop=int(min(long,short)/2)\n",
    "res=[]\n",
    "for i in range(loop+1):\n",
    "    res=res+[matrix[i][i]]\n",
    "    if(matrix[i][i+1:long-i-1] not in res):\n",
    "        res=res+matrix[i][i+1:long-i-1]\n",
    "    for j in range(i,short-1-i):\n",
    "        if ([matrix[j][long-i-1]] not in res):\n",
    "            res=res+[matrix[j][long-i-1]]\n",
    "    if(matrix[short-i-1][-1-i:-long+i:-1] not in res):\n",
    "        res=res+matrix[short-i-1][-1-i:-long+i:-1]\n",
    "    for k in range(i,short-1-i):\n",
    "        if([matrix[short-k-1][i]] not in res):\n",
    "            res=res+[matrix[short-k-1][i]]\n",
    "res"
   ]
  },
  {
   "cell_type": "code",
   "execution_count": 16,
   "metadata": {},
   "outputs": [
    {
     "data": {
      "text/plain": [
       "[1, 2, 4, 3]"
      ]
     },
     "execution_count": 16,
     "metadata": {},
     "output_type": "execute_result"
    }
   ],
   "source": [
    "matrix = [[1,2],[3,4]]\n",
    "short = len(matrix)\n",
    "long = len(matrix[0])\n",
    "loop=int(min(long,short)/2)\n",
    "res=[]\n",
    "poi=[]\n",
    "for i in range(loop+1):\n",
    "    if(matrix[i][i] not in res):\n",
    "        res=res+[matrix[i][i]]\n",
    "    for p in range(i+1,long-i-1):\n",
    "        if(matrix[i][p] not in res):\n",
    "            res=res+[matrix[i][p]]\n",
    "    for j in range(i,short-1-i):\n",
    "        if (matrix[j][long-i-1] not in res):\n",
    "            res=res+[matrix[j][long-i-1]]\n",
    "    for q in range(-1-i,-long+i,-1):\n",
    "        if(matrix[short-i-1][q] not in res):\n",
    "            res=res+[matrix[short-i-1][q]]\n",
    "    for k in range(i,short-1-i):\n",
    "        if(matrix[short-k-1][i] not in res):\n",
    "            res=res+[matrix[short-k-1][i]]\n",
    "res"
   ]
  },
  {
   "cell_type": "code",
   "execution_count": 25,
   "metadata": {},
   "outputs": [
    {
     "data": {
      "text/plain": [
       "[1, 2, 3, 2]"
      ]
     },
     "execution_count": 25,
     "metadata": {},
     "output_type": "execute_result"
    }
   ],
   "source": [
    "matrix = [[1,2,3]]\n",
    "short = len(matrix)\n",
    "long = len(matrix[0])\n",
    "loop=int(min(long,short)/2)\n",
    "res=[]\n",
    "poi=[]\n",
    "for i in range(loop+1):\n",
    "    if([i,i] not in poi):\n",
    "        res=res+[matrix[i][i]]\n",
    "        poi.append([i,i])\n",
    "    for p in range(i+1,long-i-1):\n",
    "        if([i,p] not in poi):\n",
    "            res=res+[matrix[i][p]]\n",
    "            poi.append([i,p])\n",
    "    for j in range(i,short-1-i):\n",
    "        if ([j,long-i-1] not in poi):\n",
    "            res=res+[matrix[j][long-i-1]]\n",
    "            poi.append([j,long-i-1])\n",
    "    for q in range(-1-i,-long+i,-1):\n",
    "        if([short-i-1,q] not in poi):\n",
    "            res=res+[matrix[short-i-1][q]]\n",
    "            poi.append([short-i-1,long+q])\n",
    "    for k in range(i,short-1-i):\n",
    "        if([short-k-1,i] not in poi):\n",
    "            res=res+[matrix[short-k-1][i]]\n",
    "            poi.append([short-k-1,i])\n",
    "res"
   ]
  }
 ],
 "metadata": {
  "kernelspec": {
   "display_name": "Python 3",
   "language": "python",
   "name": "python3"
  },
  "language_info": {
   "codemirror_mode": {
    "name": "ipython",
    "version": 3
   },
   "file_extension": ".py",
   "mimetype": "text/x-python",
   "name": "python",
   "nbconvert_exporter": "python",
   "pygments_lexer": "ipython3",
   "version": "3.6.5"
  }
 },
 "nbformat": 4,
 "nbformat_minor": 2
}
