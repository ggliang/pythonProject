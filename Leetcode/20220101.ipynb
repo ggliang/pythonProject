{
 "cells": [
  {
   "cell_type": "code",
   "execution_count": 36,
   "id": "345e879e",
   "metadata": {},
   "outputs": [],
   "source": [
    "class ListNode:\n",
    "    def __init__(self, val=0, next=None):\n",
    "        self.val = val\n",
    "        self.next = next\n",
    "list1 = ListNode()\n",
    "list2 = ListNode()\n",
    "p1 = list1\n",
    "p1.val = 1\n",
    "p1.next = ListNode(2)\n",
    "p1 = p1.next\n",
    "p1.next = ListNode(4)\n",
    "\n",
    "p2 = list2\n",
    "p2.val = 1\n",
    "p2.next = ListNode(3)\n",
    "p2 = p2.next\n",
    "p2.next = ListNode(4)"
   ]
  },
  {
   "cell_type": "code",
   "execution_count": 32,
   "id": "f0753e8a",
   "metadata": {},
   "outputs": [
    {
     "name": "stdout",
     "output_type": "stream",
     "text": [
      "4\n"
     ]
    }
   ],
   "source": [
    "class ListNode:\n",
    "    def __init__(self, val=0, next=None):\n",
    "        self.val = val\n",
    "        self.next = next\n",
    "list1 = ListNode()\n",
    "list2 = ListNode()\n",
    "p1 = list1\n",
    "p1.val = 1\n",
    "p1.next = ListNode(2)\n",
    "p1 = p1.next\n",
    "p1.next = ListNode(4)\n",
    "\n",
    "p2 = list2\n",
    "p2.val = 1\n",
    "p2.next = ListNode(3)\n",
    "p2 = p2.next\n",
    "p2.next = ListNode(4)\n",
    "def gothr(listnode):\n",
    "    while listnode.next:\n",
    "        print(listnode.val)\n",
    "        listnode = listnode.next\n",
    "    print(listnode.val)\n",
    "def mergeTwoLists(list1,list2):\n",
    "    p1 = list1\n",
    "    p2 = list2\n",
    "    while p1.next and p2.next:\n",
    "        if p1.next.val>=p2.val:\n",
    "            temp = p2.next\n",
    "            p2.next = p1.next\n",
    "            p1.next = p2\n",
    "            p2 = temp\n",
    "            p1 = p1.next\n",
    "        else:\n",
    "            p1 = p1.next\n",
    "    if p2.next!=None and p1.next!=None:\n",
    "        if p1.next.val<p2.val:\n",
    "            p1.next.next = p2\n",
    "        elif p2.val<=p1.val:\n",
    "            p2.next = p1\n",
    "            list1 = p2\n",
    "        else:\n",
    "            p1.next\n",
    "            \n",
    "#     gothr(list1)\n",
    "    return p2\n",
    "gothr(mergeTwoLists(list1,list2))\n"
   ]
  },
  {
   "cell_type": "code",
   "execution_count": 60,
   "id": "cede3eec",
   "metadata": {},
   "outputs": [
    {
     "name": "stdout",
     "output_type": "stream",
     "text": [
      "1\n",
      "2\n",
      "3\n",
      "7\n",
      "8\n",
      "9\n"
     ]
    }
   ],
   "source": [
    "class ListNode:\n",
    "    def __init__(self, val=0, next=None):\n",
    "        self.val = val\n",
    "        self.next = next\n",
    "list1 = ListNode()\n",
    "list2 = ListNode()\n",
    "p1 = list1\n",
    "p1.val = 1\n",
    "p1.next = ListNode(2)\n",
    "p1 = p1.next\n",
    "p1.next = ListNode(3)\n",
    "\n",
    "p2 = list2\n",
    "p2.val = 7\n",
    "p2.next = ListNode(8)\n",
    "p2 = p2.next\n",
    "p2.next = ListNode(9)\n",
    "def mergeTwoLists(list1,list2):\n",
    "    p1 = list1\n",
    "    p2 = list2\n",
    "    if not p1:\n",
    "        return list2\n",
    "    elif not p2:\n",
    "        return list1\n",
    "    else:\n",
    "        if p1.val<=p2.val:\n",
    "            list3 = ListNode(p1.val)\n",
    "            p3 = list3\n",
    "            p1 = p1.next\n",
    "        else:\n",
    "            list3 = ListNode(p2.val)\n",
    "            p3 = list3\n",
    "            p2 = p2.next\n",
    "        while p1 and p2:\n",
    "            if p1.val>=p2.val:\n",
    "                p3.next = ListNode(p2.val)\n",
    "                p3 = p3.next\n",
    "                p2 = p2.next\n",
    "            else:\n",
    "                p3.next = ListNode(p1.val)\n",
    "                p3 = p3.next\n",
    "                p1 = p1.next\n",
    "        if not p1:\n",
    "            p3.next = p2\n",
    "        else:\n",
    "            p3.next = p1\n",
    "    return list3\n",
    "gothr(mergeTwoLists(list1,list2))"
   ]
  },
  {
   "cell_type": "code",
   "execution_count": null,
   "id": "27e73ddc",
   "metadata": {},
   "outputs": [],
   "source": []
  },
  {
   "cell_type": "code",
   "execution_count": null,
   "id": "3f979ae2",
   "metadata": {},
   "outputs": [],
   "source": [
    "class ListNode:\n",
    "    def __init__(self, val=0, next=None):\n",
    "        self.val = val\n",
    "        self.next = next\n",
    "list1 = ListNode()\n",
    "list2 = ListNode()\n",
    "p1 = list1\n",
    "p1.val = 1\n",
    "p1.next = ListNode(2)\n",
    "p1 = p1.next\n",
    "p1.next = ListNode(4)\n",
    "\n",
    "p2 = list2\n",
    "p2.val = 1\n",
    "p2.next = ListNode(3)\n",
    "p2 = p2.next\n",
    "p2.next = ListNode(4)\n",
    "def mergeTwoLists(list1,list2):\n",
    "    p1 = list1\n",
    "    p2 = list2\n",
    "    if not p1:\n",
    "        return list2\n",
    "    elif not p2:\n",
    "        return list1\n",
    "    else:"
   ]
  },
  {
   "cell_type": "code",
   "execution_count": 65,
   "id": "64c9170a",
   "metadata": {},
   "outputs": [
    {
     "data": {
      "text/plain": [
       "[]"
      ]
     },
     "execution_count": 65,
     "metadata": {},
     "output_type": "execute_result"
    }
   ],
   "source": [
    "n = 3\n",
    "dic = {'(':')'}\n",
    "# stack = ['('*3]\n",
    "def recur(cur,n):\n",
    "#     stack = ['('*n]\n",
    "    res = []\n",
    "    if len(stack)==0:\n",
    "        res.append(cur)\n",
    "        return\n",
    "    for i in range(n):\n",
    "        recur(cur+'('+dic[stack.pop()],n-1)\n",
    "    return res\n",
    "recur(\"\",1)"
   ]
  },
  {
   "cell_type": "code",
   "execution_count": 72,
   "id": "b4d48d3a",
   "metadata": {},
   "outputs": [
    {
     "data": {
      "text/plain": [
       "['()()', '(())', '()()', '(())', '()()', '(())', '()()', '(())']"
      ]
     },
     "execution_count": 72,
     "metadata": {},
     "output_type": "execute_result"
    }
   ],
   "source": [
    "n = 2\n",
    "dic = {'(':')'}\n",
    "res = []\n",
    "def recur(cur,n):\n",
    "    stack = ['(' for i in range(n)]\n",
    "    if len(stack)==0:\n",
    "        res.append(cur)\n",
    "        return\n",
    "    for i in range(n):\n",
    "        recur(cur+'('+dic[stack[-1]],n-1)\n",
    "        recur('('+cur+dic[stack[-1]],n-1)\n",
    "    return res\n",
    "return recur(\"\",n)"
   ]
  },
  {
   "cell_type": "code",
   "execution_count": null,
   "id": "6e3fb86d",
   "metadata": {},
   "outputs": [],
   "source": [
    "n = 2\n",
    "dic = {'(':')'}\n",
    "res = []\n",
    "def recur(cur,n):\n",
    "    stack = ['(' for i in range(n)]\n",
    "    if len(stack)==0:\n",
    "        res.append(cur)\n",
    "        return\n",
    "    for i in range(n):\n",
    "        recur(cur+'('+dic[stack[-1]],n-1)\n",
    "        recur('('+cur+dic[stack[-1]],n-1)\n",
    "    return res\n",
    "return recur(\"\",n)"
   ]
  },
  {
   "cell_type": "code",
   "execution_count": 93,
   "id": "c2ba5b1a",
   "metadata": {},
   "outputs": [
    {
     "data": {
      "text/plain": [
       "['()()()', '(()())', '()(())', '(())()', '((()))']"
      ]
     },
     "execution_count": 93,
     "metadata": {},
     "output_type": "execute_result"
    }
   ],
   "source": [
    "n = 3\n",
    "res = []\n",
    "def recur(cur,n):\n",
    "    if n==0:\n",
    "        if cur not in res:\n",
    "            res.append(cur)\n",
    "        return \n",
    "    for i in range(1,n+1):\n",
    "        recur('('*i+')'*i+cur,n-i)\n",
    "        recur(cur+'('*i+')'*i,n-i)\n",
    "        recur('('*i+cur+')'*i,n-i)\n",
    "    return res\n",
    "res = recur(\"\",3)\n"
   ]
  },
  {
   "cell_type": "code",
   "execution_count": 95,
   "id": "50a5e046",
   "metadata": {},
   "outputs": [
    {
     "name": "stdout",
     "output_type": "stream",
     "text": [
      "(()())(()())\n"
     ]
    }
   ],
   "source": [
    "b = [\"(((((())))))\",\"((((()()))))\",\"((((())())))\",\"((((()))()))\",\"((((())))())\",\"((((()))))()\",\"(((()(()))))\",\"(((()()())))\",\"(((()())()))\",\"(((()()))())\",\"(((()())))()\",\"(((())(())))\",\"(((())()()))\",\"(((())())())\",\"(((())()))()\",\"(((()))(()))\",\"(((()))()())\",\"(((()))())()\",\"(((())))(())\",\"(((())))()()\",\"((()((()))))\",\"((()(()())))\",\"((()(())()))\",\"((()(()))())\",\"((()(())))()\",\"((()()(())))\",\"((()()()()))\",\"((()()())())\",\"((()()()))()\",\"((()())(()))\",\"((()())()())\",\"((()())())()\",\"((()()))(())\",\"((()()))()()\",\"((())((())))\",\"((())(()()))\",\"((())(())())\",\"((())(()))()\",\"((())()(()))\",\"((())()()())\",\"((())()())()\",\"((())())(())\",\"((())())()()\",\"((()))((()))\",\"((()))(()())\",\"((()))(())()\",\"((()))()(())\",\"((()))()()()\",\"(()(((()))))\",\"(()((()())))\",\"(()((())()))\",\"(()((()))())\",\"(()((())))()\",\"(()(()(())))\",\"(()(()()()))\",\"(()(()())())\",\"(()(()()))()\",\"(()(())(()))\",\"(()(())()())\",\"(()(())())()\",\"(()(()))(())\",\"(()(()))()()\",\"(()()((())))\",\"(()()(()()))\",\"(()()(())())\",\"(()()(()))()\",\"(()()()(()))\",\"(()()()()())\",\"(()()()())()\",\"(()()())(())\",\"(()()())()()\",\"(()())((()))\",\"(()())(()())\",\"(()())(())()\",\"(()())()(())\",\"(()())()()()\",\"(())(((())))\",\"(())((()()))\",\"(())((())())\",\"(())((()))()\",\"(())(()(()))\",\"(())(()()())\",\"(())(()())()\",\"(())(())(())\",\"(())(())()()\",\"(())()((()))\",\"(())()(()())\",\"(())()(())()\",\"(())()()(())\",\"(())()()()()\",\"()((((()))))\",\"()(((()())))\",\"()(((())()))\",\"()(((()))())\",\"()(((())))()\",\"()((()(())))\",\"()((()()()))\",\"()((()())())\",\"()((()()))()\",\"()((())(()))\",\"()((())()())\",\"()((())())()\",\"()((()))(())\",\"()((()))()()\",\"()(()((())))\",\"()(()(()()))\",\"()(()(())())\",\"()(()(()))()\",\"()(()()(()))\",\"()(()()()())\",\"()(()()())()\",\"()(()())(())\",\"()(()())()()\",\"()(())((()))\",\"()(())(()())\",\"()(())(())()\",\"()(())()(())\",\"()(())()()()\",\"()()(((())))\",\"()()((()()))\",\"()()((())())\",\"()()((()))()\",\"()()(()(()))\",\"()()(()()())\",\"()()(()())()\",\"()()(())(())\",\"()()(())()()\",\"()()()((()))\",\"()()()(()())\",\"()()()(())()\",\"()()()()(())\",\"()()()()()()\"]\n",
    "a = [\"()()()()()()\",\"(()()()()())\",\"()(()()()())\",\"(()()()())()\",\"((()()()()))\",\"(())()()()()\",\"()()()()(())\",\"()()(()()())\",\"()(()()())()\",\"(()(()()()))\",\"(()()())()()\",\"((()()())())\",\"()((()()()))\",\"((()()()))()\",\"(((()()())))\",\"(())(()()())\",\"(()()())(())\",\"()(())()()()\",\"((())()()())\",\"()()()(())()\",\"(()()()(()))\",\"((()))()()()\",\"()()()((()))\",\"()()()(()())\",\"()()(()())()\",\"(()()(()()))\",\"()(()())()()\",\"(()(()())())\",\"()(()(()()))\",\"(()(()()))()\",\"((()(()())))\",\"(())()(()())\",\"()(()())(())\",\"(()())()()()\",\"((()())()())\",\"()((()())())\",\"((()())())()\",\"(((()())()))\",\"(())(()())()\",\"(()())()(())\",\"()()((()()))\",\"()((()()))()\",\"(()((()())))\",\"((()()))()()\",\"(((()()))())\",\"()(((()())))\",\"(((()())))()\",\"((((()()))))\",\"(())((()()))\",\"((()()))(())\",\"()(())(()())\",\"((())(()()))\",\"(()())(())()\",\"((()())(()))\",\"((()))(()())\",\"(()())((()))\",\"()()(())()()\",\"(()(())()())\",\"()((())()())\",\"((())()())()\",\"(((())()()))\",\"(())(())()()\",\"(())()()(())\",\"(()()(())())\",\"()(()()(()))\",\"(()()(()))()\",\"((()()(())))\",\"()()(())(())\",\"()((()))()()\",\"(((()))()())\",\"()()((()))()\",\"(()()((())))\",\"(((())))()()\",\"()()(((())))\",\"()(()(())())\",\"(()(())())()\",\"((()(())()))\",\"(())()(())()\",\"()(())()(())\",\"()()(()(()))\",\"()(()(()))()\",\"(()(()(())))\",\"(()(()))()()\",\"((()(()))())\",\"()((()(())))\",\"((()(())))()\",\"(((()(()))))\",\"(())(()(()))\",\"(()(()))(())\",\"((())()(()))\",\"()(())(())()\",\"(()(())(()))\",\"((()))()(())\",\"()(())((()))\",\"()()((())())\",\"()((())())()\",\"(()((())()))\",\"((())())()()\",\"(((())())())\",\"()(((())()))\",\"(((())()))()\",\"((((())())))\",\"(())((())())\",\"((())())(())\",\"((())(())())\",\"((()))(())()\",\"(())()((()))\",\"(()((()))())\",\"()(()((())))\",\"(()((())))()\",\"((()((()))))\",\"()((()))(())\",\"()(((()))())\",\"(((()))())()\",\"((((()))()))\",\"(())((()))()\",\"()(((())))()\",\"(()(((()))))\",\"((((())))())\",\"()((((()))))\",\"((((()))))()\",\"(((((())))))\",\"(())(((())))\",\"(((())))(())\",\"((())((())))\",\"(((()))(()))\",\"((()))((()))\",\"()((())(()))\",\"((())(()))()\",\"(((())(())))\",\"(())(())(())\"]\n",
    "a.sort()\n",
    "b.sort()\n",
    "for i in range(len(b)):\n",
    "    if(a[i]!=b[i]):\n",
    "        print(b[i])\n",
    "        break"
   ]
  },
  {
   "cell_type": "code",
   "execution_count": null,
   "id": "a9d5830f",
   "metadata": {},
   "outputs": [],
   "source": [
    "n = 4\n",
    "res = []\n",
    "dic = {'(':')'}\n",
    "def recur(cur,n):\n",
    "    stack = ['(' for i in range(n)]\n",
    "    if len(stack)==0:\n",
    "        if cur not in res:\n",
    "            res.append(cur)\n",
    "        return cur\n",
    "    for i in range(n):\n",
    "        recur(cur,i)\n",
    "        \n",
    "recur(\"\",4)"
   ]
  },
  {
   "cell_type": "code",
   "execution_count": null,
   "id": "cca3a054",
   "metadata": {},
   "outputs": [],
   "source": [
    "n = 4\n",
    "def recur(n):\n",
    "    for i in range(n):\n",
    "        recur(i+1)+recur(n-i-1)"
   ]
  }
 ],
 "metadata": {
  "kernelspec": {
   "display_name": "Python 3",
   "language": "python",
   "name": "python3"
  },
  "language_info": {
   "codemirror_mode": {
    "name": "ipython",
    "version": 3
   },
   "file_extension": ".py",
   "mimetype": "text/x-python",
   "name": "python",
   "nbconvert_exporter": "python",
   "pygments_lexer": "ipython3",
   "version": "3.8.8"
  }
 },
 "nbformat": 4,
 "nbformat_minor": 5
}
