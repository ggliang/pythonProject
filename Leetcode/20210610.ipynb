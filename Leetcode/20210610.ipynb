{
 "cells": [
  {
   "cell_type": "code",
   "execution_count": 26,
   "metadata": {},
   "outputs": [
    {
     "name": "stdout",
     "output_type": "stream",
     "text": [
      "0 1 1 1 1 0\n",
      "1 1 2 1 0 0\n",
      "2 3 3 2 2 1\n",
      "3 3 4 2 1 1\n",
      "4 3 5 2 0 1\n",
      "5 3 6 2 1 1\n",
      "6 7 7 3 3 5\n",
      "7 7 8 3 2 5\n",
      "8 7 9 3 1 5\n",
      "9 10 10 2 2 6\n",
      "10 10 11 2 1 6\n",
      "11 10 12 2 0 6\n"
     ]
    }
   ],
   "source": [
    "height = [0,1,0,2,1,0,1,3,2,1,2,1]\n",
    "height_n = height+[0]\n",
    "left = 0\n",
    "right = 0\n",
    "res = 0\n",
    "n = len(height)\n",
    "for i in range(len(height_n)-1):\n",
    "    if(height_n[i+1] >= height_n[i] and left==right):\n",
    "        left+=1\n",
    "        right+=1\n",
    "    elif(height_n[i+1] < height_n[i] or height_n[right] < height_n[left]):\n",
    "        right+=1\n",
    "    if(height_n[right] >= height_n[left] or (height_n[i+1]>height_n[i] and height_n[right+1]<= height_n[right])):\n",
    "        tall=min(height_n[left],height[right])\n",
    "        for j in range(left,right):\n",
    "            if(tall-height_n[j]>0):\n",
    "                res=res+tall-height_n[j]\n",
    "        left=right\n",
    "    print(i,left,right,height_n[left],height_n[right],res)\n",
    "    "
   ]
  },
  {
   "cell_type": "code",
   "execution_count": 28,
   "metadata": {},
   "outputs": [
    {
     "name": "stdout",
     "output_type": "stream",
     "text": [
      "0 0 1 4 3 0\n",
      "1 0 2 4 1 0\n",
      "2 3 3 2 2 1\n",
      "3 3 4 2 1 1\n",
      "4 5 5 4 4 2\n",
      "5 5 6 4 0 2\n"
     ]
    }
   ],
   "source": [
    "height = [4,3,1,2,1,4]\n",
    "height_n = height+[0]\n",
    "left = 0\n",
    "right = 0\n",
    "res = 0\n",
    "n = len(height)\n",
    "for i in range(len(height_n)-1):\n",
    "    if(height_n[i+1] >= height_n[i] and left==right):\n",
    "        left+=1\n",
    "        right+=1\n",
    "    elif(height_n[i+1] < height_n[i] or height_n[right] < height_n[left]):\n",
    "        right+=1\n",
    "    if(height_n[right] >= height_n[left] or (height_n[i+1]>height_n[i] and height_n[right+1]<= height_n[right])):\n",
    "        tall=min(height_n[left],height[right])\n",
    "        for j in range(left,right):\n",
    "            if(tall-height_n[j]>0):\n",
    "                res=res+tall-height_n[j]\n",
    "        left=right\n",
    "    print(i,left,right,height_n[left],height_n[right],res)\n",
    "    "
   ]
  },
  {
   "cell_type": "code",
   "execution_count": 57,
   "metadata": {},
   "outputs": [
    {
     "name": "stdout",
     "output_type": "stream",
     "text": [
      "83\n"
     ]
    }
   ],
   "source": [
    "height = [6,4,2,0,3,2,0,3,1,4,5,3,2,7,5,3,0,1,2,1,3,4,6,8,1,3]\n",
    "if height:\n",
    "    tallest = max(height)\n",
    "else:\n",
    "    tallest=0\n",
    "height_col=[]\n",
    "for i in range(tallest,0,-1):\n",
    "    height_col.append(i)\n",
    "idx=[]\n",
    "res=0\n",
    "for i in range(len(height_col)):\n",
    "    idx.append([])\n",
    "    for j in range(len(height)):\n",
    "        if(height[j]>=height_col[i]):\n",
    "            idx[i].append(j)\n",
    "for i in range(len(idx)):\n",
    "    for j in range(len(idx[i])):\n",
    "        try:\n",
    "            res=res+idx[i][j+1]-idx[i][j]-1\n",
    "        except:\n",
    "            res=res+0\n",
    "print(res)"
   ]
  },
  {
   "cell_type": "code",
   "execution_count": 65,
   "metadata": {},
   "outputs": [
    {
     "data": {
      "text/plain": [
       "6"
      ]
     },
     "execution_count": 65,
     "metadata": {},
     "output_type": "execute_result"
    }
   ],
   "source": [
    "height = [0,1,0,2,1,0,1,3,2,1,2,1]\n",
    "res=0\n",
    "if( not height):\n",
    "    return 0\n",
    "else:\n",
    "    for i in range(len(height)):\n",
    "        left_max=0\n",
    "        right_max=0\n",
    "        for j in range(i,-1,-1):\n",
    "            if(height[j]>left_max):\n",
    "                left_max = height[j]\n",
    "        for j in range(i,len(height)):\n",
    "            if(height[j]>right_max):\n",
    "                right_max = height[j]\n",
    "        res=res+min(left_max,right_max)-height[i]\n",
    "    return res\n",
    "                \n",
    "        "
   ]
  }
 ],
 "metadata": {
  "kernelspec": {
   "display_name": "Python 3",
   "language": "python",
   "name": "python3"
  },
  "language_info": {
   "codemirror_mode": {
    "name": "ipython",
    "version": 3
   },
   "file_extension": ".py",
   "mimetype": "text/x-python",
   "name": "python",
   "nbconvert_exporter": "python",
   "pygments_lexer": "ipython3",
   "version": "3.6.5"
  }
 },
 "nbformat": 4,
 "nbformat_minor": 2
}
