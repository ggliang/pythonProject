{
 "cells": [
  {
   "cell_type": "code",
   "execution_count": 17,
   "metadata": {},
   "outputs": [
    {
     "name": "stdout",
     "output_type": "stream",
     "text": [
      "0\n"
     ]
    }
   ],
   "source": [
    "nums = [1]\n",
    "target = 0\n",
    "res = -1\n",
    "for i in range(len(nums)):\n",
    "    if nums[i] == target:\n",
    "        res=i\n",
    "if(res==-1):\n",
    "    for i in range(len(nums)):\n",
    "        try:\n",
    "            if(nums[i]>target):\n",
    "                res=i\n",
    "                break\n",
    "            else:\n",
    "                res=i+1\n",
    "        except:\n",
    "            res=len(nums)\n",
    "print(res)\n",
    "\n"
   ]
  },
  {
   "cell_type": "code",
   "execution_count": null,
   "metadata": {},
   "outputs": [],
   "source": [
    "candidates = [2,3,6,7]\n",
    "target = 7\n",
    "output=[]\n",
    "for i in candidates:\n",
    "    res=target-i\n",
    "    if(res>=0):\n",
    "        output.append(i)\n",
    "    else:\n",
    "        output=[]\n",
    "    while res>0"
   ]
  },
  {
   "cell_type": "code",
   "execution_count": 26,
   "metadata": {},
   "outputs": [
    {
     "name": "stdout",
     "output_type": "stream",
     "text": [
      "[[], []]\n"
     ]
    }
   ],
   "source": [
    "candidates = [2,3]\n",
    "target = 7\n",
    "output=[]\n",
    "output_final=[]\n",
    "res=target\n",
    "for i in range(len(candidates)-1,-1,-1):\n",
    "    while res>0 and i > -1:\n",
    "        if(res-candidates[i]<0):\n",
    "            i-=1\n",
    "            output=[]\n",
    "        elif(res-candidates[i]==0):\n",
    "            res=res-candidates[i]\n",
    "            output.append(candidates[i])\n",
    "        else:\n",
    "            res=res-candidates[i]\n",
    "            output.append(candidates[i])\n",
    "\n",
    "    output_final.append(output)\n",
    "    output=[]\n",
    "print(output_final)"
   ]
  },
  {
   "cell_type": "code",
   "execution_count": 51,
   "metadata": {},
   "outputs": [
    {
     "name": "stdout",
     "output_type": "stream",
     "text": [
      "120\n"
     ]
    }
   ],
   "source": [
    "\n",
    "def gg1(idx):\n",
    "    if(idx==1):\n",
    "        return idx\n",
    "    idx=idx*gg1(idx-1)\n",
    "    return idx\n",
    "c=gg1(5)\n",
    "print(c)"
   ]
  },
  {
   "cell_type": "code",
   "execution_count": 59,
   "metadata": {},
   "outputs": [
    {
     "name": "stdout",
     "output_type": "stream",
     "text": [
      "['a', 'b', 'c']\n"
     ]
    }
   ],
   "source": [
    "def permute(list, s):\n",
    "    if list == 1:\n",
    "        return s\n",
    "    else:\n",
    "        return [ x for x in permute(list - 1, s) ]\n",
    "\n",
    "# print(permute(1, [\"a\",\"b\",\"c\"]))\n",
    "print(permute(3, [\"a\",\"b\",\"c\"]))"
   ]
  },
  {
   "cell_type": "code",
   "execution_count": 66,
   "metadata": {},
   "outputs": [
    {
     "name": "stdout",
     "output_type": "stream",
     "text": [
      "[[2, 2, 3], [7]]\n"
     ]
    }
   ],
   "source": [
    "candidates = [2,3,6,7]\n",
    "target = 7\n",
    "res=[]\n",
    "n = len(candidates)\n",
    "def digui(cur,cur_sum,idx):\n",
    "    if(cur_sum > target):\n",
    "        return\n",
    "    if(cur_sum == target):\n",
    "        res.append(cur)\n",
    "        return\n",
    "    for i in range(idx,n):\n",
    "        digui(cur+[candidates[i]],cur_sum+candidates[i],i)\n",
    "    return res\n",
    "ans=digui([],0,0)\n",
    "print(ans)"
   ]
  },
  {
   "cell_type": "code",
   "execution_count": 73,
   "metadata": {},
   "outputs": [
    {
     "name": "stdout",
     "output_type": "stream",
     "text": [
      "[[], [], [[2]], [], [], [], [], []]\n",
      "[[], [], [[2]], [[3]], [[2, 2]], [], [[2, 2, 2]], []]\n",
      "[[2, 2, 3]]\n"
     ]
    }
   ],
   "source": [
    "candidates = [2,3]\n",
    "target = 7\n",
    "dp = [[] for i in range(target+1)]\n",
    "for c in candidates:                                  # O(N): for each candidate\n",
    "    for i in range(c, target+1):                      # O(M): for each possible value <= target\n",
    "        if i == c: \n",
    "            dp[i].append([c])\n",
    "            \n",
    "        for comb in dp[i-c]: \n",
    "            dp[i].append(comb + [c]) # O(M) worst: for each combination\n",
    "print(dp[-1]) "
   ]
  }
 ],
 "metadata": {
  "kernelspec": {
   "display_name": "Python 3",
   "language": "python",
   "name": "python3"
  },
  "language_info": {
   "codemirror_mode": {
    "name": "ipython",
    "version": 3
   },
   "file_extension": ".py",
   "mimetype": "text/x-python",
   "name": "python",
   "nbconvert_exporter": "python",
   "pygments_lexer": "ipython3",
   "version": "3.6.5"
  }
 },
 "nbformat": 4,
 "nbformat_minor": 2
}
