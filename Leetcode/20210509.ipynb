{
 "cells": [
  {
   "cell_type": "code",
   "execution_count": null,
   "metadata": {},
   "outputs": [],
   "source": []
  },
  {
   "cell_type": "code",
   "execution_count": 39,
   "metadata": {},
   "outputs": [],
   "source": [
    "# Definition for singly-linked list.\n",
    "class ListNode:\n",
    "    def __init__(self, val, next=None):\n",
    "        self.val = val\n",
    "        self.next = next\n",
    "\n",
    "        "
   ]
  },
  {
   "cell_type": "code",
   "execution_count": 90,
   "metadata": {},
   "outputs": [],
   "source": [
    "\n"
   ]
  },
  {
   "cell_type": "code",
   "execution_count": null,
   "metadata": {},
   "outputs": [],
   "source": []
  },
  {
   "cell_type": "code",
   "execution_count": 100,
   "metadata": {},
   "outputs": [
    {
     "name": "stdout",
     "output_type": "stream",
     "text": [
      "8\n",
      "0\n",
      "1\n"
     ]
    }
   ],
   "source": [
    "class Solution:\n",
    "    def addTwoNumbers(self, l1: ListNode, l2: ListNode) -> ListNode:\n",
    "        head=ListNode(l1.val+l2.val)\n",
    "        cur=head\n",
    "        while (l1.next or l2.next):\n",
    "\n",
    "            if(l1.next==None):\n",
    "                a=0\n",
    "            else:\n",
    "                l1=l1.next\n",
    "                a=l1.val\n",
    "            if(l2.next==None):\n",
    "                b=0\n",
    "            else:\n",
    "                l2=l2.next\n",
    "                b=l2.val\n",
    "            node=ListNode(a+b)\n",
    "            cur.next=node\n",
    "            cur=cur.next\n",
    "        cur=head\n",
    "        temp=0\n",
    "        while (cur):\n",
    "            if(cur.val+temp>=10):\n",
    "                cur.val=(cur.val+temp)%10\n",
    "                temp=1\n",
    "                if(cur.next==None and temp==1):\n",
    "                    node=ListNode(1)\n",
    "                    cur.next=node\n",
    "                    temp=0\n",
    "                cur=cur.next\n",
    "            else:\n",
    "                cur.val=(cur.val+temp)%10\n",
    "                temp=0\n",
    "                cur=cur.next\n",
    "            \n",
    "        return head\n",
    "gg=Solution()\n",
    "cur=gg.addTwoNumbers(gg1,gg2)\n",
    "\n",
    "print(cur.val)\n",
    "cur=cur.next\n",
    "print(cur.val)\n",
    "cur=cur.next\n",
    "print(cur.val)\n",
    "cur=cur.next\n"
   ]
  },
  {
   "cell_type": "code",
   "execution_count": 102,
   "metadata": {},
   "outputs": [
    {
     "name": "stdout",
     "output_type": "stream",
     "text": [
      "8\n",
      "0\n",
      "1\n"
     ]
    }
   ],
   "source": [
    "class Solution:\n",
    "    def addTwoNumbers(self, l1: ListNode, l2: ListNode) -> ListNode:\n",
    "        head=ListNode(0)\n",
    "        cur=head\n",
    "        carry=0\n",
    "        while l1 or l2 or carry:\n",
    "            val1 = (l1.val if l1 else 0)\n",
    "            val2 = (l2.val if l2 else 0)\n",
    "            \n",
    "            carry,out = divmod(val1+val2+carry,10)\n",
    "            \n",
    "            cur.next=ListNode(out)\n",
    "            cur=cur.next\n",
    "            \n",
    "            l1= (l1.next if l1 else None)\n",
    "            l2= (l2.next if l2 else None)\n",
    "            \n",
    "        return head.next\n",
    "\n",
    "gg=Solution()\n",
    "cur=gg.addTwoNumbers(gg1,gg2)\n",
    "\n",
    "print(cur.val)\n",
    "cur=cur.next\n",
    "print(cur.val)\n",
    "cur=cur.next\n",
    "print(cur.val)\n",
    "cur=cur.next\n"
   ]
  }
 ],
 "metadata": {
  "kernelspec": {
   "display_name": "Python 3",
   "language": "python",
   "name": "python3"
  },
  "language_info": {
   "codemirror_mode": {
    "name": "ipython",
    "version": 3
   },
   "file_extension": ".py",
   "mimetype": "text/x-python",
   "name": "python",
   "nbconvert_exporter": "python",
   "pygments_lexer": "ipython3",
   "version": "3.6.5"
  }
 },
 "nbformat": 4,
 "nbformat_minor": 2
}
