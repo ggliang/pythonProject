{
 "cells": [
  {
   "cell_type": "code",
   "execution_count": 7,
   "metadata": {},
   "outputs": [
    {
     "name": "stdout",
     "output_type": "stream",
     "text": [
      "-10\n"
     ]
    }
   ],
   "source": [
    "triangle = [[-10]]\n",
    "n = len(triangle)\n",
    "min_sum=0\n",
    "for i in range(n):\n",
    "    min_sum+=triangle[i][0]\n",
    "def incursion(cur_sum,cur_row,cur_col):\n",
    "    global min_sum\n",
    "    if(cur_row == n):\n",
    "        if(cur_sum<min_sum):\n",
    "            min_sum = cur_sum\n",
    "        return\n",
    "    incursion(cur_sum+triangle[cur_row][cur_col],cur_row+1,cur_col)\n",
    "    incursion(cur_sum+triangle[cur_row][cur_col],cur_row+1,cur_col+1)\n",
    "if(n == 1):\n",
    "    print(triangle[0][0])\n",
    "else:\n",
    "    incursion(0,0,0)\n",
    "    print(min_sum)\n",
    "    "
   ]
  },
  {
   "cell_type": "code",
   "execution_count": 8,
   "metadata": {},
   "outputs": [
    {
     "name": "stdout",
     "output_type": "stream",
     "text": [
      "11\n"
     ]
    }
   ],
   "source": [
    "triangle = [[2],[3,4],[6,5,7],[4,1,8,3]]\n",
    "n = len(triangle)\n",
    "if(n == 1):\n",
    "    print(triangle[0][0])\n",
    "else:\n",
    "    for i in range(n-2,-1,-1):\n",
    "        for j in range(len(triangle[i])):\n",
    "            triangle[i][j]+= min(triangle[i+1][j],triangle[i+1][j+1])\n",
    "    print(triangle[0][0])"
   ]
  },
  {
   "cell_type": "code",
   "execution_count": 14,
   "metadata": {},
   "outputs": [
    {
     "data": {
      "text/plain": [
       "3"
      ]
     },
     "execution_count": 14,
     "metadata": {},
     "output_type": "execute_result"
    }
   ],
   "source": [
    "prices = [1,4,2]\n",
    "max_profit = 0\n",
    "n = len(prices)\n",
    "low = prices[0]\n",
    "for i in range(1,n):\n",
    "    \n",
    "    if(prices[i]-low>max_profit):\n",
    "        max_profit = prices[i]-low\n",
    "    \n",
    "    if(prices[i]<low):\n",
    "        low = prices[i]\n",
    "max_profit"
   ]
  },
  {
   "cell_type": "code",
   "execution_count": 12,
   "metadata": {},
   "outputs": [
    {
     "data": {
      "text/plain": [
       "7"
      ]
     },
     "execution_count": 12,
     "metadata": {},
     "output_type": "execute_result"
    }
   ],
   "source": [
    "prices = [7,1,5,3,6,4]\n",
    "n = len(prices)\n",
    "profit = 0\n",
    "for i in range(1,n):\n",
    "    profit+=max(prices[i]-prices[i-1],0)\n",
    "profit"
   ]
  },
  {
   "cell_type": "code",
   "execution_count": 39,
   "metadata": {},
   "outputs": [
    {
     "data": {
      "text/plain": [
       "13"
      ]
     },
     "execution_count": 39,
     "metadata": {},
     "output_type": "execute_result"
    }
   ],
   "source": [
    "prices = [1,2,4,2,5,7,2,4,9,0]\n",
    "n = len(prices)\n",
    "profit = 0\n",
    "max_profit = 0\n",
    "forward_profit = []\n",
    "cur_min = prices[0]\n",
    "for i in range(n):\n",
    "    cur_min = min(cur_min,prices[i])\n",
    "    profit = max(profit,prices[i]-cur_min)\n",
    "    forward_profit.append(profit)\n",
    "cur_max = prices[-1]\n",
    "profit = 0\n",
    "for i in range(n-1,-1,-1):\n",
    "    cur_max = max(cur_max,prices[i])\n",
    "    profit = max(profit,cur_max-prices[i])\n",
    "    max_profit = max(max_profit,profit+forward_profit[i])\n",
    "max_profit"
   ]
  }
 ],
 "metadata": {
  "kernelspec": {
   "display_name": "Python 3",
   "language": "python",
   "name": "python3"
  },
  "language_info": {
   "codemirror_mode": {
    "name": "ipython",
    "version": 3
   },
   "file_extension": ".py",
   "mimetype": "text/x-python",
   "name": "python",
   "nbconvert_exporter": "python",
   "pygments_lexer": "ipython3",
   "version": "3.6.5"
  }
 },
 "nbformat": 4,
 "nbformat_minor": 2
}
