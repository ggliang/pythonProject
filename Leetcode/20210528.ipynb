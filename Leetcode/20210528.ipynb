{
 "cells": [
  {
   "cell_type": "code",
   "execution_count": 10,
   "metadata": {},
   "outputs": [
    {
     "name": "stdout",
     "output_type": "stream",
     "text": [
      "gg1\n",
      "--------------------\n",
      "gg2\n",
      "--------------------\n",
      "gg3\n",
      "--------------------\n",
      "gg444--------------------\n"
     ]
    }
   ],
   "source": [
    "from collections import deque\n",
    "def search(lines, pattern, history=0):\n",
    "    previous_lines = deque(maxlen=history)\n",
    "    for line in lines:\n",
    "        if pattern in line:\n",
    "            yield line, previous_lines\n",
    "        previous_lines.append(line)\n",
    "# Example use on a file\n",
    "# if __name__ == '__main__':\n",
    "with open('C://Users//gg//Desktop//files.txt') as f:\n",
    "    for line, prevlines in search(f, 'gg', 0):\n",
    "        for pline in prevlines:\n",
    "            print(pline, end='')\n",
    "        print(line, end='')\n",
    "        print('-'*20)"
   ]
  },
  {
   "cell_type": "code",
   "execution_count": 23,
   "metadata": {},
   "outputs": [
    {
     "data": {
      "text/plain": [
       "[4, 5, 2]"
      ]
     },
     "execution_count": 23,
     "metadata": {},
     "output_type": "execute_result"
    }
   ],
   "source": [
    "from collections import deque\n",
    "q = deque(maxlen=3)\n",
    "q.append(3)\n",
    "q.append(4)\n",
    "q.append(5)\n",
    "q.append(2)\n",
    "p=list(q)\n",
    "p"
   ]
  },
  {
   "cell_type": "code",
   "execution_count": 67,
   "metadata": {},
   "outputs": [
    {
     "name": "stdout",
     "output_type": "stream",
     "text": [
      "gg2\n"
     ]
    }
   ],
   "source": [
    "print(\"gg\"+\"2\")"
   ]
  },
  {
   "cell_type": "code",
   "execution_count": 19,
   "metadata": {},
   "outputs": [
    {
     "ename": "TypeError",
     "evalue": "'int' object is not iterable",
     "output_type": "error",
     "traceback": [
      "\u001b[1;31m---------------------------------------------------------------------------\u001b[0m",
      "\u001b[1;31mTypeError\u001b[0m                                 Traceback (most recent call last)",
      "\u001b[1;32m<ipython-input-19-66ca6726c4d9>\u001b[0m in \u001b[0;36m<module>\u001b[1;34m()\u001b[0m\n\u001b[0;32m      1\u001b[0m \u001b[0ma\u001b[0m\u001b[1;33m=\u001b[0m\u001b[1;33m[\u001b[0m\u001b[1;33m-\u001b[0m\u001b[1;36m1\u001b[0m\u001b[1;33m,\u001b[0m\u001b[1;36m2\u001b[0m\u001b[1;33m,\u001b[0m\u001b[1;36m1\u001b[0m\u001b[1;33m,\u001b[0m\u001b[1;33m-\u001b[0m\u001b[1;36m4\u001b[0m\u001b[1;33m]\u001b[0m\u001b[1;33m\u001b[0m\u001b[0m\n\u001b[0;32m      2\u001b[0m \u001b[0mtarget\u001b[0m\u001b[1;33m=\u001b[0m\u001b[1;36m1\u001b[0m\u001b[1;33m\u001b[0m\u001b[0m\n\u001b[1;32m----> 3\u001b[1;33m \u001b[0mpoi\u001b[0m\u001b[1;33m,\u001b[0m\u001b[0mi\u001b[0m\u001b[1;33m=\u001b[0m\u001b[1;36m0\u001b[0m\u001b[1;33m\u001b[0m\u001b[0m\n\u001b[0m\u001b[0;32m      4\u001b[0m \u001b[0mj\u001b[0m\u001b[1;33m=\u001b[0m\u001b[1;36m1\u001b[0m\u001b[1;33m\u001b[0m\u001b[0m\n\u001b[0;32m      5\u001b[0m \u001b[0mk\u001b[0m\u001b[1;33m=\u001b[0m\u001b[1;36m2\u001b[0m\u001b[1;33m\u001b[0m\u001b[0m\n",
      "\u001b[1;31mTypeError\u001b[0m: 'int' object is not iterable"
     ]
    }
   ],
   "source": [
    "a=[-1,2,1,-4]\n",
    "target=1\n",
    "poi,i=0\n",
    "j=1\n",
    "k=2\n",
    "res=target+a[i]+a[j]+a[k]\n",
    "# for i in range(len(a)-2):\n",
    "#     for j in range(i+1,len(a)-1):\n",
    "#         for k in range(j+1,len(a)):\n",
    "#             if(abs(target-a[i]-a[j]-a[k])<res):\n",
    "#                 res=abs(target-a[i]-a[j]-a[k])\n",
    "#                 return a[i]+a[j]+a[k]"
   ]
  },
  {
   "cell_type": "code",
   "execution_count": 36,
   "metadata": {},
   "outputs": [
    {
     "name": "stdout",
     "output_type": "stream",
     "text": [
      "0\n",
      "1\n",
      "3\n"
     ]
    }
   ],
   "source": [
    "nums = [0,2,1,-3]\n",
    "target = 1\n",
    "nums.sort()\n",
    "res=abs(target-nums[0]-nums[1]-nums[2])\n",
    "for i in range(len(nums)-2):\n",
    "    second=i+1\n",
    "    third=len(nums)-1\n",
    "    while second<third:\n",
    "        if(abs(target-nums[i]-nums[second]-nums[third])<res):\n",
    "            res=abs(target-nums[i]-nums[second]-nums[third])\n",
    "        elif(target-nums[0]-nums[1]-nums[2])\n",
    "        \n"
   ]
  },
  {
   "cell_type": "code",
   "execution_count": 61,
   "metadata": {},
   "outputs": [
    {
     "name": "stdout",
     "output_type": "stream",
     "text": [
      "-1\n"
     ]
    }
   ],
   "source": [
    "nums = [1,1,-1,-1,3]\n",
    "target=-1\n",
    "nums.sort()\n",
    "po1=0\n",
    "po2=1\n",
    "po3=len(nums)-1\n",
    "res=abs(target-nums[po1]-nums[po2]-nums[po3])\n",
    "for i in range(len(nums)-2):\n",
    "    second=i+1\n",
    "    third=len(nums)-1\n",
    "    while second<third:\n",
    "        if(abs(target-nums[i]-nums[second]-nums[third])<res):\n",
    "            res=abs(target-nums[i]-nums[second]-nums[third])\n",
    "            po1=i\n",
    "            po2=second\n",
    "            po3=third\n",
    "        elif(target-nums[i]-nums[second]-nums[third]>0):\n",
    "            second+=1\n",
    "        else:\n",
    "            third-=1\n",
    "print(nums[po1]+nums[po2]+nums[po3])\n"
   ]
  },
  {
   "cell_type": "code",
   "execution_count": 70,
   "metadata": {},
   "outputs": [
    {
     "name": "stdout",
     "output_type": "stream",
     "text": [
      "0 1 2 4\n",
      "0 2 3 4\n",
      "1 2 3 4\n",
      "[]\n"
     ]
    }
   ],
   "source": [
    "nums = [2,2,2,2,2]\n",
    "nums.sort()\n",
    "target = 8\n",
    "result=[]\n",
    "if(len(nums)<4):\n",
    "    print(\"[]\")\n",
    "else:\n",
    "    for i in range(len(nums)-3):\n",
    "        for j in range(i+1,len(nums)-2):\n",
    "            third=j+1\n",
    "            fourth=len(nums)-1\n",
    "            print(i,j,third,fourth)\n",
    "            while third < fourth:\n",
    "                if(nums[i]+nums[j]+nums[third]+nums[fourth]==0 and [nums[i],nums[j],nums[third],nums[fourth]] not in result):\n",
    "                    result.append([nums[i],nums[j],nums[third],nums[fourth]])\n",
    "                elif(nums[i]+nums[j]+nums[third]+nums[fourth]<0):\n",
    "                    third+=1\n",
    "                else:\n",
    "                    fourth-=1\n",
    "    print(result)\n",
    "                    "
   ]
  }
 ],
 "metadata": {
  "kernelspec": {
   "display_name": "Python 3",
   "language": "python",
   "name": "python3"
  },
  "language_info": {
   "codemirror_mode": {
    "name": "ipython",
    "version": 3
   },
   "file_extension": ".py",
   "mimetype": "text/x-python",
   "name": "python",
   "nbconvert_exporter": "python",
   "pygments_lexer": "ipython3",
   "version": "3.6.5"
  }
 },
 "nbformat": 4,
 "nbformat_minor": 2
}
