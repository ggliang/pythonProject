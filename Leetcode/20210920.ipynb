{
 "cells": [
  {
   "cell_type": "code",
   "execution_count": 6,
   "id": "1433811f",
   "metadata": {},
   "outputs": [],
   "source": [
    "x = 11\n",
    "a_list = list(str(x))\n",
    "left = 0\n",
    "right = len(a_list)-1\n",
    "while left!=right and right != left+1:\n",
    "    if(a_list[left]==a_list[right]):\n",
    "        left+=1\n",
    "        right-=1\n",
    "        continue\n",
    "    else:\n",
    "        print(\"False\")"
   ]
  },
  {
   "cell_type": "code",
   "execution_count": 17,
   "id": "7f8ac746",
   "metadata": {},
   "outputs": [
    {
     "name": "stdout",
     "output_type": "stream",
     "text": [
      "MCMXCIV\n"
     ]
    }
   ],
   "source": [
    "num = 1994\n",
    "thousand = num//1000\n",
    "num -= thousand*1000\n",
    "hundred = num//100\n",
    "num -= hundred*100\n",
    "ten = num//10\n",
    "num -= ten*10\n",
    "thousand_d = {0:\"\",1:\"M\",2:\"MM\",3:\"MMM\"}\n",
    "hundred_d = {0:\"\",1:\"C\",2:\"CC\",3:\"CCC\",4:\"CD\",5:\"D\",6:\"DC\",7:\"DCC\",8:\"DCCC\",9:\"CM\"}\n",
    "ten_d = {0:\"\",1:\"X\",2:\"XX\",3:\"XXX\",4:\"XL\",5:\"L\",6:\"LX\",7:\"LXX\",8:\"LXXX\",9:\"XC\"}\n",
    "num_d = {0:\"\",1:\"I\",2:\"II\",3:\"III\",4:\"IV\",5:\"V\",6:\"VI\",7:\"VII\",8:\"VIII\",9:\"IX\"}\n",
    "print(thousand_d[thousand]+hundred_d[hundred]+ten_d[ten]+num_d[num])"
   ]
  },
  {
   "cell_type": "code",
   "execution_count": 21,
   "id": "c9649a2a",
   "metadata": {},
   "outputs": [
    {
     "data": {
      "text/plain": [
       "1994"
      ]
     },
     "execution_count": 21,
     "metadata": {},
     "output_type": "execute_result"
    }
   ],
   "source": [
    "s = \"MCMXCIV\"\n",
    "dict_rom = {\"M\":1000,\"D\":500,\"C\":100,\"L\":50,\"X\":10,\"V\":5,\"I\":1}\n",
    "if len(s) == 1:\n",
    "    return dict_rom[s]\n",
    "else:\n",
    "    left = 0\n",
    "    res = 0\n",
    "    while left<len(s)-1:\n",
    "        res+=dict_rom[s[left]]\n",
    "        if(dict_rom[s[left]]<dict_rom[s[left+1]]):\n",
    "            res-=2*dict_rom[s[left]]\n",
    "        left+=1\n",
    "    res+=dict_rom[s[-1]]\n",
    "return res"
   ]
  }
 ],
 "metadata": {
  "kernelspec": {
   "display_name": "Python 3",
   "language": "python",
   "name": "python3"
  },
  "language_info": {
   "codemirror_mode": {
    "name": "ipython",
    "version": 3
   },
   "file_extension": ".py",
   "mimetype": "text/x-python",
   "name": "python",
   "nbconvert_exporter": "python",
   "pygments_lexer": "ipython3",
   "version": "3.8.8"
  }
 },
 "nbformat": 4,
 "nbformat_minor": 5
}
