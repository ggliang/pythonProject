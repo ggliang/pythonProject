{
 "cells": [
  {
   "cell_type": "code",
   "execution_count": null,
   "metadata": {},
   "outputs": [],
   "source": [
    "gas = [1,2,3,4,5]\n",
    "cost = [3,4,5,1,2]\n",
    "n = len(gas)\n",
    "for station in range(n):\n",
    "    prior = (station-1)%n\n",
    "    while prior!=station:\n",
    "        "
   ]
  },
  {
   "cell_type": "code",
   "execution_count": 28,
   "metadata": {},
   "outputs": [
    {
     "data": {
      "text/plain": [
       "3"
      ]
     },
     "execution_count": 28,
     "metadata": {},
     "output_type": "execute_result"
    }
   ],
   "source": [
    "gas = [1,2,3,4,5]\n",
    "cost = [3,4,5,1,2]\n",
    "n = len(gas)\n",
    "start = -1\n",
    "for station in range(n):\n",
    "    next_ = (station+1)%n\n",
    "    cur = (next_-1)%n\n",
    "    gas_need = 0\n",
    "    gas_supply = 0\n",
    "    while next_!=station:\n",
    "        gas_need += cost[cur]\n",
    "        gas_supply += gas[cur]\n",
    "        if(gas_need > gas_supply):\n",
    "            break\n",
    "        next_ = (next_+1)%n\n",
    "        cur = (next_-1)%n\n",
    "    gas_need += cost[cur]\n",
    "    gas_supply += gas[cur]\n",
    "    if(next_ == station and gas_supply>=gas_need):\n",
    "        start = station\n",
    "start"
   ]
  },
  {
   "cell_type": "code",
   "execution_count": 52,
   "metadata": {},
   "outputs": [
    {
     "data": {
      "text/plain": [
       "4"
      ]
     },
     "execution_count": 52,
     "metadata": {},
     "output_type": "execute_result"
    }
   ],
   "source": [
    "gas = [6,1,4,3,5]\n",
    "cost = [3,8,2,4,2]\n",
    "diff = []\n",
    "n = len(gas)\n",
    "for i in range(n):\n",
    "    diff.append(gas[i]-cost[i])\n",
    "if(sum(gas)<sum(cost)):\n",
    "    print(-1)\n",
    "else:\n",
    "    start = 0\n",
    "    cul = 0\n",
    "    for i in range(n):\n",
    "        cul+=diff[i]\n",
    "        if(cul>=0):\n",
    "            continue\n",
    "        else:\n",
    "            start=i\n",
    "    if(gas[start]-cost[start]<0):\n",
    "        start+=1\n",
    "start"
   ]
  },
  {
   "cell_type": "code",
   "execution_count": 55,
   "metadata": {},
   "outputs": [
    {
     "data": {
      "text/plain": [
       "2"
      ]
     },
     "execution_count": 55,
     "metadata": {},
     "output_type": "execute_result"
    }
   ],
   "source": [
    "gas = [1,2,3,4,5]\n",
    "cost = [3,4,5,1,2]\n",
    "diff = []\n",
    "n = len(gas)\n",
    "for i in range(n):\n",
    "    diff.append(gas[i]-cost[i])\n",
    "if(sum(gas)<sum(cost)):\n",
    "    print(-1)\n",
    "else:\n",
    "    start = 0\n",
    "    cul = 0\n",
    "    for i in range(n):\n",
    "        cul+=diff[i]\n",
    "        if(cul<0):\n",
    "            cul=0\n",
    "            start=i\n",
    "        else:\n",
    "            continue\n",
    "    if(gas[start]-cost[start]<0):\n",
    "        start+=1\n",
    "start"
   ]
  }
 ],
 "metadata": {
  "kernelspec": {
   "display_name": "Python 3",
   "language": "python",
   "name": "python3"
  },
  "language_info": {
   "codemirror_mode": {
    "name": "ipython",
    "version": 3
   },
   "file_extension": ".py",
   "mimetype": "text/x-python",
   "name": "python",
   "nbconvert_exporter": "python",
   "pygments_lexer": "ipython3",
   "version": "3.6.5"
  }
 },
 "nbformat": 4,
 "nbformat_minor": 2
}
