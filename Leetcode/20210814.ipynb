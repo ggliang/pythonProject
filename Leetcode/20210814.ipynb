{
 "cells": [
  {
   "cell_type": "code",
   "execution_count": 10,
   "metadata": {},
   "outputs": [
    {
     "data": {
      "text/plain": [
       "4"
      ]
     },
     "execution_count": 10,
     "metadata": {},
     "output_type": "execute_result"
    }
   ],
   "source": [
    "ratings = [1,2,2]\n",
    "n = len(ratings)\n",
    "left2right = [ 1 for i in range(n)]\n",
    "right2left = [ 1 for i in range(n)]\n",
    "for i in range(1,n):\n",
    "    if(ratings[i]>ratings[i-1]):\n",
    "        left2right[i]=left2right[i-1]+1\n",
    "    else:\n",
    "        left2right[i] = 1\n",
    "for i in range(-2,-n-1,-1):\n",
    "    if(ratings[i]>ratings[i+1]):\n",
    "        right2left[i] = right2left[i+1]+1\n",
    "    else:\n",
    "        right2left[i] = 1\n",
    "res = 0\n",
    "for i in range(n):\n",
    "    res+=max(left2right[i],right2left[i])\n",
    "res"
   ]
  },
  {
   "cell_type": "code",
   "execution_count": 15,
   "metadata": {},
   "outputs": [
    {
     "name": "stdout",
     "output_type": "stream",
     "text": [
      "1\n"
     ]
    }
   ],
   "source": [
    "nums = [2,2,1]\n",
    "nums.sort()\n",
    "poi = 0\n",
    "while poi<len(nums)-1:\n",
    "    if(nums[poi]==nums[poi+1]):\n",
    "        poi+=2\n",
    "    else:\n",
    "        break\n",
    "print(nums[poi])"
   ]
  },
  {
   "cell_type": "code",
   "execution_count": 27,
   "metadata": {},
   "outputs": [
    {
     "data": {
      "text/plain": [
       "22"
      ]
     },
     "execution_count": 27,
     "metadata": {},
     "output_type": "execute_result"
    }
   ],
   "source": [
    "tokens = [\"10\",\"6\",\"9\",\"3\",\"+\",\"-11\",\"*\",\"/\",\"*\",\"17\",\"+\",\"5\",\"+\"]\n",
    "poi = 0\n",
    "cur = 0\n",
    "while len(tokens)>2:\n",
    "    if(tokens[poi] == '+'):\n",
    "        tokens.pop(poi)\n",
    "        tokens[poi-2] = int(tokens[poi-2])+int(tokens[poi-1])\n",
    "        tokens.pop(poi-1)\n",
    "        poi -=2\n",
    "    elif(tokens[poi] == '-'):\n",
    "        tokens.pop(poi)\n",
    "        tokens[poi-2] = int(tokens[poi-2])-int(tokens[poi-1])\n",
    "        tokens.pop(poi-1)\n",
    "        poi -=2\n",
    "    elif(tokens[poi] == '*'):\n",
    "        tokens.pop(poi)\n",
    "        tokens[poi-2] = int(tokens[poi-2])*int(tokens[poi-1])\n",
    "        tokens.pop(poi-1)\n",
    "        poi -=2\n",
    "    elif(tokens[poi] == '/'):\n",
    "        tokens.pop(poi)\n",
    "        tokens[poi-2] = int(tokens[poi-2])/int(tokens[poi-1])\n",
    "        tokens.pop(poi-1)\n",
    "        poi -=2\n",
    "    poi+=1\n",
    "tokens[0]"
   ]
  },
  {
   "cell_type": "code",
   "execution_count": 32,
   "metadata": {},
   "outputs": [
    {
     "data": {
      "text/plain": [
       "[22]"
      ]
     },
     "execution_count": 32,
     "metadata": {},
     "output_type": "execute_result"
    }
   ],
   "source": [
    "tokens = [\"10\",\"6\",\"9\",\"3\",\"+\",\"-11\",\"*\",\"/\",\"*\",\"17\",\"+\",\"5\",\"+\"]\n",
    "stack = []\n",
    "for i in tokens:\n",
    "    if(i not in '+-*/'):\n",
    "        stack.append(int(i))\n",
    "    else:\n",
    "        r,l=stack.pop(),stack.pop()\n",
    "        if(i=='+'):\n",
    "            stack.append(l+r)\n",
    "        elif(i=='-'):\n",
    "            stack.append(l-r)\n",
    "        elif(i=='*'):\n",
    "            stack.append(l*r)\n",
    "        else:\n",
    "            stack.append(int(l/r))\n",
    "stack"
   ]
  }
 ],
 "metadata": {
  "kernelspec": {
   "display_name": "Python 3",
   "language": "python",
   "name": "python3"
  },
  "language_info": {
   "codemirror_mode": {
    "name": "ipython",
    "version": 3
   },
   "file_extension": ".py",
   "mimetype": "text/x-python",
   "name": "python",
   "nbconvert_exporter": "python",
   "pygments_lexer": "ipython3",
   "version": "3.6.5"
  }
 },
 "nbformat": 4,
 "nbformat_minor": 2
}
