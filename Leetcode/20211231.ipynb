{
 "cells": [
  {
   "cell_type": "code",
   "execution_count": 21,
   "id": "de664020",
   "metadata": {},
   "outputs": [],
   "source": [
    "def isMatch(s,p):\n",
    "    n = len(s)\n",
    "    m = len(p)\n",
    "    point_s = 0\n",
    "    point_p = 0\n",
    "    result = False\n",
    "    while point_s<n and point_p<m:\n",
    "        if(s[point_s]==p[point_p] or p[point_p]=='.'):\n",
    "            point_s+=1\n",
    "            point_p+=1\n",
    "#         elif p[point_p]=='*' and point_p==m-1:\n",
    "#             return True\n",
    "        elif p[point_p]=='*'and point_p!=m-1:\n",
    "            point_p+=1\n",
    "            for i in range(point_n,n):\n",
    "                if(s[i]==p[point_p]):\n",
    "                    point_s = i\n",
    "        else:\n",
    "            return False\n",
    "#     print(point_p)\n",
    "    if point_s==n and p[point_p]=='*':\n",
    "        return True\n",
    "    elif p[point_p]=='*' and point_p==m-1:\n",
    "        return True\n",
    "    elif point_s==n and p[point_p]=='.':\n",
    "        return False\n",
    "    else:\n",
    "        return False\n",
    "isMatch(\"a\",\"a*b\")"
   ]
  },
  {
   "cell_type": "code",
   "execution_count": null,
   "id": "3ff623af",
   "metadata": {},
   "outputs": [],
   "source": [
    "def isMatch(s,p):\n",
    "    n = len(s)\n",
    "    m = len(p)\n",
    "    point_s = 0\n",
    "    point_p = 0\n",
    "    while point_s<n and point_p<m:\n",
    "        if(s[point_s]==p[point_p] or p[point_p]=='.'):\n",
    "            point_s+=1\n",
    "            point_p+=1\n",
    "        if(p[point_p]=='*' and point_p==m-1):\n",
    "            return True\n",
    "    if point_s==n and point_p==m:\n",
    "        if s[point_s]==p[point_p] or p[point_p]=='*' or p[point_p]=='.':\n",
    "            return True\n",
    "        else:\n",
    "            return False\n",
    "    elif point_s==n:\n",
    "        if p[point_p]=='*':\n",
    "            return True\n",
    "        else:\n",
    "            return False\n",
    "    else:\n",
    "        if p[point_p]=='*':\n",
    "            return True\n",
    "        else:\n",
    "            return False\n",
    "        "
   ]
  },
  {
   "cell_type": "code",
   "execution_count": 34,
   "id": "84dceffc",
   "metadata": {},
   "outputs": [
    {
     "data": {
      "text/plain": [
       "True"
      ]
     },
     "execution_count": 34,
     "metadata": {},
     "output_type": "execute_result"
    }
   ],
   "source": [
    "def isMatch(s,p):\n",
    "    n = len(s)\n",
    "    m = len(p)\n",
    "    point_s = 0\n",
    "    point_p = 0\n",
    "    while point_s<n-1 and point_p<m-1:\n",
    "        if(s[point_s]==p[point_p] or p[point_p]=='.'):\n",
    "            point_s+=1\n",
    "            point_p+=1\n",
    "        elif \n",
    "\n",
    "    if point_s==n-1 and point_p==m-1:\n",
    "        if s[point_s]==p[point_p] or p[point_p]=='*' or p[point_p]=='.':\n",
    "            return True\n",
    "        else:\n",
    "            return False\n",
    "    else:\n",
    "        if p[point_p]=='*' and point_p==m-1:\n",
    "            return True\n",
    "        else:\n",
    "            return False\n",
    "isMatch(\"adc\",\"a*\")"
   ]
  },
  {
   "cell_type": "code",
   "execution_count": 39,
   "id": "c7c197ca",
   "metadata": {},
   "outputs": [
    {
     "data": {
      "text/plain": [
       "''"
      ]
     },
     "execution_count": 39,
     "metadata": {},
     "output_type": "execute_result"
    }
   ],
   "source": [
    "def isValid(s):\n",
    "    n = len(s)\n",
    "    count = 0\n",
    "    if n%2!=0:\n",
    "        return False\n",
    "    else:\n",
    "        while count<100:\n",
    "            s = s.replace('()','')\n",
    "            s = s.replace('[]','')\n",
    "            s = s.replace('{}','')\n",
    "            count+=1\n",
    "    if s =='':\n",
    "        return True\n",
    "    else:\n",
    "        return False\n",
    "\n",
    "isValid(\"{[]}\")"
   ]
  },
  {
   "cell_type": "code",
   "execution_count": 37,
   "id": "bd0bc58e",
   "metadata": {},
   "outputs": [
    {
     "data": {
      "text/plain": [
       "'14'"
      ]
     },
     "execution_count": 37,
     "metadata": {},
     "output_type": "execute_result"
    }
   ],
   "source": [
    "def isValid(s):\n",
    "    n = len(s)\n",
    "    if n%2!=0:\n",
    "        return False\n",
    "    else:\n",
    "        stack = []\n",
    "        d = {'(':')','[':']','{':'}'}\n",
    "        for i in s:\n",
    "            if i in d.keys():\n",
    "                stack.append(i)\n",
    "            elif len(stack)==0 or i!=d[stack.pop()]:\n",
    "                return False\n",
    "        return len(stack)==0"
   ]
  }
 ],
 "metadata": {
  "kernelspec": {
   "display_name": "Python 3",
   "language": "python",
   "name": "python3"
  },
  "language_info": {
   "codemirror_mode": {
    "name": "ipython",
    "version": 3
   },
   "file_extension": ".py",
   "mimetype": "text/x-python",
   "name": "python",
   "nbconvert_exporter": "python",
   "pygments_lexer": "ipython3",
   "version": "3.8.8"
  }
 },
 "nbformat": 4,
 "nbformat_minor": 5
}
