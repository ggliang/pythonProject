{
 "cells": [
  {
   "cell_type": "code",
   "execution_count": 29,
   "id": "22d88902",
   "metadata": {},
   "outputs": [
    {
     "name": "stdout",
     "output_type": "stream",
     "text": [
      "['flo', 'flow', 'fw']\n"
     ]
    },
    {
     "data": {
      "text/plain": [
       "''"
      ]
     },
     "execution_count": 29,
     "metadata": {},
     "output_type": "execute_result"
    }
   ],
   "source": [
    "strs = [\"fw\",\"flow\",\"flo\"]\n",
    "strs.sort()\n",
    "print(strs)\n",
    "i=0\n",
    "s = strs[0][0]\n",
    "res = ''\n",
    "while s==strs[0][:i+1] and s==strs[-1][:i+1]:\n",
    "    res = s\n",
    "    try:\n",
    "        i+=1\n",
    "        s+=strs[0][i]\n",
    "    except:\n",
    "        break\n",
    "res"
   ]
  },
  {
   "cell_type": "code",
   "execution_count": 57,
   "id": "ae9c6705",
   "metadata": {},
   "outputs": [
    {
     "data": {
      "text/plain": [
       "False"
      ]
     },
     "execution_count": 57,
     "metadata": {},
     "output_type": "execute_result"
    }
   ],
   "source": [
    "a_dict = {'2':['a','b','c'],'3':['d','e','f'],'4':['g','h','i'],\n",
    "          '5':['j','k','l'],'6':['m','n','o'],'7':['p','q','r','s'],\n",
    "          '8':['t','u','v'],'9':['w','x','y','z']}\n",
    "if digits == '':\n",
    "    return []\n",
    "else:\n",
    "    digits = list(digits)\n",
    "    res = []\n",
    "    def com_num(cur_str,res_dig):\n",
    "        if res_dig==[]:\n",
    "            res.append(cur_str)\n",
    "            return \n",
    "        else:\n",
    "            for char in a_dict[res_dig[0]]:\n",
    "                com_num(cur_str+char,res_dig[1:])\n",
    "    com_num('',digits)\n",
    "    return res"
   ]
  },
  {
   "cell_type": "code",
   "execution_count": 78,
   "id": "7af83ec1",
   "metadata": {},
   "outputs": [
    {
     "ename": "AttributeError",
     "evalue": "'NoneType' object has no attribute 'next'",
     "output_type": "error",
     "traceback": [
      "\u001b[1;31m---------------------------------------------------------------------------\u001b[0m",
      "\u001b[1;31mAttributeError\u001b[0m                            Traceback (most recent call last)",
      "\u001b[1;32m<ipython-input-78-f580a26d78a1>\u001b[0m in \u001b[0;36m<module>\u001b[1;34m\u001b[0m\n\u001b[0;32m     16\u001b[0m \u001b[0mpoint\u001b[0m \u001b[1;33m=\u001b[0m \u001b[0ma\u001b[0m\u001b[1;33m\u001b[0m\u001b[1;33m\u001b[0m\u001b[0m\n\u001b[0;32m     17\u001b[0m \u001b[1;32mwhile\u001b[0m \u001b[0mcount2\u001b[0m \u001b[1;33m!=\u001b[0m \u001b[0mcount\u001b[0m\u001b[1;33m-\u001b[0m\u001b[0mn\u001b[0m\u001b[1;33m-\u001b[0m\u001b[1;36m1\u001b[0m\u001b[1;33m:\u001b[0m\u001b[1;33m\u001b[0m\u001b[1;33m\u001b[0m\u001b[0m\n\u001b[1;32m---> 18\u001b[1;33m     \u001b[0mpoint\u001b[0m \u001b[1;33m=\u001b[0m \u001b[0mpoint\u001b[0m\u001b[1;33m.\u001b[0m\u001b[0mnext\u001b[0m\u001b[1;33m\u001b[0m\u001b[1;33m\u001b[0m\u001b[0m\n\u001b[0m\u001b[0;32m     19\u001b[0m     \u001b[0mcount2\u001b[0m\u001b[1;33m+=\u001b[0m\u001b[1;36m1\u001b[0m\u001b[1;33m\u001b[0m\u001b[1;33m\u001b[0m\u001b[0m\n\u001b[0;32m     20\u001b[0m \u001b[0mpoint\u001b[0m\u001b[1;33m.\u001b[0m\u001b[0mvalue\u001b[0m\u001b[1;33m\u001b[0m\u001b[1;33m\u001b[0m\u001b[0m\n",
      "\u001b[1;31mAttributeError\u001b[0m: 'NoneType' object has no attribute 'next'"
     ]
    }
   ],
   "source": [
    "class ListNode():\n",
    "    def __init__(self,value):\n",
    "        self.next = None\n",
    "        self.value = value\n",
    "a = ListNode(1)\n",
    "b = ListNode(2)\n",
    "a.next = b\n",
    "n = 2\n",
    "count = 1\n",
    "point = a\n",
    "\n",
    "while point.next!=None:\n",
    "    count+=1\n",
    "    point = point.next\n",
    "count2 = 0\n",
    "point = a\n",
    "while count2 != count-n-1:\n",
    "    point = point.next\n",
    "    count2+=1\n",
    "point.value"
   ]
  }
 ],
 "metadata": {
  "kernelspec": {
   "display_name": "Python 3",
   "language": "python",
   "name": "python3"
  },
  "language_info": {
   "codemirror_mode": {
    "name": "ipython",
    "version": 3
   },
   "file_extension": ".py",
   "mimetype": "text/x-python",
   "name": "python",
   "nbconvert_exporter": "python",
   "pygments_lexer": "ipython3",
   "version": "3.8.8"
  }
 },
 "nbformat": 4,
 "nbformat_minor": 5
}
