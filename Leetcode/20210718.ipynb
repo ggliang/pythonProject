{
 "cells": [
  {
   "cell_type": "code",
   "execution_count": 15,
   "metadata": {},
   "outputs": [
    {
     "name": "stdout",
     "output_type": "stream",
     "text": [
      "4\n",
      "4\n",
      "4\n",
      "4\n"
     ]
    }
   ],
   "source": [
    "n = 4\n",
    "loop = int((n-1)/2)\n",
    "res = []\n",
    "for i in range(loop+1):\n",
    "#     for j in range(i,n-i-1):\n",
    "#         print(n*i+j+1)\n",
    "    for k in range(i,n-i-1):\n",
    "        print(k*(i+1)+n-i)"
   ]
  },
  {
   "cell_type": "code",
   "execution_count": 48,
   "metadata": {
    "scrolled": true
   },
   "outputs": [
    {
     "data": {
      "text/plain": [
       "[1, 2, 3, 6, 9, 8, 7, 4, 5]"
      ]
     },
     "execution_count": 48,
     "metadata": {},
     "output_type": "execute_result"
    }
   ],
   "source": [
    "n = 3\n",
    "loop = int((n-1)/2)\n",
    "res = []\n",
    "for i in range(loop+1):\n",
    "    for j in range(i+1,n-i):  #上行，循环列数\n",
    "        res.append(n*i+j)\n",
    "    for j in range(i+1,n-i):  #右列，循环行数\n",
    "        res.append(n*j-i)\n",
    "    for j in range(i,n-i-1):  #下行，循环列数\n",
    "        res.append((n-i)*n-j)\n",
    "    for j in range(i,n-i-1):  #左列，循环行数\n",
    "        res.append(n*(n-1-j)+i+1)\n",
    "if i*n+i+1 not in res:\n",
    "    res.append(i*n+i+1)\n",
    "\n",
    "res"
   ]
  },
  {
   "cell_type": "code",
   "execution_count": 49,
   "metadata": {},
   "outputs": [
    {
     "data": {
      "text/plain": [
       "[[1, 2, 3], [6, 9, 8], [7, 4, 5]]"
      ]
     },
     "execution_count": 49,
     "metadata": {},
     "output_type": "execute_result"
    }
   ],
   "source": [
    "res_n=[]\n",
    "for i in range(n):\n",
    "    res_n.append([])\n",
    "for i in range(n):\n",
    "    for j in range(n):\n",
    "        res_n[i].append(res[i*n+j])\n",
    "res_n"
   ]
  },
  {
   "cell_type": "code",
   "execution_count": 60,
   "metadata": {},
   "outputs": [
    {
     "data": {
      "text/plain": [
       "[[1, 2, 3, 4], [12, 13, 14, 5], [11, 16, 15, 6], [10, 9, 8, 7]]"
      ]
     },
     "execution_count": 60,
     "metadata": {},
     "output_type": "execute_result"
    }
   ],
   "source": [
    "n = 4\n",
    "loop = int((n-1)/2)\n",
    "res=[]\n",
    "for i in range(n):\n",
    "    res.append([])\n",
    "    for j in range(n):\n",
    "        res[i].append(None)\n",
    "count=0\n",
    "for i in range(loop+1):\n",
    "    for j in range(i,n-i-1):  #上行，循环列数\n",
    "        res[i][j]=count+1\n",
    "        count+=1\n",
    "    for j in range(i,n-i-1):  #右列，循环行数\n",
    "        res[j][n-i-1]=count+1\n",
    "        count+=1\n",
    "    for j in range(i+1,n-i):  #下行，循环列数\n",
    "        res[n-i-1][n-j]=count+1\n",
    "        count+=1\n",
    "    for j in range(i+1,n-i):  #左列，循环行数\n",
    "        res[n-j][i]=count+1\n",
    "        count+=1\n",
    "if(res[i][i]==None):\n",
    "    res[i][i]=count+1\n",
    "res"
   ]
  },
  {
   "cell_type": "code",
   "execution_count": 66,
   "metadata": {},
   "outputs": [
    {
     "data": {
      "text/plain": [
       "[[None, None, None, None],\n",
       " [None, None, None, None],\n",
       " [None, None, None, None],\n",
       " [None, None, None, None]]"
      ]
     },
     "execution_count": 66,
     "metadata": {},
     "output_type": "execute_result"
    }
   ],
   "source": [
    "A = [[None] * n for i in range(n)]\n",
    "A"
   ]
  },
  {
   "cell_type": "code",
   "execution_count": 82,
   "metadata": {},
   "outputs": [
    {
     "data": {
      "text/plain": [
       "1"
      ]
     },
     "execution_count": 82,
     "metadata": {},
     "output_type": "execute_result"
    }
   ],
   "source": [
    "from functools import lru_cache\n",
    "obstacleGrid = [[1]]\n",
    "# count=0\n",
    "i=0\n",
    "j=0\n",
    "@lru_cache(None)\n",
    "def digui(cur_i,cur_j):\n",
    "    if(cur_i==len(obstacleGrid)-1 and cur_j==len(obstacleGrid[0])-1):\n",
    "        return 1\n",
    "    if(obstacleGrid[cur_i][cur_j]==1):\n",
    "        return 0\n",
    "    count=0\n",
    "    if(cur_i<len(obstacleGrid)-1):\n",
    "        count+=digui(cur_i+1,cur_j)\n",
    "    if(cur_j<len(obstacleGrid[0])-1):\n",
    "        count+=digui(cur_i,cur_j+1)\n",
    "    return count\n",
    "digui(0,0)"
   ]
  }
 ],
 "metadata": {
  "kernelspec": {
   "display_name": "Python 3",
   "language": "python",
   "name": "python3"
  },
  "language_info": {
   "codemirror_mode": {
    "name": "ipython",
    "version": 3
   },
   "file_extension": ".py",
   "mimetype": "text/x-python",
   "name": "python",
   "nbconvert_exporter": "python",
   "pygments_lexer": "ipython3",
   "version": "3.6.5"
  }
 },
 "nbformat": 4,
 "nbformat_minor": 2
}
