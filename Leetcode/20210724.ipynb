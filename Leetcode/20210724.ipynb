{
 "cells": [
  {
   "cell_type": "code",
   "execution_count": 9,
   "metadata": {},
   "outputs": [
    {
     "data": {
      "text/plain": [
       "[2, 5, 6, 6, 7, 8]"
      ]
     },
     "execution_count": 9,
     "metadata": {},
     "output_type": "execute_result"
    }
   ],
   "source": [
    "nums1 = [6,7,8,0,0,0]\n",
    "m = 3\n",
    "nums2 = [2,5,6]\n",
    "n = 3\n",
    "while m>0 and n>0:\n",
    "    if(nums2[n-1]>=nums1[m-1]):\n",
    "        nums1[m+n-1]=nums2[n-1]\n",
    "        n-=1\n",
    "    else:\n",
    "        nums1[m+n-1]=nums1[m-1]\n",
    "        m-=1\n",
    "if(n>0):\n",
    "    nums1[0:n]=nums2[0:n]\n",
    "nums1"
   ]
  },
  {
   "cell_type": "code",
   "execution_count": 10,
   "metadata": {},
   "outputs": [
    {
     "data": {
      "text/plain": [
       "[[], [1], [1, 2], [1, 2, 2], [2], [2, 2]]"
      ]
     },
     "execution_count": 10,
     "metadata": {},
     "output_type": "execute_result"
    }
   ],
   "source": [
    "nums = [1,2,2]\n",
    "N=len(nums)\n",
    "res=[]\n",
    "def digui(cur,idx):\n",
    "    if(cur not in res):\n",
    "        res.append(cur)\n",
    "    for i in range(idx,N):\n",
    "        digui(cur+[nums[i]],i+1)\n",
    "digui([],0)\n",
    "return res"
   ]
  }
 ],
 "metadata": {
  "kernelspec": {
   "display_name": "Python 3",
   "language": "python",
   "name": "python3"
  },
  "language_info": {
   "codemirror_mode": {
    "name": "ipython",
    "version": 3
   },
   "file_extension": ".py",
   "mimetype": "text/x-python",
   "name": "python",
   "nbconvert_exporter": "python",
   "pygments_lexer": "ipython3",
   "version": "3.6.5"
  }
 },
 "nbformat": 4,
 "nbformat_minor": 2
}
