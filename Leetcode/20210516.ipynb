{
 "cells": [
  {
   "cell_type": "code",
   "execution_count": 4,
   "metadata": {},
   "outputs": [
    {
     "name": "stdout",
     "output_type": "stream",
     "text": [
      "16\n"
     ]
    }
   ],
   "source": [
    "height=[4,3,2,1,4]\n",
    "large_V=0\n",
    "for i in range(len(height)):\n",
    "    for j in range(i,len(height)):\n",
    "        V=(j-i)*min(height[i],height[j])\n",
    "        if(V>large_V):\n",
    "            large_V=V\n",
    "print(large_V)"
   ]
  },
  {
   "cell_type": "code",
   "execution_count": 26,
   "metadata": {},
   "outputs": [
    {
     "name": "stdout",
     "output_type": "stream",
     "text": [
      "49\n"
     ]
    }
   ],
   "source": [
    "height=[1,8,6,2,5,4,8,3,7]\n",
    "left=0\n",
    "left_value=height[left]\n",
    "right=len(height)-1\n",
    "right_value=height[right]\n",
    "V_0=(right-left)*(min(height[right],height[left]))\n",
    "tag=1\n",
    "while left!=right:\n",
    "    if(left_value<right_value):\n",
    "        left+=1\n",
    "        if(height[left]>left_value):\n",
    "            left_value=height[left]\n",
    "            if((right-left)*(min(height[right],height[left]))>V_0):\n",
    "                V_0=(right-left)*(min(height[right],height[left]))\n",
    "    else:\n",
    "        right-=1\n",
    "        if(height[right]>right_value):\n",
    "            right_value=height[right]\n",
    "            if((right-left)*(min(height[right],height[left]))>V_0):\n",
    "                V_0=(right-left)*(min(height[right],height[left]))\n",
    "print(V_0)"
   ]
  },
  {
   "cell_type": "code",
   "execution_count": 78,
   "metadata": {},
   "outputs": [
    {
     "name": "stdout",
     "output_type": "stream",
     "text": [
      "0 1 2\n",
      "0 1 3\n",
      "0 2 3\n",
      "1 2 3\n",
      "[[0, 0, 0]]\n"
     ]
    }
   ],
   "source": [
    "nums=[0,0,0,0]\n",
    "if(len(nums)<3):\n",
    "    print([])\n",
    "else:\n",
    "    result=[]\n",
    "    res=[]\n",
    "    k=0\n",
    "    for i in range(2,len(nums)):\n",
    "        for j in range(k+1,i):\n",
    "            for k in range(0,j):\n",
    "                print(k,j,i)\n",
    "                if(nums[i]+nums[j]+nums[k]==0):\n",
    "                    res=[nums[i],nums[j],nums[k]]\n",
    "                    res.sort()\n",
    "                    if(res not in result):\n",
    "                        result.append(res)\n",
    "            k=0\n",
    "    print(result)"
   ]
  },
  {
   "cell_type": "code",
   "execution_count": 85,
   "metadata": {},
   "outputs": [
    {
     "name": "stdout",
     "output_type": "stream",
     "text": [
      "[[-4, 0, 4], [-4, 1, 3], [-3, -1, 4], [-3, 0, 3], [-3, 1, 2], [-2, -1, 3], [-2, 0, 2], [-1, -1, 2], [-1, 0, 1]]\n"
     ]
    }
   ],
   "source": [
    "nums=[-1,0,1,2,-1,-4,-2,-3,3,0,4]\n",
    "nums.sort()\n",
    "tail=len(nums)-1\n",
    "res=[]\n",
    "for i in range(len(nums)-2):\n",
    "    for j in range(i+1,len(nums)-1):\n",
    "        while nums[tail]>=-(nums[i]+nums[j]) and tail>j:\n",
    "            if([nums[i],nums[j],nums[tail]] not in res and nums[tail]==-(nums[i]+nums[j])):\n",
    "                res.append([nums[i],nums[j],nums[tail]])\n",
    "            tail-=1\n",
    "        tail=len(nums)-1\n",
    "print(res)"
   ]
  },
  {
   "cell_type": "code",
   "execution_count": 88,
   "metadata": {},
   "outputs": [
    {
     "name": "stdout",
     "output_type": "stream",
     "text": [
      "[[-1, -1, 2], [-1, 0, 1]]\n"
     ]
    }
   ],
   "source": [
    "nums=[-1,0,1,2,-1,-4]\n",
    "nums.sort()\n",
    "tail=len(nums)-1\n",
    "result=[]\n",
    "for i in range(len(nums)-2):\n",
    "    second=i+1\n",
    "    third=len(nums)-1\n",
    "    res=-nums[i]\n",
    "    while second<third:\n",
    "        if(nums[i]+nums[second]+nums[third]==0 and [nums[i],nums[second],nums[third]] not in result):\n",
    "            result.append([nums[i],nums[second],nums[third]])\n",
    "        elif(nums[second]+nums[third]<res):\n",
    "            second+=1\n",
    "        else:\n",
    "            third-=1\n",
    "print(result)"
   ]
  }
 ],
 "metadata": {
  "kernelspec": {
   "display_name": "Python 3",
   "language": "python",
   "name": "python3"
  },
  "language_info": {
   "codemirror_mode": {
    "name": "ipython",
    "version": 3
   },
   "file_extension": ".py",
   "mimetype": "text/x-python",
   "name": "python",
   "nbconvert_exporter": "python",
   "pygments_lexer": "ipython3",
   "version": "3.6.5"
  }
 },
 "nbformat": 4,
 "nbformat_minor": 2
}
