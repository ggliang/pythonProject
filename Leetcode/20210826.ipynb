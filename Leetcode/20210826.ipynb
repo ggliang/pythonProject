{
 "cells": [
  {
   "cell_type": "code",
   "execution_count": 21,
   "metadata": {},
   "outputs": [
    {
     "name": "stdout",
     "output_type": "stream",
     "text": [
      "0\n",
      "0\n",
      "0\n",
      "4\n",
      "4\n",
      "4\n",
      "3\n",
      "3\n",
      "3\n",
      "2\n",
      "2\n"
     ]
    }
   ],
   "source": [
    "target = 7\n",
    "nums = [2,3,1,2,4,3]\n",
    "n = len(nums)\n",
    "min_len = 0\n",
    "left = 0\n",
    "right = 0\n",
    "while left!=n:\n",
    "    if(sum(nums[left:right+1])>=target):\n",
    "        if(min_len == 0):\n",
    "            min_len = right - left +1\n",
    "        else:\n",
    "            min_len = min(min_len,right-left+1)\n",
    "        left +=1\n",
    "    elif(right == n-1):\n",
    "        left +=1\n",
    "    else:\n",
    "        right+=1\n",
    "    print(min_len)\n"
   ]
  },
  {
   "cell_type": "code",
   "execution_count": 59,
   "metadata": {},
   "outputs": [
    {
     "data": {
      "text/plain": [
       "[]"
      ]
     },
     "execution_count": 59,
     "metadata": {},
     "output_type": "execute_result"
    }
   ],
   "source": [
    "board = [[\"a\",\"b\",\"e\"],\n",
    "         [\"b\",\"c\",\"d\"]]\n",
    "words = [\"abcdeb\"]\n",
    "\n",
    "m = len(board)\n",
    "n = len(board[0])\n",
    "res = []\n",
    "if(m==n and n==1):\n",
    "    for word in words:\n",
    "        res = res+[word] if word == board[0][0] else []\n",
    "for word in words:\n",
    "    save = []\n",
    "    for i in range(m):\n",
    "        for j in range(n):\n",
    "            count=0\n",
    "            times = 0\n",
    "            if(board[i][j]==word[count]):\n",
    "                used = []\n",
    "                used+=[(i,j)]\n",
    "                save+=[(i-1,j),(i+1,j),(i,j+1),(i,j-1)]\n",
    "                while save:\n",
    "                    p,q = save.pop()\n",
    "                    times+=1\n",
    "                    try:\n",
    "                        if(0<=p<m and 0<=q<n and board[p][q]==word[count+1] and (p,q) not in used):\n",
    "                            count+=1\n",
    "                            used+=[(p,q)]\n",
    "                            save+=[(p-1,q),(p+1,q),(p,q+1),(p,q-1)]\n",
    "                            times=0\n",
    "                        if(times==4):\n",
    "                            used.pop()\n",
    "                            count -=1\n",
    "                            times=0\n",
    "                    except:\n",
    "                        if(word not in res):\n",
    "                            res.append(word)\n",
    "                            break                    \n",
    "res.sort()\n",
    "res"
   ]
  },
  {
   "cell_type": "code",
   "execution_count": 67,
   "metadata": {},
   "outputs": [
    {
     "data": {
      "text/plain": [
       "['dgc']"
      ]
     },
     "execution_count": 67,
     "metadata": {},
     "output_type": "execute_result"
    }
   ],
   "source": [
    "board = [[\"a\",\"b\",\"c\"],[\"a\",\"e\",\"d\"],[\"a\",\"f\",\"g\"]]\n",
    "words = [\"abcdefg\",\"gfedcbaaa\",\"eaabcdgfa\",\"befa\",\"dgc\",\"ade\"]\n",
    "\n",
    "m = len(board)\n",
    "n = len(board[0])\n",
    "res = []\n",
    "if(m==n and n==1):\n",
    "    for word in words:\n",
    "        res = res+[word] if word == board[0][0] else []\n",
    "for word in words:\n",
    "    save = []\n",
    "    for i in range(m):\n",
    "        for j in range(n):\n",
    "            count=0\n",
    "            times = 0\n",
    "            if(board[i][j]==word[count]):\n",
    "                used = []\n",
    "                used+=[(i,j)]\n",
    "                save+=[(i-1,j),(i+1,j),(i,j+1),(i,j-1)]\n",
    "                while save:\n",
    "                    p,q = save.pop()\n",
    "                    times+=1\n",
    "                    try:\n",
    "                        if(0<=p<m and 0<=q<n and board[p][q]==word[count+1] and (p,q) not in used):\n",
    "                            \n",
    "                            used+=[(p,q)]\n",
    "                            save+=[(p-1,q),(p+1,q),(p,q+1),(p,q-1)]\n",
    "                        if(times==4):\n",
    "                            count+=1\n",
    "                            times = 0\n",
    "                            \n",
    "                    except:\n",
    "                        if(word not in res):\n",
    "                            res.append(word)\n",
    "                            break                    \n",
    "res.sort()\n",
    "res"
   ]
  },
  {
   "cell_type": "code",
   "execution_count": 23,
   "metadata": {},
   "outputs": [
    {
     "data": {
      "text/plain": [
       "[]"
      ]
     },
     "execution_count": 23,
     "metadata": {},
     "output_type": "execute_result"
    }
   ],
   "source": [
    "boards = [[\"o\",\"a\",\"a\",\"n\"],[\"e\",\"t\",\"a\",\"e\"],[\"i\",\"h\",\"k\",\"r\"],[\"i\",\"f\",\"l\",\"v\"]]\n",
    "words = [\"oath\",\"pea\",\"eat\",\"rain\"]\n",
    "res = []\n",
    "def match_word(board,words):\n",
    "    n = len(board)\n",
    "    m = len(board[0])\n",
    "    \n",
    "    def scan(i,j,letter,count,word_len):\n",
    "        if(i<0 or i>=n or j<0 or j>=m):\n",
    "            return\n",
    "        if(board[i][j]==letter and count == word_len-1):\n",
    "            if(word not in res):\n",
    "                res.append(word)\n",
    "            return\n",
    "        elif(board[i][j]==letter):\n",
    "            scan(i+1,j,word[count+1],count+1,word_len)\n",
    "            scan(i,j+1,word[count+1],count+1,word_len)\n",
    "            scan(i-1,j,word[count+1],count+1,word_len)\n",
    "            scan(i,j-1,word[count+1],count+1,word_len)\n",
    "        else:\n",
    "            return\n",
    "    \n",
    "    for word in words:\n",
    "        word_len = len(word)\n",
    "        count = 0\n",
    "        for i in range(n):\n",
    "            for j in range(m):\n",
    "                if(board[i][j]==word[0]):\n",
    "                    scan(i,j,word[0],count,word_len)\n",
    "\n",
    "    \n",
    "match_word(board,words)\n",
    "res.sort()\n",
    "res"
   ]
  },
  {
   "cell_type": "code",
   "execution_count": 10,
   "metadata": {},
   "outputs": [
    {
     "data": {
      "text/plain": [
       "[]"
      ]
     },
     "execution_count": 10,
     "metadata": {},
     "output_type": "execute_result"
    }
   ],
   "source": [
    "boards = [[\"o\",\"a\",\"a\",\"n\"],[\"e\",\"t\",\"a\",\"e\"],[\"i\",\"h\",\"k\",\"r\"],[\"i\",\"f\",\"l\",\"v\"]]\n",
    "words = [\"oath\",\"pea\",\"eat\",\"rain\"]\n",
    "res = []\n",
    "def match_word(board,words):\n",
    "    n = len(board)\n",
    "    m = len(board[0])\n",
    "    def scan(i,j,letter,count,word_len,used):\n",
    "        if(i<0 or i>=n or j<0 or j>=m):\n",
    "            return\n",
    "        if(board[i][j]==letter and count == word_len-1 and (i,j) not in used):\n",
    "            if(word not in res):\n",
    "                res.append(word)\n",
    "            return\n",
    "        elif(board[i][j]==letter and (i,j) not in used):\n",
    "            scan(i+1,j,word[count+1],count+1,word_len,used+[(i,j)])\n",
    "            scan(i,j+1,word[count+1],count+1,word_len,used+[(i,j)])\n",
    "            scan(i-1,j,word[count+1],count+1,word_len,used+[(i,j)])\n",
    "            scan(i,j-1,word[count+1],count+1,word_len,used+[(i,j)])\n",
    "        else:\n",
    "            return\n",
    "    \n",
    "    for word in words:\n",
    "        word_len = len(word)\n",
    "        count = 0\n",
    "        for i in range(n):\n",
    "            for j in range(m):\n",
    "                if(board[i][j]==word[0]):\n",
    "                    scan(i,j,word[0],count,word_len,[])\n",
    "\n",
    "    \n",
    "match_word(board,words)\n",
    "res.sort()\n",
    "res"
   ]
  },
  {
   "cell_type": "code",
   "execution_count": 13,
   "metadata": {},
   "outputs": [
    {
     "data": {
      "text/plain": [
       "['eat', 'oath']"
      ]
     },
     "execution_count": 13,
     "metadata": {},
     "output_type": "execute_result"
    }
   ],
   "source": [
    "board = [[\"o\",\"a\",\"a\",\"n\"],[\"e\",\"t\",\"a\",\"e\"],[\"i\",\"h\",\"k\",\"r\"],[\"i\",\"f\",\"l\",\"v\"]]\n",
    "words = [\"oath\",\"pea\",\"eat\",\"rain\"]\n",
    "res = []\n",
    "def match_word(board,words):\n",
    "    n = len(board)\n",
    "    m = len(board[0])\n",
    "    def scan(i,j,letter,cur_word,word,used):\n",
    "        if(i<0 or i>=n or j<0 or j>=m):\n",
    "            return\n",
    "        if(board[i][j]==letter and cur_word==\"\" and (i,j) not in used):\n",
    "            if(word not in res):\n",
    "                res.append(word)\n",
    "            return\n",
    "        elif(board[i][j]==letter and (i,j) not in used):\n",
    "            scan(i+1,j,cur_word[-1],cur_word[:-1],word,used+[(i,j)])\n",
    "            scan(i-1,j,cur_word[-1],cur_word[:-1],word,used+[(i,j)])\n",
    "            scan(i,j+1,cur_word[-1],cur_word[:-1],word,used+[(i,j)])\n",
    "            scan(i,j-1,cur_word[-1],cur_word[:-1],word,used+[(i,j)])\n",
    "        else:\n",
    "            return\n",
    "    \n",
    "    for word in words:\n",
    "        for i in range(n):\n",
    "            for j in range(m):\n",
    "                if(board[i][j]==word[-1]):\n",
    "                    scan(i,j,word[-1],word[:-1],word,[])\n",
    "\n",
    "    \n",
    "match_word(board,words)\n",
    "res.sort()\n",
    "res"
   ]
  }
 ],
 "metadata": {
  "kernelspec": {
   "display_name": "Python 3",
   "language": "python",
   "name": "python3"
  },
  "language_info": {
   "codemirror_mode": {
    "name": "ipython",
    "version": 3
   },
   "file_extension": ".py",
   "mimetype": "text/x-python",
   "name": "python",
   "nbconvert_exporter": "python",
   "pygments_lexer": "ipython3",
   "version": "3.6.5"
  }
 },
 "nbformat": 4,
 "nbformat_minor": 2
}
