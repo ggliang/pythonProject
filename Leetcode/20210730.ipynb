{
 "cells": [
  {
   "cell_type": "code",
   "execution_count": 30,
   "metadata": {},
   "outputs": [
    {
     "data": {
      "text/plain": [
       "7"
      ]
     },
     "execution_count": 30,
     "metadata": {},
     "output_type": "execute_result"
    }
   ],
   "source": [
    "preorder = [3,9,20,15,7]\n",
    "inorder = [9,3,15,20,7]\n",
    "class TreeNode:\n",
    "    def __init__(self, val=0, left=None, right=None):\n",
    "        self.val = val\n",
    "        self.left = left\n",
    "        self.right = right\n",
    "\n",
    "def buildTree( preorder, inorder):\n",
    "    \n",
    "    def array2tree(left,right):\n",
    "        nonlocal preorder_idx\n",
    "        if(left>right):\n",
    "            return None\n",
    "        root_val = preorder[preorder_idx]\n",
    "        root = TreeNode(root_val)\n",
    "        preorder_idx += 1\n",
    "        root.left = array2tree(left,idx_hash[root_val]-1)\n",
    "        root.right = array2tree(idx_hash[root_val]+1,right)\n",
    "        \n",
    "        return root\n",
    "    \n",
    "    preorder_idx = 0\n",
    "    idx_hash={}\n",
    "    for index,val in enumerate(inorder):\n",
    "        idx_hash[val]=index\n",
    "    return array2tree(0,len(inorder)-1)\n",
    "root = buildTree(preorder,inorder)\n",
    "root.right.right.val"
   ]
  },
  {
   "cell_type": "code",
   "execution_count": 34,
   "metadata": {},
   "outputs": [
    {
     "data": {
      "text/plain": [
       "3"
      ]
     },
     "execution_count": 34,
     "metadata": {},
     "output_type": "execute_result"
    }
   ],
   "source": [
    "inorder = [9,3,15,20,7]\n",
    "postorder = [9,15,7,20,3]\n",
    "class TreeNode:\n",
    "    def __init__(self, val=0, left=None, right=None):\n",
    "        self.val = val\n",
    "        self.left = left\n",
    "        self.right = right\n",
    "def buildTree2(inorder,postorder):\n",
    "    def array22Tree(left,right):\n",
    "        nonlocal postorder_idx\n",
    "        if(left>right):\n",
    "            return None\n",
    "        root_val=postorder[postorder_idx]\n",
    "        root=TreeNode(root_val)\n",
    "        postorder_idx-=1\n",
    "        root.right = array22Tree(idx_hash_in[root_val]+1,right)\n",
    "        root.left = array22Tree(left,idx_hash_in[root_val]-1)\n",
    "\n",
    "        return root\n",
    "    \n",
    "    postorder_idx=len(postorder)-1\n",
    "    idx_hash_in={}\n",
    "    for index,val in enumerate(inorder):\n",
    "        idx_hash_in[val]=index\n",
    "    return array22Tree(0,len(inorder)-1)\n",
    "root = buildTree(preorder,inorder)\n",
    "root.val"
   ]
  },
  {
   "cell_type": "code",
   "execution_count": 22,
   "metadata": {},
   "outputs": [
    {
     "data": {
      "text/plain": [
       "{9: 0, 3: 1, 15: 2, 20: 3, 7: 4}"
      ]
     },
     "execution_count": 22,
     "metadata": {},
     "output_type": "execute_result"
    }
   ],
   "source": [
    "inorder = [9,3,15,20,7]\n",
    "\n",
    "idx_hash"
   ]
  },
  {
   "cell_type": "code",
   "execution_count": 7,
   "metadata": {},
   "outputs": [
    {
     "data": {
      "text/plain": [
       "10"
      ]
     },
     "execution_count": 7,
     "metadata": {},
     "output_type": "execute_result"
    }
   ],
   "source": [
    "def recur(a):\n",
    "    if(a == 1):\n",
    "        return 1\n",
    "    else:\n",
    "        return a+recur(a-1)\n",
    "recur(4)"
   ]
  },
  {
   "cell_type": "code",
   "execution_count": 12,
   "metadata": {},
   "outputs": [
    {
     "name": "stdout",
     "output_type": "stream",
     "text": [
      "move from A to C\n",
      "move from A to B\n",
      "move from C to B\n",
      "move from A to C\n",
      "move from B to A\n",
      "move from B to C\n",
      "move from A to C\n"
     ]
    }
   ],
   "source": [
    "def print_step(fr,to):\n",
    "    print(\"move from \"+fr+\" to \"+to)\n",
    "def hannuo(n,fr,to,bu):\n",
    "    if(n==1):\n",
    "        print_step(fr,to)\n",
    "    else:\n",
    "        hannuo(n-1,fr,bu,to)\n",
    "        hannuo(1,fr,to,bu)\n",
    "        hannuo(n-1,bu,to,fr)\n",
    "hannuo(3,'A','C','B')\n",
    "    \n",
    "    "
   ]
  },
  {
   "cell_type": "code",
   "execution_count": 21,
   "metadata": {},
   "outputs": [
    {
     "data": {
      "text/plain": [
       "[1, 2]"
      ]
     },
     "execution_count": 21,
     "metadata": {},
     "output_type": "execute_result"
    }
   ],
   "source": [
    "a=[1,2,3,4]\n",
    "a[0:-2]"
   ]
  }
 ],
 "metadata": {
  "kernelspec": {
   "display_name": "Python 3",
   "language": "python",
   "name": "python3"
  },
  "language_info": {
   "codemirror_mode": {
    "name": "ipython",
    "version": 3
   },
   "file_extension": ".py",
   "mimetype": "text/x-python",
   "name": "python",
   "nbconvert_exporter": "python",
   "pygments_lexer": "ipython3",
   "version": "3.6.5"
  }
 },
 "nbformat": 4,
 "nbformat_minor": 2
}
