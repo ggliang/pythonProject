{
 "cells": [
  {
   "cell_type": "code",
   "execution_count": 23,
   "metadata": {},
   "outputs": [
    {
     "data": {
      "text/plain": [
       "12"
      ]
     },
     "execution_count": 23,
     "metadata": {},
     "output_type": "execute_result"
    }
   ],
   "source": [
    "grid = [[1,2,3],[4,5,6]]\n",
    "cur_sum=0\n",
    "min_sum=0\n",
    "M=len(grid)\n",
    "N=len(grid[0])\n",
    "for i in range(N-1):\n",
    "    min_sum=min_sum+grid[0][i]\n",
    "for j in range(0,M):\n",
    "    min_sum=min_sum+grid[j][N-1]\n",
    "\n",
    "def digui(i,j,cur_sum):\n",
    "    global min_sum\n",
    "    if(i==M-1 and j==N-1):\n",
    "        cur_sum=cur_sum+grid[i][j]\n",
    "        if cur_sum<min_sum:\n",
    "            min_sum=cur_sum\n",
    "        return\n",
    "    \n",
    "    if(i<M-1):\n",
    "        digui(i+1,j,cur_sum+grid[i][j])\n",
    "    if(j<N-1):\n",
    "        digui(i,j+1,cur_sum+grid[i][j])\n",
    "digui(0,0,0)\n",
    "min_sum"
   ]
  },
  {
   "cell_type": "code",
   "execution_count": 40,
   "metadata": {},
   "outputs": [
    {
     "data": {
      "text/plain": [
       "4"
      ]
     },
     "execution_count": 40,
     "metadata": {},
     "output_type": "execute_result"
    }
   ],
   "source": [
    "\n",
    "def minPathSum(grid):\n",
    "    min_sum=0\n",
    "    M=len(grid)\n",
    "    N=len(grid[0])\n",
    "    for i in range(N-1):\n",
    "        min_sum=min_sum+grid[0][i]\n",
    "    for j in range(0,M):\n",
    "        min_sum=min_sum+grid[j][N-1]\n",
    "    def digui(i,j,cur_sum,min_sum):\n",
    "        if(i==M-1 and j==N-1):\n",
    "            cur_sum=cur_sum+grid[M-1][N-1]\n",
    "            if cur_sum<min_sum: \n",
    "                min_sum=cur_sum\n",
    "            return min_sum\n",
    "        if(cur_sum>=min_sum):\n",
    "            return\n",
    "        if(i<M-1):\n",
    "            min_sum=digui(i+1,j,cur_sum+grid[i][j],min_sum)\n",
    "        if(j<N-1):\n",
    "            min_sum=digui(i,j+1,cur_sum+grid[i][j],min_sum)\n",
    "        return min_sum\n",
    "    min_sum=digui(0,0,0,min_sum)\n",
    "    return min_sum\n",
    "minPathSum([[1,2,3],[1,1,1]])"
   ]
  },
  {
   "cell_type": "code",
   "execution_count": 47,
   "metadata": {},
   "outputs": [
    {
     "data": {
      "text/plain": [
       "7"
      ]
     },
     "execution_count": 47,
     "metadata": {},
     "output_type": "execute_result"
    }
   ],
   "source": [
    "grid = [[1,2,3],[1,100,1]]\n",
    "M=len(grid)\n",
    "N=len(grid[0])\n",
    "for i in range(1,N):\n",
    "    grid[0][i]+=grid[0][i-1]\n",
    "for i in range(1,M):\n",
    "    grid[i][0]+=grid[i-1][0]\n",
    "for i in range(1,M):\n",
    "    for j in range(1,N):\n",
    "        grid[i][j] += min(grid[i-1][j],grid[i][j-1])\n",
    "grid[-1][-1]"
   ]
  }
 ],
 "metadata": {
  "kernelspec": {
   "display_name": "Python 3",
   "language": "python",
   "name": "python3"
  },
  "language_info": {
   "codemirror_mode": {
    "name": "ipython",
    "version": 3
   },
   "file_extension": ".py",
   "mimetype": "text/x-python",
   "name": "python",
   "nbconvert_exporter": "python",
   "pygments_lexer": "ipython3",
   "version": "3.6.5"
  }
 },
 "nbformat": 4,
 "nbformat_minor": 2
}
