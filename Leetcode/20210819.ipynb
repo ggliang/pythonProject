{
 "cells": [
  {
   "cell_type": "code",
   "execution_count": 26,
   "metadata": {},
   "outputs": [
    {
     "data": {
      "text/plain": [
       "0"
      ]
     },
     "execution_count": 26,
     "metadata": {},
     "output_type": "execute_result"
    }
   ],
   "source": [
    "nums = [2,2,3,0,1]\n",
    "n = len(nums)\n",
    "lo = 0\n",
    "hi = n-1\n",
    "while lo<hi:\n",
    "    mid = int(lo +(hi-lo)/2)\n",
    "    if nums[mid]>nums[hi]:\n",
    "        lo = mid +1\n",
    "    else:\n",
    "        hi = mid if(nums[mid]!=nums[hi]) else hi - 1\n",
    "nums[lo]"
   ]
  },
  {
   "cell_type": "code",
   "execution_count": null,
   "metadata": {},
   "outputs": [],
   "source": [
    "nums = [2,2,2,0,1]\n",
    "lo, hi = 0, len(nums) - 1\n",
    "while lo < hi:\n",
    "    mid = int( lo + (hi -lo) / 2)\n",
    "    if nums[mid] > nums[hi]:\n",
    "        lo = mid + 1\n",
    "    else:\n",
    "        hi = mid if nums[hi] != nums[mid] else hi - 1\n",
    "nums[lo]"
   ]
  },
  {
   "cell_type": "code",
   "execution_count": 38,
   "metadata": {},
   "outputs": [
    {
     "name": "stdout",
     "output_type": "stream",
     "text": [
      "<5,5>\n"
     ]
    }
   ],
   "source": [
    "\n",
    "class coordinate(object):\n",
    "    def __init__(self,x,z):\n",
    "        self.x = x\n",
    "        self.y = z\n",
    "    def dis(self,other):\n",
    "        return ((self.x-other.x)**2+(self.y-other.y)**2)**0.5\n",
    "    def __str__(self):\n",
    "        return \"<\"+str(self.x)+\",\"+str(self.y)+\">\"\n",
    "    def __add__(self,other):\n",
    "        self.x = self.x+other.y\n",
    "        self.y = self.y+other.x\n",
    "        return self\n",
    "c = coordinate(3,4)\n",
    "origin = coordinate(1,2)\n",
    "#a=c.dis(origin)\n",
    "print(c+origin) "
   ]
  },
  {
   "cell_type": "code",
   "execution_count": 7,
   "metadata": {},
   "outputs": [
    {
     "name": "stdout",
     "output_type": "stream",
     "text": [
      "meow\n"
     ]
    }
   ],
   "source": [
    "class Animal(object):\n",
    "    def __init__(self,age):\n",
    "        self.age = age\n",
    "        self.name = None\n",
    "class Person(Animal):\n",
    "    def speak(self):\n",
    "        print(\"meow\")\n",
    "myanimal = Person(3)\n",
    "myanimal.speak()"
   ]
  }
 ],
 "metadata": {
  "kernelspec": {
   "display_name": "Python 3",
   "language": "python",
   "name": "python3"
  },
  "language_info": {
   "codemirror_mode": {
    "name": "ipython",
    "version": 3
   },
   "file_extension": ".py",
   "mimetype": "text/x-python",
   "name": "python",
   "nbconvert_exporter": "python",
   "pygments_lexer": "ipython3",
   "version": "3.6.5"
  }
 },
 "nbformat": 4,
 "nbformat_minor": 2
}
