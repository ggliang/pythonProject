{
 "cells": [
  {
   "cell_type": "code",
   "execution_count": 11,
   "metadata": {},
   "outputs": [
    {
     "name": "stdout",
     "output_type": "stream",
     "text": [
      "[-3, -1, 0, 2, 4, 5]\n",
      "0 1 2 5\n",
      "0 1 2 4\n",
      "0 1 2 3\n",
      "0 2 3 5\n",
      "0 2 3 4\n",
      "0 3 4 5\n",
      "1 2 3 5\n",
      "1 2 3 4\n",
      "1 3 4 5\n",
      "2 3 4 5\n",
      "[]\n"
     ]
    }
   ],
   "source": [
    "nums=[-3,-1,0,2,4,5]\n",
    "target=2\n",
    "nums.sort()\n",
    "print(nums)\n",
    "result=[]\n",
    "if(len(nums)<4):\n",
    "    print(result)\n",
    "else:\n",
    "    for i in range(len(nums)-3):\n",
    "        for j in range(i+1,len(nums)-2):\n",
    "            third=j+1\n",
    "            fourth=len(nums)-1\n",
    "            while third < fourth:\n",
    "                print(i,j,third,fourth)\n",
    "                if(nums[i]+nums[j]+nums[third]+nums[fourth]==target and [nums[i],nums[j],nums[third],nums[fourth]] not in result):\n",
    "                    result.append([nums[i],nums[j],nums[third],nums[fourth]])\n",
    "                elif(nums[i]+nums[j]+nums[third]+nums[fourth]<0):\n",
    "                    third+=1\n",
    "                else:\n",
    "                    fourth-=1\n",
    "    print(result)"
   ]
  },
  {
   "cell_type": "code",
   "execution_count": 14,
   "metadata": {},
   "outputs": [
    {
     "name": "stdout",
     "output_type": "stream",
     "text": [
      "[-3, -1, 0, 2, 4, 5]\n",
      "0 1 2 5\n",
      "0 1 3 5\n",
      "0 1 3 4\n",
      "0 1 3 4\n",
      "0 2 3 5\n",
      "0 2 3 4\n",
      "0 3 4 5\n",
      "1 2 3 5\n",
      "1 2 3 4\n",
      "1 3 4 5\n",
      "2 3 4 5\n",
      "[[-3, -1, 2, 4]]\n"
     ]
    }
   ],
   "source": [
    "nums=[-3,-1,0,2,4,5]\n",
    "target=2\n",
    "nums.sort()\n",
    "print(nums)\n",
    "result=[]\n",
    "if(len(nums)<4):\n",
    "    print(result)\n",
    "else:\n",
    "    for i in range(len(nums)-3):\n",
    "        for j in range(i+1,len(nums)-2):\n",
    "            third=j+1\n",
    "            fourth=len(nums)-1\n",
    "            while third < fourth:\n",
    "                print(i,j,third,fourth)\n",
    "                if(nums[i]+nums[j]+nums[third]+nums[fourth]==target and [nums[i],nums[j],nums[third],nums[fourth]] not in result):\n",
    "                    result.append([nums[i],nums[j],nums[third],nums[fourth]])\n",
    "                elif(nums[i]+nums[j]+nums[third]+nums[fourth]<target):\n",
    "                    third+=1\n",
    "                else:\n",
    "                    fourth-=1\n",
    "    print(result)"
   ]
  },
  {
   "cell_type": "code",
   "execution_count": 27,
   "metadata": {},
   "outputs": [
    {
     "name": "stdout",
     "output_type": "stream",
     "text": [
      "[2, 2] 2\n"
     ]
    }
   ],
   "source": [
    "nums = [3,2,2,3]\n",
    "val=3\n",
    "length=len(nums)\n",
    "count=0\n",
    "poi=0\n",
    "while poi<len(nums):\n",
    "    if(nums[poi]==val):\n",
    "        nums.pop(poi)\n",
    "        poi-=1\n",
    "        count+=1\n",
    "    poi+=1\n",
    "    \n",
    "print(nums,length-count)\n",
    "    "
   ]
  },
  {
   "cell_type": "code",
   "execution_count": 48,
   "metadata": {},
   "outputs": [
    {
     "name": "stdout",
     "output_type": "stream",
     "text": [
      "[1] 2 [7, 4, 3, 1]\n",
      "[1] 3 [1, 2, 4, 7]\n"
     ]
    }
   ],
   "source": [
    "nums=[1,2,7,4,3,1]\n",
    "poi=len(nums)-1\n",
    "while nums[poi]<nums[poi-1]:\n",
    "    poi-=1\n",
    "head=nums[0:poi-1]\n",
    "target=nums[poi-1]\n",
    "tail=nums[poi:len(nums)]\n",
    "print(head,target,tail)\n",
    "tail.sort()\n",
    "for i in range(len(tail)):\n",
    "    if(tail[i]>target):\n",
    "        target_new=tail[i]\n",
    "        tail.pop(i)\n",
    "        tail.append(target)\n",
    "        tail.sort()\n",
    "        break\n",
    "print(head,target_new,tail)\n",
    "    "
   ]
  },
  {
   "cell_type": "code",
   "execution_count": 87,
   "metadata": {},
   "outputs": [
    {
     "name": "stdout",
     "output_type": "stream",
     "text": [
      "[1]\n"
     ]
    }
   ],
   "source": [
    "nums=[1]\n",
    "poi=len(nums)-1\n",
    "count=0\n",
    "try:\n",
    "    while nums[poi]<=nums[poi-1]:\n",
    "        poi-=1\n",
    "except:\n",
    "    poi=len(nums)-1\n",
    "\n",
    "for i in range(poi,len(nums)):\n",
    "    for j in range(poi,len(nums)-i-1+poi):\n",
    "        if(nums[j]>nums[j+1]):\n",
    "            max_num=nums[j]\n",
    "            nums[j]=nums[j+1]\n",
    "            nums[j+1]=max_num\n",
    "target=nums[poi-1]\n",
    "\n",
    "for i in range(poi,len(nums)):\n",
    "    if(nums[i]>target):\n",
    "        nums[poi-1]=nums[i]\n",
    "        nums[i]=target\n",
    "        count+=1\n",
    "        break\n",
    "for i in range(poi,len(nums)):\n",
    "    for j in range(poi,len(nums)-i-1+poi):\n",
    "        if(nums[j]>nums[j+1]):\n",
    "            max_num=nums[j]\n",
    "            nums[j]=nums[j+1]\n",
    "            nums[j+1]=max_num\n",
    "print(nums)\n",
    "# if(count==0):\n",
    "#     nums.sort()"
   ]
  },
  {
   "cell_type": "code",
   "execution_count": 52,
   "metadata": {},
   "outputs": [
    {
     "name": "stdout",
     "output_type": "stream",
     "text": [
      "[1, 2, 3, 4, 5]\n"
     ]
    }
   ],
   "source": [
    "a=[4,5,3,2,1]\n",
    "count=0\n",
    "for i in range(len(a)):\n",
    "    for j in range(len(a)-i-1):\n",
    "        if(a[j]>a[j+1]):\n",
    "            max_num=a[j]\n",
    "            a[j]=a[j+1]\n",
    "            a[j+1]=max_num\n",
    "print(a)"
   ]
  },
  {
   "cell_type": "code",
   "execution_count": 101,
   "metadata": {},
   "outputs": [],
   "source": [
    "nums = [1,3]\n",
    "target = 2\n",
    "poi=-1\n",
    "if(min(nums)>target or (target<nums[0] and target>nums[len(nums)-1])):\n",
    "    poi=-1\n",
    "elif(target>nums[0]):\n",
    "    for i in range(len(nums)):\n",
    "        if(nums[i]==target):\n",
    "            poi=i\n",
    "            break\n",
    "else:\n",
    "    for i in range(len(nums)-1,-1,-1):\n",
    "        if(nums[i]==target):\n",
    "            poi=i\n",
    "            break\n",
    "return poi"
   ]
  },
  {
   "cell_type": "code",
   "execution_count": null,
   "metadata": {},
   "outputs": [],
   "source": [
    "nums = [1]\n",
    "target = 0\n",
    "if(target<nums[0] and target>nums[len(nums)-1]):\n",
    "    print(-1)\n",
    "if(target>=nums[0]):\n",
    "    for i in range(len(nums)):\n",
    "        if(nums[i]==target):\n",
    "            print(i)\n",
    "            break\n",
    "elif(target<:\n",
    "    for i in range(len(nums)-1,-1,-1):\n",
    "        if(nums[i]==target):\n",
    "            print(i)\n",
    "            break"
   ]
  },
  {
   "cell_type": "code",
   "execution_count": 126,
   "metadata": {},
   "outputs": [
    {
     "ename": "IndexError",
     "evalue": "list index out of range",
     "output_type": "error",
     "traceback": [
      "\u001b[1;31m---------------------------------------------------------------------------\u001b[0m",
      "\u001b[1;31mIndexError\u001b[0m                                Traceback (most recent call last)",
      "\u001b[1;32m<ipython-input-126-9b1c23ef4fbb>\u001b[0m in \u001b[0;36m<module>\u001b[1;34m()\u001b[0m\n\u001b[0;32m     17\u001b[0m     \u001b[1;32melif\u001b[0m\u001b[1;33m(\u001b[0m\u001b[0mnums\u001b[0m\u001b[1;33m[\u001b[0m\u001b[0mleft\u001b[0m\u001b[1;33m]\u001b[0m\u001b[1;33m<\u001b[0m\u001b[0mtarget\u001b[0m\u001b[1;33m)\u001b[0m\u001b[1;33m:\u001b[0m\u001b[1;33m\u001b[0m\u001b[0m\n\u001b[0;32m     18\u001b[0m         \u001b[0mleft\u001b[0m\u001b[1;33m+=\u001b[0m\u001b[1;36m1\u001b[0m\u001b[1;33m\u001b[0m\u001b[0m\n\u001b[1;32m---> 19\u001b[1;33m         \u001b[1;32mif\u001b[0m\u001b[1;33m(\u001b[0m\u001b[0mnums\u001b[0m\u001b[1;33m[\u001b[0m\u001b[0mleft\u001b[0m\u001b[1;33m]\u001b[0m\u001b[1;33m==\u001b[0m\u001b[0mtarget\u001b[0m\u001b[1;33m)\u001b[0m\u001b[1;33m:\u001b[0m\u001b[1;33m\u001b[0m\u001b[0m\n\u001b[0m\u001b[0;32m     20\u001b[0m             \u001b[0mstart\u001b[0m\u001b[1;33m=\u001b[0m\u001b[0mleft\u001b[0m\u001b[1;33m\u001b[0m\u001b[0m\n\u001b[0;32m     21\u001b[0m     \u001b[1;32melse\u001b[0m\u001b[1;33m:\u001b[0m\u001b[1;33m\u001b[0m\u001b[0m\n",
      "\u001b[1;31mIndexError\u001b[0m: list index out of range"
     ]
    }
   ],
   "source": [
    "nums = [2,2]\n",
    "target = 3\n",
    "start=-1\n",
    "end=-1\n",
    "left=0\n",
    "right=len(nums)-1\n",
    "if(nums!=[]):\n",
    "    if(nums[left]==target):\n",
    "        start=left\n",
    "    if(nums[right]==target):\n",
    "        end=right\n",
    "while left<=right:\n",
    "    if(nums[right]>target):\n",
    "        right-=1\n",
    "        if(nums[right]==target):\n",
    "            end=right       \n",
    "    elif(nums[left]<target):\n",
    "        left+=1\n",
    "        if(nums[left]==target):\n",
    "            start=left\n",
    "    else:\n",
    "        break\n",
    "\n",
    "print([start,end])"
   ]
  },
  {
   "cell_type": "code",
   "execution_count": 139,
   "metadata": {},
   "outputs": [
    {
     "name": "stdout",
     "output_type": "stream",
     "text": [
      "[3, 4]\n"
     ]
    }
   ],
   "source": [
    "nums = [5,7,7,8,8,10]\n",
    "target = 8\n",
    "start=-1\n",
    "end=-1\n",
    "left=0\n",
    "right=len(nums)-1\n",
    "if(nums!=[]):\n",
    "    if(nums[left]==target):\n",
    "        start=left\n",
    "    if(nums[right]==target):\n",
    "        end=right\n",
    "while left<=right and nums[left]<=target and nums[right]>=target:\n",
    "    \n",
    "    if(nums[right]>target):\n",
    "        right-=1\n",
    "        if(nums[right]==target):\n",
    "            end=right       \n",
    "    elif(nums[left]<target):\n",
    "        left+=1\n",
    "        if(nums[left]==target):\n",
    "            start=left\n",
    "    else:\n",
    "        break\n",
    "\n",
    "print([start,end])"
   ]
  }
 ],
 "metadata": {
  "kernelspec": {
   "display_name": "Python 3",
   "language": "python",
   "name": "python3"
  },
  "language_info": {
   "codemirror_mode": {
    "name": "ipython",
    "version": 3
   },
   "file_extension": ".py",
   "mimetype": "text/x-python",
   "name": "python",
   "nbconvert_exporter": "python",
   "pygments_lexer": "ipython3",
   "version": "3.6.5"
  }
 },
 "nbformat": 4,
 "nbformat_minor": 2
}
