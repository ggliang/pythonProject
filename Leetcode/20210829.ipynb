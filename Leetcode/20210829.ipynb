{
 "cells": [
  {
   "cell_type": "code",
   "execution_count": 25,
   "metadata": {},
   "outputs": [
    {
     "name": "stdout",
     "output_type": "stream",
     "text": [
      "[0, 0, 0, 2, 2, 6, 5, 8, 11]\n",
      "[0, 0, 0, 1, 0, 1, 0, 1, 1]\n"
     ]
    }
   ],
   "source": [
    "nums = [2,2,4,3,2,5]\n",
    "first = nums[0]\n",
    "last = nums[-1]\n",
    "n = len(nums)\n",
    "nums = [0,0,0]+nums\n",
    "b2=0\n",
    "b3=0\n",
    "flag = [0]*(n+3)\n",
    "if(nums[3]==0):\n",
    "    flag[3] = 0\n",
    "else:\n",
    "    flag[3] = 1\n",
    "for i in range(3,n+3):\n",
    "    b2 = nums[i-2]+nums[i]\n",
    "    b3 = nums[i-3]+nums[i]\n",
    "    nums[i] = max(b2,b3)\n",
    "    if(nums[i]==b2 and b2!=b3 and flag[i-2]==1):\n",
    "        flag[i] = 1\n",
    "    if(nums[i]==b3 and b2!=b3 and flag[i-3]==1):\n",
    "        flag[i] = 1\n",
    "if(nums[-1]>nums[-2] and flag[-1] == 1):\n",
    "    max_res = max(nums[-2],nums[-1]-last,nums[-1]-first)\n",
    "else:\n",
    "    max_res = max(nums[-2],nums[-1])\n",
    "print(nums)\n",
    "print(flag)"
   ]
  },
  {
   "cell_type": "code",
   "execution_count": 36,
   "metadata": {},
   "outputs": [
    {
     "name": "stdout",
     "output_type": "stream",
     "text": [
      "[0, 0, 0, 2, 1, 4, 8, 5, 16, 18, 24]\n",
      "[0, 0, 0, 1, 0, 1, 1, 1, 1, 1, 0]\n"
     ]
    }
   ],
   "source": [
    "nums = [2,1,2,6,1,8,10,10]\n",
    "first = nums[0]\n",
    "last = nums[-1]\n",
    "n = len(nums)\n",
    "nums = [0,0,0]+nums\n",
    "b2=0\n",
    "b3=0\n",
    "flag = [0]*(n+3)\n",
    "if(nums[3]==0):\n",
    "    flag[3] = 0\n",
    "else:\n",
    "    flag[3] = 1\n",
    "for i in range(3,n+2):\n",
    "    b2 = nums[i-2]+nums[i]\n",
    "    b3 = nums[i-3]+nums[i]\n",
    "    nums[i] = max(b2,b3)\n",
    "    if(nums[i]==b2 and b2!=b3 and flag[i-2]==1):\n",
    "        flag[i] = 1\n",
    "    if(nums[i]==b3 and b2!=b3 and flag[i-3]==1):\n",
    "        flag[i] = 1\n",
    "b2 = nums[n]+nums[n+2]\n",
    "b3 = nums[n-1]+nums[n+2]\n",
    "if(flag[n-1] ==0 and flag[n]==0 ):\n",
    "    nums[-1]=max(b2,b3)\n",
    "elif(flag[n-1]==0 and flag[n]==1):\n",
    "    nums[-1] = max(b3,b2-first,b2-last)\n",
    "elif(flag[n-1]==1 and flag[n]==0):\n",
    "    nums[-1] = max(b2,b3-first,b3-last)\n",
    "else:\n",
    "    nums[-1] = max(b2-first,b2-last,b3-first,b3-last)\n",
    "print(nums)\n",
    "print(flag)"
   ]
  },
  {
   "cell_type": "code",
   "execution_count": 37,
   "metadata": {},
   "outputs": [
    {
     "name": "stdout",
     "output_type": "stream",
     "text": [
      "25\n"
     ]
    }
   ],
   "source": [
    "nums = [2,1,2,6,1,8,10,10]\n",
    "def max_rob(nums):\n",
    "    n = len(nums)\n",
    "    nums = [0,0,0]+nums\n",
    "    b2=0\n",
    "    b3=0\n",
    "    for i in range(3,n+3):\n",
    "        b2 = nums[i-2]+nums[i]\n",
    "        b3 = nums[i-3]+nums[i]\n",
    "        nums[i] = max(b2,b3)\n",
    "        if(nums[i]==b2 and b2!=b3 and flag[i-2]==1):\n",
    "            flag[i] = 1\n",
    "        if(nums[i]==b3 and b2!=b3 and flag[i-3]==1):\n",
    "            flag[i] = 1\n",
    "    return max(nums[-1],nums[-2])\n",
    "a = max_rob(nums[1:])\n",
    "b = max_rob(nums[:-1])\n",
    "return max(a,b)"
   ]
  },
  {
   "cell_type": "code",
   "execution_count": 57,
   "metadata": {},
   "outputs": [
    {
     "data": {
      "text/plain": [
       "4"
      ]
     },
     "execution_count": 57,
     "metadata": {},
     "output_type": "execute_result"
    }
   ],
   "source": [
    "nums = [3,2,3,1,2,4,5,5,6]\n",
    "k = 4\n",
    "nums.sort()\n",
    "while(k):\n",
    "    temp = nums.pop()\n",
    "    k-=1\n",
    "return temp"
   ]
  },
  {
   "cell_type": "code",
   "execution_count": 85,
   "metadata": {},
   "outputs": [
    {
     "data": {
      "text/plain": [
       "[[1, 2, 6], [1, 3, 5], [2, 3, 4]]"
      ]
     },
     "execution_count": 85,
     "metadata": {},
     "output_type": "execute_result"
    }
   ],
   "source": [
    "n = 9\n",
    "k = 3\n",
    "dic_sum={}\n",
    "for i in range(46):\n",
    "    dic_sum[i]=[]\n",
    "res = []\n",
    "def digui(idx,cur,cur_sum):\n",
    "    global res\n",
    "    dic_sum[cur_sum]+=[cur]\n",
    "    for i in range(idx,10):\n",
    "        digui(i+1,cur+[i],cur_sum+i)\n",
    "digui(1,[],0)\n",
    "res = []\n",
    "for ele in dic_sum[n]:\n",
    "    if(len(ele)==k):\n",
    "        res+=[ele]\n",
    "return res"
   ]
  },
  {
   "cell_type": "code",
   "execution_count": null,
   "metadata": {},
   "outputs": [],
   "source": [
    "nums = [1,2,3,1]\n",
    "if(len(nums)==1):\n",
    "    return False\n",
    "else:\n",
    "    nums.sort()\n",
    "    for i in range(len(nums)-1):\n",
    "        if(nums[i]==nums[i-1]):\n",
    "            return True\n",
    "    return False"
   ]
  },
  {
   "cell_type": "code",
   "execution_count": 95,
   "metadata": {},
   "outputs": [
    {
     "name": "stdout",
     "output_type": "stream",
     "text": [
      "True\n",
      "True\n",
      "True\n",
      "False\n"
     ]
    }
   ],
   "source": [
    "nums = [1,2,3,1,2,3]\n",
    "k = 3\n",
    "n = len(nums)\n",
    "for i in range(n-1):\n",
    "    for j in range(1,k+1):\n",
    "        try:\n",
    "            if(nums[i]==nums[i+j]):\n",
    "                print(\"True\")\n",
    "        except:\n",
    "            continue\n",
    "print(\"False\")"
   ]
  },
  {
   "cell_type": "code",
   "execution_count": 106,
   "metadata": {},
   "outputs": [],
   "source": [
    "nums = [1,2,3,1,2,3]\n",
    "k = 2\n",
    "n = len(nums)\n",
    "dic_dis={}\n",
    "num = list(set(nums))\n",
    "for i in num:\n",
    "    dic_dis[i]=[]\n",
    "for i in range(n):\n",
    "    dic_dis[nums[i]]+=[i]\n",
    "min_dis = n\n",
    "for key in dic_dis.keys():\n",
    "    for i in range(len(dic_dis[key])-1):\n",
    "        min_dis = min(min_dis,dic_dis[key][i+1]-dic_dis[key][i])\n",
    "        if(min_dis<=k):\n",
    "            print(\"True\")"
   ]
  }
 ],
 "metadata": {
  "kernelspec": {
   "display_name": "Python 3",
   "language": "python",
   "name": "python3"
  },
  "language_info": {
   "codemirror_mode": {
    "name": "ipython",
    "version": 3
   },
   "file_extension": ".py",
   "mimetype": "text/x-python",
   "name": "python",
   "nbconvert_exporter": "python",
   "pygments_lexer": "ipython3",
   "version": "3.6.5"
  }
 },
 "nbformat": 4,
 "nbformat_minor": 2
}
