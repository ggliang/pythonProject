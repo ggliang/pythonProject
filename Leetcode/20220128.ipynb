{
 "cells": [
  {
   "cell_type": "code",
   "execution_count": null,
   "id": "44b7ecc5",
   "metadata": {},
   "outputs": [],
   "source": [
    "# chr(97-122)\n",
    "s = \"A man, a plan, a canal: Panama\"\n",
    "s = s.lower()\n",
    "left = 0\n",
    "right = len(s)-1\n",
    "check = []\n",
    "for i in range(97,123):\n",
    "    check.append(ord[i])\n",
    "while(left<right):\n",
    "    if s[left] not in check:\n",
    "        left+=1\n",
    "    elif s[right] not in check:\n",
    "        right-=1\n",
    "    elif s[left]!=s[right]:\n",
    "        return False\n",
    "    else:\n",
    "        left+=1\n",
    "        right-=1\n",
    "return True       "
   ]
  },
  {
   "cell_type": "code",
   "execution_count": null,
   "id": "72fef156",
   "metadata": {},
   "outputs": [],
   "source": [
    "s = \"A man, a plan, a canal: Panama\"\n",
    "def isPalindrome(s):\n",
    "    s = s.lower()\n",
    "    left = 0\n",
    "    right = len(s)-1\n",
    "    check = []\n",
    "    for i in range(97,123):\n",
    "        check.append(ord[i])\n",
    "    c\n",
    "    while(left<right):\n",
    "        if s[left] not in check:\n",
    "            left+=1\n",
    "        elif s[right] not in check:\n",
    "            right-=1\n",
    "        elif s[left]!=s[right]:\n",
    "            return False\n",
    "        else:\n",
    "            left+=1\n",
    "            right-=1\n",
    "    return True       \n",
    "isPalindrome(s)"
   ]
  },
  {
   "cell_type": "code",
   "execution_count": 3,
   "id": "df164d13",
   "metadata": {},
   "outputs": [
    {
     "data": {
      "text/plain": [
       "[<__main__.TreeNode at 0x19c69b55dc0>,\n",
       " <__main__.TreeNode at 0x19c69b55d90>,\n",
       " <__main__.TreeNode at 0x19c69b49760>]"
      ]
     },
     "execution_count": 3,
     "metadata": {},
     "output_type": "execute_result"
    }
   ],
   "source": [
    "class TreeNode:\n",
    "    def __init__(self, val=0, left=None, right=None):\n",
    "        self.val = val\n",
    "        self.left = left\n",
    "        self.right = right\n",
    "def generateTrees(n):\n",
    "    a_list = [i for i in range(1,n+1)]\n",
    "    res = []\n",
    "    def helper(list_):\n",
    "        if(not list_):\n",
    "            return None\n",
    "        elif(len(list_)==1):\n",
    "            return TreeNode(list_[0])\n",
    "        else:\n",
    "            for i in range(len(list_)):\n",
    "                p = TreeNode(list_[i])\n",
    "                p.left = helper(list_[:i])\n",
    "                p.right = helper(list_[i+1:])\n",
    "            return p\n",
    "    for i in range(len(a_list)):\n",
    "        root = TreeNode(a_list[i])\n",
    "        p = root\n",
    "        p.left = helper(a_list[:i])\n",
    "        p.right = helper(a_list[i+1:])\n",
    "        res.append(root)\n",
    "    return res\n",
    "generateTrees(3)"
   ]
  },
  {
   "cell_type": "code",
   "execution_count": 19,
   "id": "f8468204",
   "metadata": {},
   "outputs": [
    {
     "data": {
      "text/plain": [
       "[]"
      ]
     },
     "execution_count": 19,
     "metadata": {},
     "output_type": "execute_result"
    }
   ],
   "source": [
    "class TreeNode:\n",
    "    def __init__(self, val=0, left=None, right=None):\n",
    "        self.val = val\n",
    "        self.left = left\n",
    "        self.right = right\n",
    "def generateTrees(n):\n",
    "    a_list = [i for i in range(1,n+1)]\n",
    "    res = []\n",
    "    def helper(list_):\n",
    "        if(not list_):\n",
    "            return []\n",
    "        elif(len(list_)==1):\n",
    "            return TreeNode(list_[0])\n",
    "        else:\n",
    "            for i in range(len(list_)):\n",
    "                p = TreeNode(list_[i])\n",
    "                p.left = helper(list_[:i])\n",
    "                p.right = helper(list_[i+1:])\n",
    "            return p\n",
    "    helper(a_list)\n",
    "    return res\n",
    "generateTrees(3)"
   ]
  },
  {
   "cell_type": "code",
   "execution_count": 2,
   "id": "10674ed9",
   "metadata": {},
   "outputs": [
    {
     "data": {
      "text/plain": [
       "[<__main__.TreeNode at 0x1d1541d6ca0>,\n",
       " <__main__.TreeNode at 0x1d1541d6ca0>,\n",
       " <__main__.TreeNode at 0x1d1541d6c10>,\n",
       " <__main__.TreeNode at 0x1d15420a190>,\n",
       " <__main__.TreeNode at 0x1d15420a190>]"
      ]
     },
     "execution_count": 2,
     "metadata": {},
     "output_type": "execute_result"
    }
   ],
   "source": [
    "class TreeNode:\n",
    "    def __init__(self, val=0, left=None, right=None):\n",
    "        self.val = val\n",
    "        self.left = left\n",
    "        self.right = right\n",
    "def generateTrees(n):\n",
    "    a_list = [i for i in range(1,n+1)]\n",
    "    def helper(list_):\n",
    "        res = []\n",
    "        if not list_:\n",
    "            return [None]\n",
    "        if len(list_)==1:\n",
    "            return [TreeNode(list_[0])]\n",
    "        for m in range(len(list_)):\n",
    "            p = TreeNode(list_[m])\n",
    "            for i in helper(list_[:m]):\n",
    "                for j in helper(list_[m+1:]):\n",
    "                    p.left = i\n",
    "                    p.right = j\n",
    "                    res.append(p)    \n",
    "        return res\n",
    "    return helper(a_list)\n",
    "generateTrees(3)"
   ]
  }
 ],
 "metadata": {
  "kernelspec": {
   "display_name": "Python 3 (ipykernel)",
   "language": "python",
   "name": "python3"
  },
  "language_info": {
   "codemirror_mode": {
    "name": "ipython",
    "version": 3
   },
   "file_extension": ".py",
   "mimetype": "text/x-python",
   "name": "python",
   "nbconvert_exporter": "python",
   "pygments_lexer": "ipython3",
   "version": "3.9.7"
  }
 },
 "nbformat": 4,
 "nbformat_minor": 5
}
