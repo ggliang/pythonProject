{
 "cells": [
  {
   "cell_type": "code",
   "execution_count": 14,
   "metadata": {},
   "outputs": [
    {
     "data": {
      "text/plain": [
       "3"
      ]
     },
     "execution_count": 14,
     "metadata": {},
     "output_type": "execute_result"
    }
   ],
   "source": [
    "nums = [0,1,2,2]\n",
    "n = len(nums)\n",
    "count = 1\n",
    "max_count = 1\n",
    "nums.sort()\n",
    "for i in range(1,n):\n",
    "    if( nums[i]==nums[i-1]):\n",
    "        continue\n",
    "    if( nums[i]==nums[i-1]+1):\n",
    "        count+=1\n",
    "        max_count=max(max_count,count)\n",
    "    else:\n",
    "        count = 1\n",
    "max_count"
   ]
  },
  {
   "cell_type": "code",
   "execution_count": 17,
   "metadata": {},
   "outputs": [
    {
     "ename": "IndexError",
     "evalue": "list index out of range",
     "output_type": "error",
     "traceback": [
      "\u001b[1;31m---------------------------------------------------------------------------\u001b[0m",
      "\u001b[1;31mIndexError\u001b[0m                                Traceback (most recent call last)",
      "\u001b[1;32m<ipython-input-17-6143d9f5c643>\u001b[0m in \u001b[0;36m<module>\u001b[1;34m()\u001b[0m\n\u001b[0;32m      6\u001b[0m         \u001b[1;32mif\u001b[0m\u001b[1;33m(\u001b[0m\u001b[0mboard\u001b[0m\u001b[1;33m[\u001b[0m\u001b[0mi\u001b[0m\u001b[1;33m]\u001b[0m\u001b[1;33m[\u001b[0m\u001b[0mj\u001b[0m\u001b[1;33m]\u001b[0m\u001b[1;33m==\u001b[0m\u001b[1;34m\"O\"\u001b[0m\u001b[1;33m)\u001b[0m\u001b[1;33m:\u001b[0m\u001b[1;33m\u001b[0m\u001b[0m\n\u001b[0;32m      7\u001b[0m             \u001b[0mcount\u001b[0m \u001b[1;33m=\u001b[0m \u001b[1;36m0\u001b[0m\u001b[1;33m\u001b[0m\u001b[0m\n\u001b[1;32m----> 8\u001b[1;33m             \u001b[1;32mif\u001b[0m\u001b[1;33m(\u001b[0m\u001b[1;34m\"X\"\u001b[0m \u001b[1;32min\u001b[0m \u001b[0mboard\u001b[0m\u001b[1;33m[\u001b[0m\u001b[1;36m0\u001b[0m\u001b[1;33m:\u001b[0m\u001b[0mi\u001b[0m\u001b[1;33m]\u001b[0m\u001b[1;33m[\u001b[0m\u001b[0mj\u001b[0m\u001b[1;33m]\u001b[0m\u001b[1;33m)\u001b[0m\u001b[1;33m:\u001b[0m \u001b[1;31m#up\u001b[0m\u001b[1;33m\u001b[0m\u001b[0m\n\u001b[0m\u001b[0;32m      9\u001b[0m                 \u001b[0mcount\u001b[0m\u001b[1;33m+=\u001b[0m\u001b[1;36m1\u001b[0m\u001b[1;33m\u001b[0m\u001b[0m\n\u001b[0;32m     10\u001b[0m             \u001b[1;32mif\u001b[0m\u001b[1;33m(\u001b[0m\u001b[1;34m\"X\"\u001b[0m \u001b[1;32min\u001b[0m \u001b[0mboard\u001b[0m\u001b[1;33m[\u001b[0m\u001b[0mi\u001b[0m\u001b[1;33m]\u001b[0m\u001b[1;33m[\u001b[0m\u001b[0mj\u001b[0m\u001b[1;33m:\u001b[0m\u001b[0mm\u001b[0m\u001b[1;33m]\u001b[0m\u001b[1;33m)\u001b[0m\u001b[1;33m:\u001b[0m \u001b[1;31m#right\u001b[0m\u001b[1;33m\u001b[0m\u001b[0m\n",
      "\u001b[1;31mIndexError\u001b[0m: list index out of range"
     ]
    }
   ],
   "source": [
    "board = [[\"X\",\"X\",\"X\",\"X\"],[\"X\",\"O\",\"O\",\"X\"],[\"X\",\"X\",\"O\",\"X\"],[\"X\",\"O\",\"X\",\"X\"]]\n",
    "m = len(board[0])\n",
    "n = len(board)\n",
    "for i in range(1,n-1):\n",
    "    for j in range(1,m-1):\n",
    "        if(board[i][j]==\"O\"):\n",
    "            count = 0\n",
    "            if(\"X\" in board[:i][j]): #up\n",
    "                count+=1\n",
    "            if(\"X\" in board[i][j:m]): #right\n",
    "                count+=1\n",
    "            if(\"X\" in board[i:n][j]): #down\n",
    "                count+=1\n",
    "            if(\"X\" in board[i][j:]): #left\n",
    "                count+=1\n",
    "            if(count == 4):\n",
    "                board[i][j] = 'X'\n",
    "board            "
   ]
  },
  {
   "cell_type": "code",
   "execution_count": 24,
   "metadata": {},
   "outputs": [
    {
     "data": {
      "text/plain": [
       "[['X']]"
      ]
     },
     "execution_count": 24,
     "metadata": {},
     "output_type": "execute_result"
    }
   ],
   "source": [
    "board = [[\"O\",\"X\",\"X\",\"O\",\"X\"],\n",
    "         [\"X\",\"O\",\"O\",\"X\",\"O\"],\n",
    "         [\"X\",\"O\",\"X\",\"O\",\"X\"],\n",
    "         [\"O\",\"X\",\"O\",\"O\",\"O\"],\n",
    "         [\"X\",\"X\",\"O\",\"X\",\"O\"]]\n",
    "m = len(board[0])\n",
    "n = len(board)\n",
    "for i in range(1,n-1):\n",
    "    for j in range(1,m-1):\n",
    "        if(board[i][j]==\"O\"):\n",
    "            count = 0\n",
    "            if(\"X\" in board[i][j:m]): #right\n",
    "                count+=1\n",
    "            if(\"X\" in board[i][j:]): #left\n",
    "                count+=1\n",
    "            for up in range(i):\n",
    "                if(board[up][j] == 'X'):\n",
    "                    count +=1 \n",
    "                    break\n",
    "            for down in range(i,n):\n",
    "                if(board[down][j]== 'X'):\n",
    "                    count+=1\n",
    "                    break\n",
    "            if(count == 4):\n",
    "                board[i][j] = 'X'\n",
    "board            "
   ]
  },
  {
   "cell_type": "code",
   "execution_count": 13,
   "metadata": {},
   "outputs": [
    {
     "data": {
      "text/plain": [
       "[['O', 'X', 'X', 'O', 'X'],\n",
       " ['X', 'X', 'X', 'X', 'O'],\n",
       " ['X', 'X', 'X', 'O', 'X'],\n",
       " ['O', 'X', 'O', 'O', 'O'],\n",
       " ['X', 'X', 'O', 'X', 'O']]"
      ]
     },
     "execution_count": 13,
     "metadata": {},
     "output_type": "execute_result"
    }
   ],
   "source": [
    "board = [[\"O\",\"X\",\"X\",\"O\",\"X\"],\n",
    "         [\"X\",\"O\",\"O\",\"X\",\"O\"],\n",
    "         [\"X\",\"O\",\"X\",\"O\",\"X\"],\n",
    "         [\"O\",\"X\",\"O\",\"O\",\"O\"],\n",
    "         [\"X\",\"X\",\"O\",\"X\",\"O\"]]\n",
    "m, n = len(board), len(board[0])\n",
    "save = [ ij for k in range(max(m,n)) for ij in [(0,k),(m-1,k),(k,n-1),(k,0)]]\n",
    "while save:\n",
    "    i,j=save.pop()\n",
    "    if(0<=i<m and 0<=j<n and board[i][j]=='O'):\n",
    "        board[i][j] = -1\n",
    "        save+=(i+1,j),(i-1,j),(i,j+1),(i,j-1)\n",
    "for i in range(m):\n",
    "    for j in range(n):\n",
    "        if board[i][j]=='O':\n",
    "            board[i][j]='X'\n",
    "        elif(board[i][j]==-1):\n",
    "            board[i][j]='O'\n",
    "board\n",
    "            "
   ]
  },
  {
   "cell_type": "code",
   "execution_count": 33,
   "metadata": {},
   "outputs": [],
   "source": [
    "board = [[\"O\",\"X\",\"X\",\"O\",\"X\"],\n",
    "         [\"X\",\"O\",\"O\",\"X\",\"O\"],\n",
    "         [\"X\",\"O\",\"X\",\"O\",\"X\"],\n",
    "         [\"O\",\"X\",\"O\",\"O\",\"O\"],\n",
    "         [\"X\",\"X\",\"O\",\"X\",\"O\"]]\n",
    "m, n = len(board), len(board[0])\n",
    "save = [ ij for k in range(max(m,n)) for ij in [(0,k),(m-1,k),(k,n-1),(k,0)]]\n",
    "while save:\n",
    "    i,j=save.pop()\n",
    "    if(0<=i<m and 0<=j<n and board[i][j]=='O'):\n",
    "        board[i][j] = -1\n",
    "        save+=(i+1,j),(i-1,j),(i,j+1),(i,j-1)"
   ]
  },
  {
   "cell_type": "code",
   "execution_count": 34,
   "metadata": {},
   "outputs": [
    {
     "data": {
      "text/plain": [
       "[['O', 'X', 'X', 'O', 'X'],\n",
       " ['X', 'X', 'X', 'X', 'O'],\n",
       " ['X', 'X', 'X', 'O', 'X'],\n",
       " ['O', 'X', 'O', 'O', 'O'],\n",
       " ['X', 'X', 'O', 'X', 'O']]"
      ]
     },
     "execution_count": 34,
     "metadata": {},
     "output_type": "execute_result"
    }
   ],
   "source": [
    "board = [['XO'[c == -1] for c in row] for row in board]\n",
    "board"
   ]
  }
 ],
 "metadata": {
  "kernelspec": {
   "display_name": "Python 3",
   "language": "python",
   "name": "python3"
  },
  "language_info": {
   "codemirror_mode": {
    "name": "ipython",
    "version": 3
   },
   "file_extension": ".py",
   "mimetype": "text/x-python",
   "name": "python",
   "nbconvert_exporter": "python",
   "pygments_lexer": "ipython3",
   "version": "3.6.5"
  }
 },
 "nbformat": 4,
 "nbformat_minor": 2
}
