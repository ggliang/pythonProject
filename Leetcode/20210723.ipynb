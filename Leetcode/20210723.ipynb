{
 "cells": [
  {
   "cell_type": "code",
   "execution_count": 9,
   "metadata": {},
   "outputs": [],
   "source": [
    "matrix = [[\"1\",\"0\",\"1\",\"0\",\"0\"],\n",
    "          [\"1\",\"0\",\"1\",\"1\",\"1\"],\n",
    "          [\"1\",\"1\",\"1\",\"1\",\"1\"],\n",
    "          [\"1\",\"0\",\"0\",\"1\",\"0\"]]\n",
    "if matrix:\n",
    "    M = len(matrix)\n",
    "    N = len(matrix[0])\n",
    "else:\n",
    "    print('0')\n",
    "start_i = 0\n",
    "start_j = 0\n",
    "end_i = M\n",
    "end_j = N\n",
    "def digui(start_i,start_j,end_i,end_j):\n",
    "    idx=True\n",
    "    if(idx):\n",
    "        for i,j in range(start_i,end_i):\n",
    "            for j in range(range(start_j,end_j):\n",
    "                if(matrix[i][j]=='0'):\n",
    "                    idx==False\n",
    "                    break\n",
    "        \n",
    "            "
   ]
  },
  {
   "cell_type": "code",
   "execution_count": 35,
   "metadata": {},
   "outputs": [
    {
     "data": {
      "text/plain": [
       "6"
      ]
     },
     "execution_count": 35,
     "metadata": {},
     "output_type": "execute_result"
    }
   ],
   "source": [
    "n = len(matrix[0])\n",
    "height = [0] * (n + 1)\n",
    "ans = 0\n",
    "for row in matrix:\n",
    "    for i in range(n):\n",
    "        height[i] = height[i] + 1 if row[i] == '1' else 0\n",
    "    stack = [-1]\n",
    "    for i in range(n+1):\n",
    "        while height[i]<height[stack[-1]]:\n",
    "            h=height[stack.pop()]\n",
    "            w=i-1-stack[-1]\n",
    "            ans=max(ans,h*w)\n",
    "        stack.append(i)\n",
    "ans"
   ]
  },
  {
   "cell_type": "code",
   "execution_count": 34,
   "metadata": {},
   "outputs": [
    {
     "name": "stdout",
     "output_type": "stream",
     "text": [
      "[1, 0, 1, 0, 0, 0]\n",
      "[2, 0, 2, 1, 1, 0]\n",
      "[3, 1, 3, 2, 2, 0]\n",
      "[4, 0, 0, 3, 0, 0]\n"
     ]
    }
   ],
   "source": [
    "height = [0] * (n + 1)\n",
    "for row in matrix:\n",
    "    for i in range(n):\n",
    "        height[i] = height[i] + 1 if row[i] == '1' else 0\n",
    "    print(height)"
   ]
  }
 ],
 "metadata": {
  "kernelspec": {
   "display_name": "Python 3",
   "language": "python",
   "name": "python3"
  },
  "language_info": {
   "codemirror_mode": {
    "name": "ipython",
    "version": 3
   },
   "file_extension": ".py",
   "mimetype": "text/x-python",
   "name": "python",
   "nbconvert_exporter": "python",
   "pygments_lexer": "ipython3",
   "version": "3.6.5"
  }
 },
 "nbformat": 4,
 "nbformat_minor": 2
}
