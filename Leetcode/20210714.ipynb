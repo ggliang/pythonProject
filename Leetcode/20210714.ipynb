{
 "cells": [
  {
   "cell_type": "code",
   "execution_count": 15,
   "metadata": {},
   "outputs": [
    {
     "data": {
      "text/plain": [
       "[1, 7, 16, 37, 42, 45, 51, 65, 68, 73, 82]"
      ]
     },
     "execution_count": 15,
     "metadata": {},
     "output_type": "execute_result"
    }
   ],
   "source": [
    "nums = [2,0,6,9,8,4,5,0,8,9,1,2,9,6,8,8,0,6,3,1,2,2,1,2,6,5,3,1,2,2,6,4,2,4,3,0,0,0,3,8,2,4,0,1,2,0,1,4,6,5,8,0,7,9,3,4,6,6,5,8,9,3,4,3,7,0,4,9,0,9,8,4,3,0,7,7,1,9,1,9,4,9,0,1,9,5,7,7,1,5,8,2,8,2,6,8,2,2,7,5,1,7,9,6]\n",
    "poi_last_zero=[]\n",
    "poi=0\n",
    "for i in range(len(nums)-1):\n",
    "    if(nums[i+1]==0):\n",
    "        continue\n",
    "    elif(nums[i]==0):\n",
    "        poi_last_zero.append(i)\n",
    "if(nums[-1]==0)\n",
    "poi_last_zero"
   ]
  },
  {
   "cell_type": "code",
   "execution_count": 34,
   "metadata": {},
   "outputs": [
    {
     "name": "stdout",
     "output_type": "stream",
     "text": [
      "True\n"
     ]
    }
   ],
   "source": [
    "nums=[8,2,4,4,4,9,5,2,5,8,8,0,8,6,9,1,1,6,3,5,1,2,6,6,0,4,8,6,0,3,2,8,7,6,5,1,7,0,3,4,8,3,5,9,0,4,0,1,0,5,9,2,0,7,0,2,1,0,8,2,5,1,2,3,9,7,4,7,0,0,1,8,5,6,7,5,1,9,9,3,5,0,7,5]\n",
    "poi_last_zero=[]\n",
    "poi=0\n",
    "for i in range(len(nums)):\n",
    "    try:\n",
    "        if(nums[i+1]==0):\n",
    "            continue\n",
    "        elif(nums[i]==0):\n",
    "            poi_last_zero.append(i)\n",
    "    except:\n",
    "        if(nums[i]==0):\n",
    "            poi_last_zero.append(i)\n",
    "if(poi_last_zero):\n",
    "    poi_zero=0\n",
    "else:\n",
    "    print('true')\n",
    "while poi!=len(nums)-1:\n",
    "    if(poi+nums[poi]>=len(nums)-1):\n",
    "        print('True')\n",
    "        break\n",
    "    if(poi+nums[poi]>poi_last_zero[-1]):\n",
    "        print('True')\n",
    "        break\n",
    "    if(poi+nums[poi]>poi_last_zero[poi_zero]):\n",
    "        poi=poi_last_zero[poi_zero]\n",
    "        poi_zero+=1\n",
    "    if(poi==poi_last_zero[poi_zero]):\n",
    "        print('false')\n",
    "        break\n",
    "    poi+=1\n",
    "        \n",
    "    "
   ]
  },
  {
   "cell_type": "code",
   "execution_count": 50,
   "metadata": {},
   "outputs": [
    {
     "name": "stdout",
     "output_type": "stream",
     "text": [
      "false\n"
     ]
    }
   ],
   "source": [
    "nums=[3,0,8,2,0,0,1]\n",
    "poi_last_zero=[]\n",
    "poi=0\n",
    "for i in range(len(nums)):\n",
    "    try:\n",
    "        if(nums[i+1]==0):\n",
    "            continue\n",
    "        elif(nums[i]==0):\n",
    "            poi_last_zero.append(i)\n",
    "    except:\n",
    "        if(nums[i]==0):\n",
    "            poi_last_zero.append(i)\n",
    "if(poi_last_zero):\n",
    "    poi_zero=0\n",
    "else:\n",
    "    print('true')\n",
    "count=0\n",
    "while poi!=len(nums)-1:\n",
    "    if(poi+nums[poi]>=len(nums)-1):\n",
    "        print('True')\n",
    "        break\n",
    "    if(poi+nums[poi]>poi_last_zero[-1]):\n",
    "        print('True')\n",
    "        break\n",
    "    if(poi+nums[poi]>poi_last_zero[poi_zero]):\n",
    "        for j in range(poi,min(len(nums),poi+nums[poi]+1)):\n",
    "            if j in poi_last_zero:\n",
    "                count+=1\n",
    "        poi=poi_last_zero[poi_zero+count]\n",
    "        poi_zero=poi_zero+count\n",
    "        count=0\n",
    "    if(poi==poi_last_zero[poi_zero]):\n",
    "        print('false')\n",
    "        break\n",
    "    poi+=1\n",
    "        \n",
    "    "
   ]
  },
  {
   "cell_type": "code",
   "execution_count": 12,
   "metadata": {},
   "outputs": [
    {
     "name": "stdout",
     "output_type": "stream",
     "text": [
      "0\n",
      "false\n"
     ]
    }
   ],
   "source": [
    "nums=[8,2,4,4,4,9,5,2,5,8,8,0,8,6,9,1,1,6,3,5,1,2,6,6,0,4,8,6,0,3,2,8,7,6,5,1,7,0,3,4,8,3,5,9,0,4,0,1,0,5,9,2,0,7,0,2,1,0,8,2,5,1,2,3,9,7,4,7,0,0,1,8,5,6,7,5,1,9,9,3,5,0,7,5]\n",
    "poi_last_zero=[]\n",
    "poi=0\n",
    "for i in range(len(nums)):\n",
    "    try:\n",
    "        if(nums[i+1]==0):\n",
    "            continue\n",
    "        elif(nums[i]==0):\n",
    "            poi_last_zero.append(i)\n",
    "    except:\n",
    "        if(nums[i]==0):\n",
    "            poi_last_zero.append(i)\n",
    "if(poi_last_zero):\n",
    "    poi_zero=0\n",
    "else:\n",
    "    print('true')\n",
    "count=0\n",
    "while poi!=len(nums)-1:\n",
    "    if(poi+nums[poi]>=len(nums)-1):\n",
    "        print('True')\n",
    "        break\n",
    "    if(poi+nums[poi]>poi_last_zero[-1]):\n",
    "        print('True')\n",
    "        break\n",
    "    if(poi+nums[poi]>poi_last_zero[poi_zero]):\n",
    "        for i in range(poi,min(poi+nums[poi]+1,len(nums))):\n",
    "            if(i in poi_last_zero):\n",
    "                count+=1\n",
    "        poi=poi_last_zero[poi_zero+count-1]\n",
    "        poi_zero=poi_zero+count\n",
    "        count=0\n",
    "    if(poi==poi_last_zero[poi_zero]):\n",
    "        print()\n",
    "        print('false')\n",
    "        break\n",
    "    poi+=1\n",
    "        \n",
    "    "
   ]
  },
  {
   "cell_type": "code",
   "execution_count": 24,
   "metadata": {},
   "outputs": [
    {
     "name": "stdout",
     "output_type": "stream",
     "text": [
      "false\n",
      "true\n"
     ]
    }
   ],
   "source": [
    "nums = [2,0,0,0]\n",
    "\n",
    "m=0\n",
    "for i, n in enumerate(nums):\n",
    "    if(i>m):\n",
    "        print('false')\n",
    "        break\n",
    "    m=max(m,i+n)\n",
    "print('true')\n"
   ]
  },
  {
   "cell_type": "code",
   "execution_count": 25,
   "metadata": {},
   "outputs": [
    {
     "name": "stdout",
     "output_type": "stream",
     "text": [
      "False\n"
     ]
    }
   ],
   "source": [
    "goal=len(nums)-1\n",
    "for i in range(len(nums)-1,-1,-1):\n",
    "    if(i+nums[i]>=goal):\n",
    "        goal=i\n",
    "print( not goal)"
   ]
  }
 ],
 "metadata": {
  "kernelspec": {
   "display_name": "Python 3",
   "language": "python",
   "name": "python3"
  },
  "language_info": {
   "codemirror_mode": {
    "name": "ipython",
    "version": 3
   },
   "file_extension": ".py",
   "mimetype": "text/x-python",
   "name": "python",
   "nbconvert_exporter": "python",
   "pygments_lexer": "ipython3",
   "version": "3.6.5"
  }
 },
 "nbformat": 4,
 "nbformat_minor": 2
}
