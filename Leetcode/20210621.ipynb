{
 "cells": [
  {
   "cell_type": "code",
   "execution_count": 17,
   "metadata": {},
   "outputs": [
    {
     "data": {
      "text/plain": [
       "[[0, 4], [9, 11]]"
      ]
     },
     "execution_count": 17,
     "metadata": {},
     "output_type": "execute_result"
    }
   ],
   "source": [
    "candidates = [1,1,1,1,1,0,0,0,0,1,1,1]\n",
    "left = 0\n",
    "right = 0\n",
    "n = len(candidates)\n",
    "res=[]\n",
    "while right != n:\n",
    "    if(candidates[left]==1 and right<left):\n",
    "        right=left\n",
    "    elif(candidates[left]==1):\n",
    "        right+=1\n",
    "        try:\n",
    "            if(candidates[right]!=1):\n",
    "                res.append([left,right-1])\n",
    "                left=right\n",
    "        except:\n",
    "            res.append([left,right-1])\n",
    "    else:\n",
    "        left+=1\n",
    "\n",
    "res"
   ]
  },
  {
   "cell_type": "code",
   "execution_count": null,
   "metadata": {},
   "outputs": [],
   "source": [
    "candidates = [0,1,1,1,0,0,1,1,0,1]\n",
    "for i in range(len(candidates)):\n",
    "    if(candidates[i]==1):\n",
    "        "
   ]
  }
 ],
 "metadata": {
  "kernelspec": {
   "display_name": "Python 3",
   "language": "python",
   "name": "python3"
  },
  "language_info": {
   "codemirror_mode": {
    "name": "ipython",
    "version": 3
   },
   "file_extension": ".py",
   "mimetype": "text/x-python",
   "name": "python",
   "nbconvert_exporter": "python",
   "pygments_lexer": "ipython3",
   "version": "3.6.5"
  }
 },
 "nbformat": 4,
 "nbformat_minor": 2
}
