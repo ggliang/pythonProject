{
 "cells": [
  {
   "cell_type": "code",
   "execution_count": 12,
   "metadata": {},
   "outputs": [
    {
     "data": {
      "text/plain": [
       "[6, 7, 9, 7, 6]"
      ]
     },
     "execution_count": 12,
     "metadata": {},
     "output_type": "execute_result"
    }
   ],
   "source": [
    "prices = [2,6,7,1,8,5,100]\n",
    "n = len(nums)\n",
    "res = []\n",
    "for i in range(1,n):\n",
    "    res.append((max(nums[:i])-min(nums[:i]))+max(nums[i:])-min(nums[i:]))\n",
    "max(res)"
   ]
  },
  {
   "cell_type": "code",
   "execution_count": 22,
   "metadata": {},
   "outputs": [
    {
     "name": "stdout",
     "output_type": "stream",
     "text": [
      "4\n",
      "1\n",
      "7\n",
      "95\n"
     ]
    }
   ],
   "source": [
    "prices = [2,6,7,1,8,5,100]\n",
    "\n",
    "for i, j in zip(prices[1:], prices[:-1]):\n",
    "    if i - j > 0:\n",
    "        print(i-j)"
   ]
  },
  {
   "cell_type": "code",
   "execution_count": 30,
   "metadata": {},
   "outputs": [
    {
     "data": {
      "text/plain": [
       "[[0, 0, 0, 0, 0, 0],\n",
       " [0, 0, 0, 0, 0, 0],\n",
       " [0, 0, 0, 0, 0, 0],\n",
       " [0, 0, 0, 0, 0, 0]]"
      ]
     },
     "execution_count": 30,
     "metadata": {},
     "output_type": "execute_result"
    }
   ],
   "source": [
    "k =3\n",
    "globalMax = [[0] * n for _ in range(k + 1)]\n",
    "globalMax"
   ]
  },
  {
   "cell_type": "code",
   "execution_count": 32,
   "metadata": {},
   "outputs": [
    {
     "data": {
      "text/plain": [
       "[0, 4, 5, 5, 12, 12, 107]"
      ]
     },
     "execution_count": 32,
     "metadata": {},
     "output_type": "execute_result"
    }
   ],
   "source": [
    "prices = [2,6,7,1,8,5,100]\n",
    "k = 3\n",
    "profits = [0]*len(prices)\n",
    "for j in range(k):\n",
    "\n",
    "    preprofit = 0\n",
    "    for i in range(1,len(prices)):\n",
    "\n",
    "        profit = prices[i] - prices[i-1]\n",
    "        preprofit = max(preprofit+profit, profits[i])\n",
    "        profits[i] = max(profits[i-1], preprofit)\n",
    "profits"
   ]
  },
  {
   "cell_type": "code",
   "execution_count": 8,
   "metadata": {},
   "outputs": [
    {
     "name": "stdout",
     "output_type": "stream",
     "text": [
      "[0, 4, 5, 5, 12, 12, 107]\n"
     ]
    }
   ],
   "source": [
    "prices = [2,6,7,1,8,5,100]\n",
    "n = len(prices)\n",
    "k =3\n",
    "if(n==1):\n",
    "    print(0)\n",
    "elif(k>n//2):\n",
    "    print(sum(i - j for i,j in zip(prices[1:],prices[:-1]) if i-j>0))\n",
    "else:\n",
    "    profits = [0 for _ in range(n)]\n",
    "    for i in range(k):\n",
    "        preprofit = 0\n",
    "        for j in range(1,n):\n",
    "            profit = prices[j]-prices[j-1]\n",
    "            preprofit = max(preprofit+profit,profits[j])\n",
    "            profits[j] = max(preprofit,profits[j-1])\n",
    "    print(profits)"
   ]
  }
 ],
 "metadata": {
  "kernelspec": {
   "display_name": "Python 3",
   "language": "python",
   "name": "python3"
  },
  "language_info": {
   "codemirror_mode": {
    "name": "ipython",
    "version": 3
   },
   "file_extension": ".py",
   "mimetype": "text/x-python",
   "name": "python",
   "nbconvert_exporter": "python",
   "pygments_lexer": "ipython3",
   "version": "3.6.5"
  }
 },
 "nbformat": 4,
 "nbformat_minor": 2
}
