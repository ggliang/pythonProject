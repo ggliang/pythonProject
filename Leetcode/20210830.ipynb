{
 "cells": [
  {
   "cell_type": "code",
   "execution_count": 7,
   "metadata": {},
   "outputs": [
    {
     "name": "stdout",
     "output_type": "stream",
     "text": [
      "true\n",
      "true\n",
      "true\n"
     ]
    }
   ],
   "source": [
    "nums = [1,5,9,1,5,9]\n",
    "k = 2#distance\n",
    "t = 3#abs value\n",
    "n = len(nums)\n",
    "\n",
    "for i in range(n):\n",
    "    for j in range(i+1,min(n,i+k+1)):\n",
    "        if(abs(nums[j]-nums[i])<=t):\n",
    "            print(\"true\")"
   ]
  },
  {
   "cell_type": "code",
   "execution_count": null,
   "metadata": {},
   "outputs": [],
   "source": [
    "nums = [1,5,9,1,5,9]\n",
    "k = 2#distance\n",
    "t = 3#abs value\n",
    "n = len(nums)\n",
    "dic_dis={}\n",
    "num = list(set(nums))\n",
    "for i in num:\n",
    "    dic_dis[i]=[]\n",
    "for i in range(n):\n",
    "    dic_dis[nums[i]]+=[i]\n",
    "min_dis = n\n",
    "for key in dic_dis.keys():\n",
    "    for i in range(len(dic_dis[key])-1):\n",
    "        min_dis = min(min_dis,dic_dis[key][i+1]-dic_dis[key][i])\n",
    "        if(min_dis<=k):\n",
    "            print(\"True\")"
   ]
  }
 ],
 "metadata": {
  "kernelspec": {
   "display_name": "Python 3",
   "language": "python",
   "name": "python3"
  },
  "language_info": {
   "codemirror_mode": {
    "name": "ipython",
    "version": 3
   },
   "file_extension": ".py",
   "mimetype": "text/x-python",
   "name": "python",
   "nbconvert_exporter": "python",
   "pygments_lexer": "ipython3",
   "version": "3.6.5"
  }
 },
 "nbformat": 4,
 "nbformat_minor": 2
}
