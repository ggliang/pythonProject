{
 "cells": [
  {
   "cell_type": "code",
   "execution_count": 1,
   "metadata": {},
   "outputs": [
    {
     "ename": "SyntaxError",
     "evalue": "'return' outside function (<ipython-input-1-f48bab09d376>, line 4)",
     "output_type": "error",
     "traceback": [
      "\u001b[1;36m  File \u001b[1;32m\"<ipython-input-1-f48bab09d376>\"\u001b[1;36m, line \u001b[1;32m4\u001b[0m\n\u001b[1;33m    return 0\u001b[0m\n\u001b[1;37m    ^\u001b[0m\n\u001b[1;31mSyntaxError\u001b[0m\u001b[1;31m:\u001b[0m 'return' outside function\n"
     ]
    }
   ],
   "source": [
    "nums = [1,2,3,1]\n",
    "n = len(nums)\n",
    "if n==1:\n",
    "    return 0\n",
    "elif(nums[0]>nums[1]):\n",
    "    return 0\n",
    "elif(nums[n-2]<nums[n-1]):\n",
    "    return n-1\n",
    "else:\n",
    "    for i in range(1,n-1):\n",
    "        if(nums[i]>nums[i-1] and nums[i]>nums[i+1]):\n",
    "            return i\n",
    "    return n-1"
   ]
  },
  {
   "cell_type": "code",
   "execution_count": 13,
   "metadata": {},
   "outputs": [
    {
     "data": {
      "text/plain": [
       "[1, 2]"
      ]
     },
     "execution_count": 13,
     "metadata": {},
     "output_type": "execute_result"
    }
   ],
   "source": [
    "numbers = [2,7,11,15]\n",
    "target = 9\n",
    "n = len(numbers)\n",
    "\n",
    "res = []\n",
    "for i in range(n):\n",
    "    temp = numbers[i]\n",
    "    numbers[i] ='a'\n",
    "    if(target-temp in numbers):\n",
    "        res.append(i+1)\n",
    "        res.append(numbers.index(target-temp)+1)\n",
    "        break\n",
    "    numbers[i] = temp\n",
    "res"
   ]
  },
  {
   "cell_type": "code",
   "execution_count": 40,
   "metadata": {},
   "outputs": [
    {
     "name": "stdout",
     "output_type": "stream",
     "text": [
      "2\n"
     ]
    }
   ],
   "source": [
    "nums = [2,2,1,1,1,2,2]\n",
    "a=list(set(nums))\n",
    "dic={}\n",
    "for i in a:\n",
    "    dic[i] = 0\n",
    "for i in nums:\n",
    "    dic[i]+=1\n",
    "for key in dic.keys():\n",
    "    if dic[key] == max(dic.values()):\n",
    "        return key"
   ]
  },
  {
   "cell_type": "code",
   "execution_count": 42,
   "metadata": {},
   "outputs": [
    {
     "name": "stdout",
     "output_type": "stream",
     "text": [
      "t= 9.8953611 : 2.920000000017353e-05 s,\n"
     ]
    }
   ],
   "source": [
    "import time \n",
    "def c_to_f(c):\n",
    "    return c*9/5+32\n",
    "t0=time.clock()\n",
    "c_to_f(100000)\n",
    "t1=time.clock()-t0\n",
    "print(\"t=\",t0,\":\",t1,\"s,\")"
   ]
  },
  {
   "cell_type": "code",
   "execution_count": null,
   "metadata": {},
   "outputs": [],
   "source": []
  }
 ],
 "metadata": {
  "kernelspec": {
   "display_name": "Python 3",
   "language": "python",
   "name": "python3"
  },
  "language_info": {
   "codemirror_mode": {
    "name": "ipython",
    "version": 3
   },
   "file_extension": ".py",
   "mimetype": "text/x-python",
   "name": "python",
   "nbconvert_exporter": "python",
   "pygments_lexer": "ipython3",
   "version": "3.6.5"
  }
 },
 "nbformat": 4,
 "nbformat_minor": 2
}
