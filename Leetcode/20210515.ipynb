{
 "cells": [
  {
   "cell_type": "code",
   "execution_count": 8,
   "metadata": {},
   "outputs": [
    {
     "name": "stdout",
     "output_type": "stream",
     "text": [
      "AIBHJCGKDFE\n"
     ]
    }
   ],
   "source": [
    "s=\"ABCDEFGHIJK\"\n",
    "numRows=5\n",
    "cycle=numRows*2-2\n",
    "a=[]\n",
    "if (numRows==1):\n",
    "    print(s)\n",
    "else:\n",
    "    for i in range(numRows):\n",
    "        for j in range(i,len(s),cycle):\n",
    "            a.append(s[j])\n",
    "            if(i!=0 and i!=numRows-1 and j+cycle-2*i<len(s)):\n",
    "                a.append(s[j+cycle-2*i])\n",
    "    b=\"\".join(a)\n",
    "    print(b)"
   ]
  },
  {
   "cell_type": "code",
   "execution_count": 19,
   "metadata": {},
   "outputs": [
    {
     "name": "stdout",
     "output_type": "stream",
     "text": [
      "Enter a number:4\n",
      "Enter a number:5\n",
      "Enter a number:a\n",
      "Invalid input\n",
      "Enter a number:7\n",
      "Enter a number:done\n",
      "16.0 3 5.333333333333333\n"
     ]
    }
   ],
   "source": [
    "text=\"\"\n",
    "sum_tot=0\n",
    "count=0\n",
    "while True:\n",
    "    text=input(\"Enter a number:\")\n",
    "    if(text==\"done\"):\n",
    "        break\n",
    "    try:\n",
    "        sum_tot=sum_tot+float(text)\n",
    "        count+=1\n",
    "    except:\n",
    "        print(\"Invalid input\")\n",
    "print(sum_tot,count,sum_tot/count)"
   ]
  },
  {
   "cell_type": "code",
   "execution_count": 12,
   "metadata": {},
   "outputs": [
    {
     "name": "stdout",
     "output_type": "stream",
     "text": [
      "-321\n"
     ]
    }
   ],
   "source": [
    "\n",
    "x=-123\n",
    "a=list(str(x))\n",
    "b=0\n",
    "if(x>=0 and x<=2**31-1):\n",
    "    for i in range(len(a)):\n",
    "        b=b+(10**i)*int(a[i])\n",
    "elif(x<0 and x>-(2**31)):\n",
    "    for i in range(1,len(a)):\n",
    "        b=b-(10**(i-1))*int(a[i])\n",
    "\n",
    "return b"
   ]
  },
  {
   "cell_type": "code",
   "execution_count": 66,
   "metadata": {},
   "outputs": [
    {
     "name": "stdout",
     "output_type": "stream",
     "text": [
      "[4, 1, 9, 3, 0]\n",
      "41930\n"
     ]
    }
   ],
   "source": [
    "s=\"4193 with words\"\n",
    "b=s.replace(\" \",\"\")\n",
    "b=list(str(b))\n",
    "num=0\n",
    "num_list=[]\n",
    "\n",
    "for i in range(len(b)):\n",
    "    if(b[0]==\"-\" and i>0):\n",
    "        tag=-1\n",
    "        try:\n",
    "            num_list.append(int(b[i]))\n",
    "        except:\n",
    "            break\n",
    "    if(b[0]==\"+\" and i>0):\n",
    "        tag=1\n",
    "        try:\n",
    "            num_list.append(int(b[i]))\n",
    "        except:\n",
    "            break\n",
    "    if(b[0]!=\"+\" and b[0]!=\"-\"):\n",
    "        try:\n",
    "            if(int(b[0])):\n",
    "                num_list.append(int(b[i]))\n",
    "                tag=1\n",
    "        except:\n",
    "            num_list.append(0)\n",
    "            break\n",
    "print(num_list)\n",
    "res=0\n",
    "for i in range(len(num_list)):\n",
    "    res=res+int(num_list[i])*(10**(len(num_list)-1-i))\n",
    "print(tag*res)\n",
    "\n"
   ]
  },
  {
   "cell_type": "code",
   "execution_count": 101,
   "metadata": {},
   "outputs": [
    {
     "name": "stdout",
     "output_type": "stream",
     "text": [
      "2\n",
      "-42\n"
     ]
    }
   ],
   "source": [
    "s=\"  -42\"\n",
    "# lal=list(str(s))\n",
    "count=0\n",
    "for i in range(len(s)):\n",
    "    if(s[i]==\" \"):\n",
    "        count+=1\n",
    "    elif(s[i]==\"+\" or s[i]==\"-\"):\n",
    "        break\n",
    "    try:\n",
    "        if(int(s[i])+1):\n",
    "            break\n",
    "    except:\n",
    "        continue\n",
    "#     if(int(s[i])+1):\n",
    "#         break\n",
    "print(count)\n",
    "b=s.replace(\" \",\"\",count)\n",
    "b=list(str(b))\n",
    "num=0\n",
    "num_list=[]\n",
    "for i in range(len(b)):\n",
    "    if(b[0]==\"-\" and i>0):\n",
    "        tag=-1\n",
    "        try:\n",
    "            num_list.append(int(b[i]))\n",
    "        except:\n",
    "            break\n",
    "    if(b[0]==\"+\" and i>0):\n",
    "        tag=1\n",
    "        try:\n",
    "            num_list.append(int(b[i]))\n",
    "        except:\n",
    "            break\n",
    "    if(b[0]!=\"+\" and b[0]!=\"-\"):\n",
    "        try:\n",
    "            if(int(b[i])+1):\n",
    "                num_list.append(int(b[i]))\n",
    "                tag=1\n",
    "        except:\n",
    "            break\n",
    "\n",
    "if(num_list==[]):\n",
    "    print(0)\n",
    "res=0\n",
    "for i in range(len(num_list)):\n",
    "    res=res+int(num_list[i])*(10**(len(num_list)-1-i))\n",
    "\n",
    "if(tag*res>=-(2**31) and tag*res<=2**31-1):\n",
    "    print (tag*res)\n",
    "elif(tag*res<-(2**31)):\n",
    "    print( -(2**31))\n",
    "elif(tag*res>=2**31-1):\n",
    "    print( 2**31-1 )\n"
   ]
  },
  {
   "cell_type": "code",
   "execution_count": 30,
   "metadata": {},
   "outputs": [
    {
     "data": {
      "text/plain": [
       "True"
      ]
     },
     "execution_count": 30,
     "metadata": {},
     "output_type": "execute_result"
    }
   ],
   "source": [
    "12 not in range(10)"
   ]
  }
 ],
 "metadata": {
  "kernelspec": {
   "display_name": "Python 3",
   "language": "python",
   "name": "python3"
  },
  "language_info": {
   "codemirror_mode": {
    "name": "ipython",
    "version": 3
   },
   "file_extension": ".py",
   "mimetype": "text/x-python",
   "name": "python",
   "nbconvert_exporter": "python",
   "pygments_lexer": "ipython3",
   "version": "3.6.5"
  }
 },
 "nbformat": 4,
 "nbformat_minor": 2
}
