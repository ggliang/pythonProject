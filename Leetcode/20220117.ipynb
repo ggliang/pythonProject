{
 "cells": [
  {
   "cell_type": "code",
   "execution_count": 11,
   "id": "9360774a",
   "metadata": {},
   "outputs": [],
   "source": [
    "class ListNode:\n",
    "    def __init__(self, val=0, next=None):\n",
    "        self.val = val\n",
    "        self.next = next\n",
    "head = ListNode(1)\n",
    "p = head\n",
    "p.next= ListNode(1)\n",
    "p = p.next\n",
    "p.next = ListNode(2)\n",
    "p = p.next\n",
    "p.next= ListNode(3)\n",
    "p = p.next\n",
    "p.next = ListNode(3)\n"
   ]
  },
  {
   "cell_type": "code",
   "execution_count": 15,
   "id": "ee06b195",
   "metadata": {},
   "outputs": [
    {
     "data": {
      "text/plain": [
       "2"
      ]
     },
     "execution_count": 15,
     "metadata": {},
     "output_type": "execute_result"
    }
   ],
   "source": [
    "p = head\n",
    "cur = head\n",
    "if not p or not p.next:\n",
    "    print(p)\n",
    "else:\n",
    "    while p.next:\n",
    "        p=p.next\n",
    "        if cur.val==p.val:\n",
    "            \n",
    "            continue\n",
    "        else:\n",
    "            cur.next = p\n",
    "            cur = p\n",
    "if cur!=p:\n",
    "    cur.next = None\n",
    "head.next.val"
   ]
  },
  {
   "cell_type": "code",
   "execution_count": 27,
   "id": "f8b64d83",
   "metadata": {},
   "outputs": [
    {
     "data": {
      "text/plain": [
       "[1, 3, 2]"
      ]
     },
     "execution_count": 27,
     "metadata": {},
     "output_type": "execute_result"
    }
   ],
   "source": [
    "class TreeNode:\n",
    "    def __init__(self, val=0, left=None, right=None):\n",
    "        self.val = val\n",
    "        self.left = left\n",
    "        self.right = right\n",
    "root = TreeNode(1)\n",
    "p = root\n",
    "p.right = TreeNode(2)\n",
    "p = p.right\n",
    "p.left = TreeNode(3)\n",
    "def inorder(root):\n",
    "    return inorder(root.left)+[root.val]+inorder(root.right) if root else []\n",
    "inorder(root)"
   ]
  },
  {
   "cell_type": "code",
   "execution_count": 26,
   "id": "910aefbd",
   "metadata": {},
   "outputs": [
    {
     "data": {
      "text/plain": [
       "[1, 3, 2]"
      ]
     },
     "execution_count": 26,
     "metadata": {},
     "output_type": "execute_result"
    }
   ],
   "source": [
    "res = []\n",
    "def visit(node):\n",
    "    return node.val\n",
    "def rec(node):\n",
    "    if node==None:\n",
    "        return\n",
    "    rec(node.left)\n",
    "    res.append(visit(node))\n",
    "    rec(node.right)\n",
    "    return res\n",
    "return rec(root)\n"
   ]
  }
 ],
 "metadata": {
  "kernelspec": {
   "display_name": "Python 3",
   "language": "python",
   "name": "python3"
  },
  "language_info": {
   "codemirror_mode": {
    "name": "ipython",
    "version": 3
   },
   "file_extension": ".py",
   "mimetype": "text/x-python",
   "name": "python",
   "nbconvert_exporter": "python",
   "pygments_lexer": "ipython3",
   "version": "3.8.8"
  }
 },
 "nbformat": 4,
 "nbformat_minor": 5
}
