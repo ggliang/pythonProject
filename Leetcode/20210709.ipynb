{
 "cells": [
  {
   "cell_type": "code",
   "execution_count": 24,
   "metadata": {},
   "outputs": [
    {
     "data": {
      "text/plain": [
       "[[1, 1, 2], [1, 2, 1], [2, 1, 1]]"
      ]
     },
     "execution_count": 24,
     "metadata": {},
     "output_type": "execute_result"
    }
   ],
   "source": [
    "nums = [1,1,2]\n",
    "res=[]\n",
    "cur=[]\n",
    "def digui(cur,idx_l,idx):\n",
    "    if(len(cur)==len(nums) and cur not in res):\n",
    "        res.append(cur)\n",
    "        return\n",
    "    for i in range(len(nums)):\n",
    "        if(i not in idx_l):\n",
    "            digui(cur+[nums[i]],idx_l+[i],i)\n",
    "digui([],[],-1)\n",
    "res"
   ]
  },
  {
   "cell_type": "code",
   "execution_count": 35,
   "metadata": {},
   "outputs": [
    {
     "data": {
      "text/plain": [
       "[[15, 13, 2, 5], [14, 3, 4, 1], [12, 6, 8, 9], [16, 7, 10, 11]]"
      ]
     },
     "execution_count": 35,
     "metadata": {},
     "output_type": "execute_result"
    }
   ],
   "source": [
    "matrix = [[5,1,9,11],[2,4,8,10],[13,3,6,7],[15,14,12,16]]\n",
    "loop , rest = divmod(len(matrix),2)\n",
    "if rest:\n",
    "    loop+=1\n",
    "for i in range(loop):\n",
    "    for j in range(i,len(matrix)-i-1):\n",
    "        temp = matrix[i][j]\n",
    "        matrix[i][j] = matrix[len(matrix)-j-1][i]#4zuoshang\n",
    "        matrix[len(matrix)-j-1][i] = matrix[len(matrix)-i-1][len(matrix)-j-1]#3zuoxia\n",
    "        matrix[len(matrix)-i-1][len(matrix)-j-1] = matrix[j][len(matrix)-i-1]#2youxia\n",
    "        matrix[j][len(matrix)-i-1] = temp #1youshang\n",
    "return matrix"
   ]
  },
  {
   "cell_type": "code",
   "execution_count": 91,
   "metadata": {},
   "outputs": [
    {
     "name": "stdout",
     "output_type": "stream",
     "text": [
      "[['.', '.', '.'], ['.', '.', '.'], ['.', '.', '.']]\n"
     ]
    }
   ],
   "source": [
    "cur = []\n",
    "res = []\n",
    "# count = 0\n",
    "n=3\n",
    "board = [['.' for i in range(n)] for j in range(n)]\n",
    "print(board)\n",
    "def digui(count,res,row,col):\n",
    "    if(count==n):\n",
    "        res.append(cur)\n",
    "        return\n",
    "    if check(row,col):\n",
    "        board[row][col]='Q'\n",
    "        count+=1\n",
    "        return\n",
    "    else:\n",
    "        return\n",
    "    while row!=n-1 and col!=n-1:\n",
    "        if(col==n-1):\n",
    "            digui(count,res,row+1,0)\n",
    "        else:\n",
    "            digui(count,res,row,col+1)\n",
    "\n",
    "def check(i,j):\n",
    "#     if(board[i][j] == 'Q'):\n",
    "    for m in range(n):\n",
    "        if(board[m][j] == 'Q' and m != i):\n",
    "            return False\n",
    "        if (board[i][m] == 'Q' and m != j):\n",
    "            return False\n",
    "    p=i\n",
    "    q=j\n",
    "    while (not(p==0 or q==0)):\n",
    "        if(board[p-1][q-1]=='Q'):\n",
    "            return False\n",
    "        p-=1\n",
    "        q-=1\n",
    "    p=i\n",
    "    q=j\n",
    "    while (not(q==0 or p == n-1 )):\n",
    "        if(board[p+1][q-1]=='Q'):\n",
    "            return False\n",
    "        p+=1\n",
    "        q-=1\n",
    "    p=i\n",
    "    q=j\n",
    "    while (not(p == n-1 or q == n-1)):\n",
    "        if(board[p+1][q+1]=='Q'):\n",
    "\n",
    "            return False\n",
    "        p+=1\n",
    "        q+=1\n",
    "    p=i\n",
    "    q=j\n",
    "    while (not(p==0 or q == n-1)):\n",
    "        if(board[p-1][q+1]=='Q'):\n",
    "            return False\n",
    "        p-=1\n",
    "        q+=1\n",
    "    return True\n",
    "digui(0,[],0,0)"
   ]
  },
  {
   "cell_type": "code",
   "execution_count": 80,
   "metadata": {},
   "outputs": [
    {
     "data": {
      "text/plain": [
       "['....']"
      ]
     },
     "execution_count": 80,
     "metadata": {},
     "output_type": "execute_result"
    }
   ],
   "source": [
    "for i in range()"
   ]
  }
 ],
 "metadata": {
  "kernelspec": {
   "display_name": "Python 3",
   "language": "python",
   "name": "python3"
  },
  "language_info": {
   "codemirror_mode": {
    "name": "ipython",
    "version": 3
   },
   "file_extension": ".py",
   "mimetype": "text/x-python",
   "name": "python",
   "nbconvert_exporter": "python",
   "pygments_lexer": "ipython3",
   "version": "3.6.5"
  }
 },
 "nbformat": 4,
 "nbformat_minor": 2
}
