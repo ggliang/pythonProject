{
 "cells": [
  {
   "cell_type": "code",
   "execution_count": 17,
   "metadata": {},
   "outputs": [
    {
     "name": "stdout",
     "output_type": "stream",
     "text": [
      "[1, 2, -1, 4, 9, 10]\n",
      "3\n"
     ]
    }
   ],
   "source": [
    "nums = [-1,4,2,1,9,10]\n",
    "for i in range(len(nums)):\n",
    "    while(nums[i] > 0 and nums[i] < len(nums) and nums[nums[i]-1]!=nums[i]):\n",
    "        temp = nums[nums[i]-1]\n",
    "        nums[nums[i]-1] = nums[i]\n",
    "        nums[i] = temp\n",
    "print(nums)\n",
    "for i in range(len(nums)):\n",
    "    if(nums[i]!=i+1):\n",
    "        print(i+1)\n",
    "        break\n",
    "# nums"
   ]
  },
  {
   "cell_type": "code",
   "execution_count": 22,
   "metadata": {},
   "outputs": [
    {
     "data": {
      "text/plain": [
       "240"
      ]
     },
     "execution_count": 22,
     "metadata": {},
     "output_type": "execute_result"
    }
   ],
   "source": [
    "def jiecheng(nums):\n",
    "#     res=nums\n",
    "    if(nums == 1):\n",
    "        return 2\n",
    "    return nums*jiecheng(nums-1)\n",
    "jiecheng(5)"
   ]
  }
 ],
 "metadata": {
  "kernelspec": {
   "display_name": "Python 3",
   "language": "python",
   "name": "python3"
  },
  "language_info": {
   "codemirror_mode": {
    "name": "ipython",
    "version": 3
   },
   "file_extension": ".py",
   "mimetype": "text/x-python",
   "name": "python",
   "nbconvert_exporter": "python",
   "pygments_lexer": "ipython3",
   "version": "3.6.5"
  }
 },
 "nbformat": 4,
 "nbformat_minor": 2
}
