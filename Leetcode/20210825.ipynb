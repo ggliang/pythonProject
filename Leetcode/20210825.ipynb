{
 "cells": [
  {
   "cell_type": "code",
   "execution_count": 8,
   "metadata": {},
   "outputs": [
    {
     "data": {
      "text/plain": [
       "3"
      ]
     },
     "execution_count": 8,
     "metadata": {},
     "output_type": "execute_result"
    }
   ],
   "source": [
    "grid = [\n",
    "  [\"1\",\"1\",\"0\",\"0\",\"0\"],\n",
    "  [\"1\",\"1\",\"0\",\"0\",\"0\"],\n",
    "  [\"0\",\"0\",\"1\",\"0\",\"0\"],\n",
    "  [\"0\",\"0\",\"0\",\"1\",\"1\"]\n",
    "]\n",
    "m = len(grid)\n",
    "n = len(grid[0])\n",
    "count = 0\n",
    "for i in range(m):\n",
    "    for j in range(n):\n",
    "        if(grid[i][j]=='1'):\n",
    "            grid[i][j] = '0'\n",
    "            count+=1\n",
    "            save = [(i-1,j),(i+1,j),(i,j+1),(i,j-1)]\n",
    "            while save:\n",
    "                p,q = save.pop()\n",
    "                if(0<=p<m and 0<=q<n and grid[p][q]=='1'):\n",
    "                    grid[p][q] = '0'\n",
    "                    save += [(p-1,q),(p+1,q),(p,q+1),(p,q-1)]\n",
    "            \n",
    "count"
   ]
  },
  {
   "cell_type": "code",
   "execution_count": 22,
   "metadata": {},
   "outputs": [
    {
     "data": {
      "text/plain": [
       "[2,\n",
       " 3,\n",
       " 5,\n",
       " 7,\n",
       " 11,\n",
       " 13,\n",
       " 17,\n",
       " 19,\n",
       " 23,\n",
       " 29,\n",
       " 31,\n",
       " 37,\n",
       " 41,\n",
       " 43,\n",
       " 47,\n",
       " 53,\n",
       " 59,\n",
       " 61,\n",
       " 67,\n",
       " 71,\n",
       " 73,\n",
       " 79,\n",
       " 83,\n",
       " 89,\n",
       " 97,\n",
       " 101,\n",
       " 103,\n",
       " 107,\n",
       " 109,\n",
       " 113,\n",
       " 127,\n",
       " 131,\n",
       " 137,\n",
       " 139,\n",
       " 149,\n",
       " 151,\n",
       " 157,\n",
       " 163,\n",
       " 167,\n",
       " 173,\n",
       " 179,\n",
       " 181,\n",
       " 191,\n",
       " 193,\n",
       " 197,\n",
       " 199]"
      ]
     },
     "execution_count": 22,
     "metadata": {},
     "output_type": "execute_result"
    }
   ],
   "source": [
    "n = 200\n",
    "count = 0\n",
    "prime = []\n",
    "if (n <=2):\n",
    "    return 0\n",
    "elif n==3:\n",
    "    count+=1\n",
    "    prime+=[2]\n",
    "    return len(prime)\n",
    "else:\n",
    "    prime+=[2,3]\n",
    "    for i in range(4,n):\n",
    "        for j in range(len(prime)):\n",
    "            if(i%prime[j]==0):\n",
    "                break\n",
    "            if(j == len(prime)-1):\n",
    "                prime+=[i]\n",
    "return len(prime)"
   ]
  },
  {
   "cell_type": "code",
   "execution_count": 37,
   "metadata": {},
   "outputs": [
    {
     "data": {
      "text/plain": [
       "46"
      ]
     },
     "execution_count": 37,
     "metadata": {},
     "output_type": "execute_result"
    }
   ],
   "source": [
    "n = 200\n",
    "lst = [1] * n\n",
    "if(n < 3 ):\n",
    "    print(1)\n",
    "else:\n",
    "    lst[0]=lst[1]=0\n",
    "    m = 2\n",
    "    while m*m<n:\n",
    "        if(lst[m]==1):\n",
    "            lst[m*m:n:m] = [0]*((n-m*m-1)//m+1)\n",
    "        m+=1 if m==2 else 2\n",
    "sum(lst)"
   ]
  }
 ],
 "metadata": {
  "kernelspec": {
   "display_name": "Python 3",
   "language": "python",
   "name": "python3"
  },
  "language_info": {
   "codemirror_mode": {
    "name": "ipython",
    "version": 3
   },
   "file_extension": ".py",
   "mimetype": "text/x-python",
   "name": "python",
   "nbconvert_exporter": "python",
   "pygments_lexer": "ipython3",
   "version": "3.6.5"
  }
 },
 "nbformat": 4,
 "nbformat_minor": 2
}
