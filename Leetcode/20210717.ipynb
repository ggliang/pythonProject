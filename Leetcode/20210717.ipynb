{
 "cells": [
  {
   "cell_type": "code",
   "execution_count": 10,
   "metadata": {},
   "outputs": [
    {
     "data": {
      "text/plain": [
       "[[0, 4]]"
      ]
     },
     "execution_count": 10,
     "metadata": {},
     "output_type": "execute_result"
    }
   ],
   "source": [
    "intervals = [[1,4],[0,0]]\n",
    "start = intervals[0][0]\n",
    "end = intervals[0][1]\n",
    "res = []\n",
    "for i in intervals:\n",
    "\n",
    "    if(i[0]<=start):\n",
    "        start=i[0]\n",
    "    if(i[0]>end and i[1]<start):\n",
    "        res.append([start,end])\n",
    "        start=i[0]\n",
    "    if(i[1]>=end):\n",
    "        end=i[1]\n",
    "if([start,end] not in res):\n",
    "    res.append([start,end])\n",
    "res"
   ]
  },
  {
   "cell_type": "code",
   "execution_count": 20,
   "metadata": {},
   "outputs": [
    {
     "data": {
      "text/plain": [
       "[[0, 0], [1, 4]]"
      ]
     },
     "execution_count": 20,
     "metadata": {},
     "output_type": "execute_result"
    }
   ],
   "source": [
    "intervals = [[1,4],[0,0]]\n",
    "intervals.sort()\n",
    "start = intervals[0][0]\n",
    "end = intervals[0][1]\n",
    "res = []\n",
    "for i in intervals:\n",
    "    if(i[0]>end):\n",
    "        res.append([start,end])\n",
    "        start=i[0]\n",
    "        end=i[1]\n",
    "        continue\n",
    "\n",
    "    if(i[0]<=start):\n",
    "        start=i[0]\n",
    "\n",
    "    if(i[1]>=end):\n",
    "        end=i[1]\n",
    "        \n",
    "if([start,end] not in res):\n",
    "    res.append([start,end])\n",
    "res"
   ]
  },
  {
   "cell_type": "code",
   "execution_count": 12,
   "metadata": {},
   "outputs": [
    {
     "data": {
      "text/plain": [
       "[[0, 0], [1, 4], [3, 5]]"
      ]
     },
     "execution_count": 12,
     "metadata": {},
     "output_type": "execute_result"
    }
   ],
   "source": [
    "intervals = [[1,4],[0,0],[3,5]]\n",
    "intervals.sort()\n",
    "intervals"
   ]
  }
 ],
 "metadata": {
  "kernelspec": {
   "display_name": "Python 3",
   "language": "python",
   "name": "python3"
  },
  "language_info": {
   "codemirror_mode": {
    "name": "ipython",
    "version": 3
   },
   "file_extension": ".py",
   "mimetype": "text/x-python",
   "name": "python",
   "nbconvert_exporter": "python",
   "pygments_lexer": "ipython3",
   "version": "3.6.5"
  }
 },
 "nbformat": 4,
 "nbformat_minor": 2
}
