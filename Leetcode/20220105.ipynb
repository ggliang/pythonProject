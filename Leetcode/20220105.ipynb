{
 "cells": [
  {
   "cell_type": "code",
   "execution_count": 18,
   "id": "25202cbe",
   "metadata": {},
   "outputs": [
    {
     "data": {
      "text/plain": [
       "'1211'"
      ]
     },
     "execution_count": 18,
     "metadata": {},
     "output_type": "execute_result"
    }
   ],
   "source": [
    "def countAndSay(n):\n",
    "    def say(str_):\n",
    "        res = []\n",
    "        count = 1\n",
    "        for i in range(1,len(str_)):\n",
    "            if str_[i]==str_[i-1]:\n",
    "                count+=1\n",
    "            else:\n",
    "                res.append(str(count))\n",
    "                res.append(str_[i-1])\n",
    "                count = 1\n",
    "        if count==1:\n",
    "            res.append('1')\n",
    "            res.append(str_[-1])\n",
    "        elif count>=2:\n",
    "            res.append(str(count))\n",
    "            res.append(str_[-1])\n",
    "        return \"\".join(res)\n",
    "    if n==1:\n",
    "        return '1'\n",
    "    \n",
    "    else:\n",
    "        return say(countAndSay(n-1))\n",
    "countAndSay(4)"
   ]
  },
  {
   "cell_type": "code",
   "execution_count": 25,
   "id": "6e85bd8c",
   "metadata": {},
   "outputs": [
    {
     "ename": "SyntaxError",
     "evalue": "'return' outside function (<ipython-input-25-62575b4717f9>, line 18)",
     "output_type": "error",
     "traceback": [
      "\u001b[1;36m  File \u001b[1;32m\"<ipython-input-25-62575b4717f9>\"\u001b[1;36m, line \u001b[1;32m18\u001b[0m\n\u001b[1;33m    return res\u001b[0m\n\u001b[1;37m    ^\u001b[0m\n\u001b[1;31mSyntaxError\u001b[0m\u001b[1;31m:\u001b[0m 'return' outside function\n"
     ]
    }
   ],
   "source": [
    "strs = [\"\"]\n",
    "dic = {}\n",
    "count = 0\n",
    "res = []\n",
    "for str_ in strs:\n",
    "    temp = []\n",
    "    for i in str_:\n",
    "        temp.append(i)\n",
    "    temp.sort()\n",
    "    temp = str(temp)\n",
    "    if temp not in dic.keys():\n",
    "        dic[temp]=count\n",
    "        count+=1\n",
    "        res.append([])\n",
    "        res[dic[temp]].append(str_)\n",
    "    else:\n",
    "        res[dic[temp]].append(str_)\n",
    "return res"
   ]
  },
  {
   "cell_type": "code",
   "execution_count": 46,
   "id": "528c07e8",
   "metadata": {},
   "outputs": [
    {
     "data": {
      "text/plain": [
       "[[28, 21, 15, 10, 6, 3, 1], [7, 6, 5, 4, 3, 2, 1], [1, 1, 1, 1, 1, 1, 1]]"
      ]
     },
     "execution_count": 46,
     "metadata": {},
     "output_type": "execute_result"
    }
   ],
   "source": [
    "m = 3\n",
    "n = 7\n",
    "\n",
    "if m==1 or n==1:\n",
    "    return 1\n",
    "else:\n",
    "    res = [[0]*n for i in range(m)]\n",
    "    for i in range(n):\n",
    "        res[m-1][i] = 1\n",
    "    for i in range(m):\n",
    "        res[i][n-1] = 1\n",
    "    for i in range(1,m):\n",
    "        for j in range(1,n):\n",
    "            res[m-i-1][n-j-1] = res[m-i][n-j-1]+res[m-i-1][n-j]\n",
    "    return res[0][0]\n"
   ]
  },
  {
   "cell_type": "code",
   "execution_count": 30,
   "id": "18833e7b",
   "metadata": {},
   "outputs": [
    {
     "data": {
      "text/plain": [
       "[[], [], [], [], [], [], [], []]"
      ]
     },
     "execution_count": 30,
     "metadata": {},
     "output_type": "execute_result"
    }
   ],
   "source": [
    "a = [[] for _ in range(8)]\n",
    "a"
   ]
  }
 ],
 "metadata": {
  "kernelspec": {
   "display_name": "Python 3",
   "language": "python",
   "name": "python3"
  },
  "language_info": {
   "codemirror_mode": {
    "name": "ipython",
    "version": 3
   },
   "file_extension": ".py",
   "mimetype": "text/x-python",
   "name": "python",
   "nbconvert_exporter": "python",
   "pygments_lexer": "ipython3",
   "version": "3.8.8"
  }
 },
 "nbformat": 4,
 "nbformat_minor": 5
}
