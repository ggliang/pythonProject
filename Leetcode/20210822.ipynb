{
 "cells": [
  {
   "cell_type": "code",
   "execution_count": null,
   "metadata": {},
   "outputs": [],
   "source": [
    "dungeon = [[-2,-3,3],\n",
    "           [-5,-10,1],\n",
    "           [10,30,-5]]\n",
    "n = len(dungeon)\n",
    "m = len(dungeon[0])\n",
    "def recursion(i,j):\n",
    "    if(i==n-1 and j==m-1):\n",
    "        dungeon[m][n] = max(-dungeon[m][n],0)\n",
    "        return \n",
    "    elif(i==m-1):\n",
    "    else:\n",
    "        return max(recursion(i,j+1),recursion(i+1,j))"
   ]
  },
  {
   "cell_type": "code",
   "execution_count": 6,
   "metadata": {},
   "outputs": [
    {
     "data": {
      "text/plain": [
       "[[0, 2, 0], [0, 0, 0]]"
      ]
     },
     "execution_count": 6,
     "metadata": {},
     "output_type": "execute_result"
    }
   ],
   "source": [
    "dungeon = [[1,-2,3],\n",
    "           [2,-2,-2]]\n",
    "n = len(dungeon)\n",
    "m = len(dungeon[0])\n",
    "def recursion(i,j):\n",
    "    if(i==n-1 and j==m-1):\n",
    "        dungeon[i][j] = max(-dungeon[i][j],0)\n",
    "        return dungeon[i][j]\n",
    "    elif(i==n-1):\n",
    "        dungeon[i][j] = max(recursion(i,j+1)-dungeon[i][j],0)\n",
    "        return dungeon[i][j]\n",
    "    elif(j==m-1):\n",
    "        dungeon[i][j] = max(recursion(i+1,j)-dungeon[i][j],0)\n",
    "        return dungeon[i][j]\n",
    "    else:\n",
    "        dungeon[i][j] = min(max(recursion(i,j+1)-dungeon[i][j],0),max(recursion(i+1,j)-dungeon[i][j],0))\n",
    "        return dungeon[i][j]\n",
    "recursion(0,0)\n",
    "dungeon"
   ]
  },
  {
   "cell_type": "code",
   "execution_count": 27,
   "metadata": {},
   "outputs": [
    {
     "data": {
      "text/plain": [
       "[[6, 4, 1], [5, 10, 4], [0, 0, 5]]"
      ]
     },
     "execution_count": 27,
     "metadata": {},
     "output_type": "execute_result"
    }
   ],
   "source": [
    "dungeon = [[-2,-3,3],\n",
    "           [-5,-10,1],\n",
    "           [10,30,-5]]\n",
    "n = len(dungeon)\n",
    "m = len(dungeon[0])\n",
    "res = [[i,j] for i in range(n) for j in range(m)]\n",
    "def recursion(i,j):\n",
    "    if(i==n-1 and j==m-1):\n",
    "        if([i,j] in res):\n",
    "            dungeon[i][j] = max(-dungeon[i][j],0)\n",
    "            res.pop(res.index([i,j]))\n",
    "            return dungeon[i][j]\n",
    "        else:\n",
    "            return dungeon[i][j]\n",
    "    elif(i==n-1):\n",
    "        if([i,j] in res):\n",
    "            dungeon[i][j] = max(recursion(i,j+1)-dungeon[i][j],0)\n",
    "            res.pop(res.index([i,j]))\n",
    "            return dungeon[i][j]\n",
    "        else:\n",
    "            return dungeon[i][j]\n",
    "    elif(j==m-1):\n",
    "        if([i,j] in res):\n",
    "            dungeon[i][j] = max(recursion(i+1,j)-dungeon[i][j],0)\n",
    "            res.pop(res.index([i,j]))\n",
    "            return dungeon[i][j]\n",
    "        else:\n",
    "            return dungeon[i][j]\n",
    "    else:\n",
    "        if([i,j] in res):\n",
    "            dungeon[i][j] = min(max(recursion(i,j+1)-dungeon[i][j],0),max(recursion(i+1,j)-dungeon[i][j],0))\n",
    "            res.pop(res.index([i,j]))\n",
    "            return dungeon[i][j]\n",
    "        else:\n",
    "            return dungeon[i][j]\n",
    "recursion(0,0)\n",
    "return dungeon[0][0]+1"
   ]
  },
  {
   "cell_type": "code",
   "execution_count": 20,
   "metadata": {},
   "outputs": [
    {
     "data": {
      "text/plain": [
       "False"
      ]
     },
     "execution_count": 20,
     "metadata": {},
     "output_type": "execute_result"
    }
   ],
   "source": [
    "res = [[i,j] for i in range(n) for j in range(m)]\n",
    "res.pop(res.index([i,j]))\n",
    "[0,2] in res"
   ]
  },
  {
   "cell_type": "code",
   "execution_count": 15,
   "metadata": {},
   "outputs": [
    {
     "data": {
      "text/plain": [
       "False"
      ]
     },
     "execution_count": 15,
     "metadata": {},
     "output_type": "execute_result"
    }
   ],
   "source": [
    "def bisectionsearch(L,e):\n",
    "    if(len(L)==0):\n",
    "        return False\n",
    "    elif(len(L)==1):\n",
    "        return L[0]==e\n",
    "    else:\n",
    "        lo = 0\n",
    "        hi = len(L)-1\n",
    "        while lo<=hi:\n",
    "            mid = (lo+hi)//2\n",
    "            if(L[mid] == e):\n",
    "                return True\n",
    "            if(L[mid]>e):\n",
    "                hi = mid-1\n",
    "            else:\n",
    "                lo = mid+1\n",
    "        return False\n",
    "bisectionsearch([1,2,3,5,6,7],4)"
   ]
  },
  {
   "cell_type": "code",
   "execution_count": 18,
   "metadata": {},
   "outputs": [
    {
     "data": {
      "text/plain": [
       "'123'"
      ]
     },
     "execution_count": 18,
     "metadata": {},
     "output_type": "execute_result"
    }
   ],
   "source": [
    "def intTostr(i):\n",
    "    digits = '0123456789'\n",
    "    if i ==0:\n",
    "        return '0'\n",
    "    result = ''\n",
    "    while i>0:\n",
    "        result = digits[i%10]+result\n",
    "        i = i//10\n",
    "    return result\n",
    "intTostr(123)"
   ]
  },
  {
   "cell_type": "code",
   "execution_count": 39,
   "metadata": {},
   "outputs": [
    {
     "data": {
      "text/plain": [
       "[[],\n",
       " [1],\n",
       " [1, 2],\n",
       " [1, 2, 3],\n",
       " [1, 2, 3, 4],\n",
       " [1, 2, 4],\n",
       " [1, 3],\n",
       " [1, 3, 4],\n",
       " [1, 4],\n",
       " [2],\n",
       " [2, 3],\n",
       " [2, 3, 4],\n",
       " [2, 4],\n",
       " [3],\n",
       " [3, 4],\n",
       " [4]]"
      ]
     },
     "execution_count": 39,
     "metadata": {},
     "output_type": "execute_result"
    }
   ],
   "source": [
    "res = []\n",
    "def recursion(n,idx,cur):\n",
    "    \n",
    "    if idx == n+1:\n",
    "        return\n",
    "    if cur not in res:\n",
    "        res.append(cur)\n",
    "    for i in range(idx,n+1):\n",
    "        recursion(n,i+1,cur+[i+1])\n",
    "    return res\n",
    "recursion(4,0,[])"
   ]
  },
  {
   "cell_type": "code",
   "execution_count": 45,
   "metadata": {},
   "outputs": [
    {
     "data": {
      "text/plain": [
       "[[],\n",
       " [1],\n",
       " [2],\n",
       " [1, 2],\n",
       " [3],\n",
       " [1, 3],\n",
       " [2, 3],\n",
       " [1, 2, 3],\n",
       " [4],\n",
       " [1, 4],\n",
       " [2, 4],\n",
       " [1, 2, 4],\n",
       " [3, 4],\n",
       " [1, 3, 4],\n",
       " [2, 3, 4],\n",
       " [1, 2, 3, 4]]"
      ]
     },
     "execution_count": 45,
     "metadata": {},
     "output_type": "execute_result"
    }
   ],
   "source": [
    "def genSubsets(L):\n",
    "    res = []\n",
    "    if len(L) ==0:\n",
    "        return [[]]\n",
    "    smaller = genSubsets(L[:-1])\n",
    "    extra = L[-1:]\n",
    "    new = []\n",
    "    for small in smaller:\n",
    "        new.append(small+extra)\n",
    "    return smaller+new\n",
    "genSubsets([1,2,3,4])"
   ]
  }
 ],
 "metadata": {
  "kernelspec": {
   "display_name": "Python 3",
   "language": "python",
   "name": "python3"
  },
  "language_info": {
   "codemirror_mode": {
    "name": "ipython",
    "version": 3
   },
   "file_extension": ".py",
   "mimetype": "text/x-python",
   "name": "python",
   "nbconvert_exporter": "python",
   "pygments_lexer": "ipython3",
   "version": "3.6.5"
  }
 },
 "nbformat": 4,
 "nbformat_minor": 2
}
