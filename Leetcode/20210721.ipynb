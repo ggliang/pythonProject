{
 "cells": [
  {
   "cell_type": "code",
   "execution_count": 33,
   "metadata": {},
   "outputs": [
    {
     "data": {
      "text/plain": [
       "[1, 1, 2, 2, 3, 3, 4, 4, '_', '_', '_', '_', '_', '_']"
      ]
     },
     "execution_count": 33,
     "metadata": {},
     "output_type": "execute_result"
    }
   ],
   "source": [
    "nums = [1,1,1,2,2,3,3,3,3,3,3,4,4,4]\n",
    "count=0\n",
    "N = len(nums)\n",
    "poi = 0\n",
    "cur_num=nums[0]\n",
    "k=0\n",
    "while poi<N:\n",
    "    if(nums[poi]==cur_num):\n",
    "        count+=1\n",
    "    if(count>2 and nums[poi]==cur_num):\n",
    "        nums[poi] = '_'\n",
    "        k+=1\n",
    "    if(nums[poi]!=cur_num and nums[poi]!='_'):\n",
    "        cur_num=nums[poi]\n",
    "        count=0\n",
    "        continue\n",
    "    poi+=1\n",
    "for j in range(N):\n",
    "    for i in range(len(nums)-1,j,-1):\n",
    "        try:\n",
    "            if(nums[i-1]>nums[i]):\n",
    "                nums[i-1],nums[i]=nums[i],nums[i-1]\n",
    "        except:\n",
    "            if(nums[i-1]=='_'):\n",
    "                nums[i-1],nums[i]=nums[i],nums[i-1]\n",
    "nums[:N-k]"
   ]
  },
  {
   "cell_type": "code",
   "execution_count": null,
   "metadata": {},
   "outputs": [],
   "source": [
    "nums = [2,5,6,0,0,1,2]\n",
    "target = 3\n",
    "N = len(nums)\n",
    "if(N==1):\n",
    "    if(nums[0] != target):\n",
    "        print('False')\n",
    "left=0\n",
    "right=N-1\n"
   ]
  },
  {
   "cell_type": "code",
   "execution_count": 50,
   "metadata": {},
   "outputs": [
    {
     "data": {
      "text/plain": [
       "14"
      ]
     },
     "execution_count": 50,
     "metadata": {},
     "output_type": "execute_result"
    }
   ],
   "source": [
    "heights = [6,4,2,0,3,2,0,3,1,4,5,3,2,7,5,3,0,1,2,1,3,4,6,8,1,3]\n",
    "rec = 0\n",
    "res = 0\n",
    "N = len(heights)\n",
    "for i in range(N):\n",
    "    rec=0\n",
    "    for j in range(i,N):\n",
    "        if(min(heights[i:j+1])*(j-i+1)>=rec):\n",
    "            rec=min(heights[i:j+1])*(j-i+1)\n",
    "            if(rec>res):\n",
    "                res=rec\n",
    "\n",
    "res"
   ]
  },
  {
   "cell_type": "code",
   "execution_count": 51,
   "metadata": {},
   "outputs": [
    {
     "data": {
      "text/plain": [
       "14"
      ]
     },
     "execution_count": 51,
     "metadata": {},
     "output_type": "execute_result"
    }
   ],
   "source": [
    "heights = [6,4,2,0,3,2,0,3,1,4,5,3,2,7,5,3,0,1,2,1,3,4,6,8,1,3]\n",
    "stack = [-1]\n",
    "heights.append(0)\n",
    "res=0\n",
    "for i,height in enumerate(heights):\n",
    "    while heights[stack[-1]]>heights[i]:\n",
    "        h = heights[stack.pop()]\n",
    "        w = i-1-stack[-1]\n",
    "        res = max(res,h*w)\n",
    "    stack.append(i)\n",
    "res"
   ]
  }
 ],
 "metadata": {
  "kernelspec": {
   "display_name": "Python 3",
   "language": "python",
   "name": "python3"
  },
  "language_info": {
   "codemirror_mode": {
    "name": "ipython",
    "version": 3
   },
   "file_extension": ".py",
   "mimetype": "text/x-python",
   "name": "python",
   "nbconvert_exporter": "python",
   "pygments_lexer": "ipython3",
   "version": "3.6.5"
  }
 },
 "nbformat": 4,
 "nbformat_minor": 2
}
