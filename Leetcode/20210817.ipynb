{
 "cells": [
  {
   "cell_type": "code",
   "execution_count": 8,
   "metadata": {},
   "outputs": [
    {
     "data": {
      "text/plain": [
       "3"
      ]
     },
     "execution_count": 8,
     "metadata": {},
     "output_type": "execute_result"
    }
   ],
   "source": [
    "nums = [-2,3,-4]\n",
    "n = len(nums)\n",
    "if(n == 1):\n",
    "    print(0)\n",
    "else:\n",
    "    max_pro = 0\n",
    "    left = 0\n",
    "    right = 0\n",
    "    for i in range(n-1):\n",
    "        if(nums[i]<=nums[i+1]):\n",
    "            right = i+1\n",
    "            max_pro=max(nums[left]*nums[right],max_pro,nums[right])\n",
    "        else:\n",
    "            left = i+1\n",
    "            right = left\n",
    "max_pro"
   ]
  },
  {
   "cell_type": "code",
   "execution_count": 19,
   "metadata": {},
   "outputs": [
    {
     "data": {
      "text/plain": [
       "12"
      ]
     },
     "execution_count": 19,
     "metadata": {},
     "output_type": "execute_result"
    }
   ],
   "source": [
    "nums = [-4,-3,-2]\n",
    "g = []\n",
    "f = []\n",
    "g.append(nums[0])\n",
    "f.append(nums[0])\n",
    "max_pro = nums[0]\n",
    "n = len(nums)\n",
    "for i in range(1,n):\n",
    "    g.append(max(max(nums[i]*g[i-1],nums[i]*f[i-1]),nums[i]))\n",
    "    f.append(min(min(nums[i]*g[i-1],nums[i]*f[i-1]),nums[i]))\n",
    "    max_pro = max(max_pro,g[i])\n",
    "max_pro"
   ]
  }
 ],
 "metadata": {
  "kernelspec": {
   "display_name": "Python 3",
   "language": "python",
   "name": "python3"
  },
  "language_info": {
   "codemirror_mode": {
    "name": "ipython",
    "version": 3
   },
   "file_extension": ".py",
   "mimetype": "text/x-python",
   "name": "python",
   "nbconvert_exporter": "python",
   "pygments_lexer": "ipython3",
   "version": "3.6.5"
  }
 },
 "nbformat": 4,
 "nbformat_minor": 2
}
