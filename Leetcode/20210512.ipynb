{
 "cells": [
  {
   "cell_type": "code",
   "execution_count": 62,
   "metadata": {},
   "outputs": [
    {
     "name": "stdout",
     "output_type": "stream",
     "text": [
      "1\n"
     ]
    }
   ],
   "source": [
    "a=\" \"\n",
    "b=list(set(list(a)))\n",
    "poi=0\n",
    "length=0\n",
    "# a=a.replace(\" \",\"\")\n",
    "while poi!=len(a):\n",
    "    c=[]\n",
    "    for i in range(len(a)-poi):\n",
    "        c.append(a[poi+i])\n",
    "        for ele in b:\n",
    "            count=c.count(ele)\n",
    "            if count>=2:\n",
    "                c=[]\n",
    "#                 break\n",
    "        if(len(c)>length):\n",
    "            length=len(c)\n",
    "\n",
    "    poi+=1\n",
    "print(length)"
   ]
  },
  {
   "cell_type": "code",
   "execution_count": 107,
   "metadata": {},
   "outputs": [
    {
     "name": "stdout",
     "output_type": "stream",
     "text": [
      "3\n"
     ]
    }
   ],
   "source": [
    "a=\"abcabcbb\"\n",
    "poi=0\n",
    "length=0\n",
    "for poi in range(len(a)):\n",
    "    c=[]\n",
    "    for i in range(len(a)-poi):\n",
    "        c.append(a[poi+i])\n",
    "        d=list(set(c))\n",
    "        d.sort(key = c.index)\n",
    "        if (d==c and len(c)>length):\n",
    "            length=len(c)\n",
    "\n",
    "print(length)"
   ]
  },
  {
   "cell_type": "code",
   "execution_count": 148,
   "metadata": {},
   "outputs": [],
   "source": [
    "s=\"abc\"\n",
    "poi=0\n",
    "length=len(s)\n",
    "# count=length\n",
    "s=list(s)\n",
    "for count in range(length,-1):\n",
    "#     print(count)\n",
    "    for poi in range (length-count+1):\n",
    "        print(poi,poi+count)\n",
    "#         print(s[poi:count])\n",
    "#         print(poi,count)\n",
    "        \n",
    "    \n",
    "    "
   ]
  },
  {
   "cell_type": "code",
   "execution_count": 150,
   "metadata": {},
   "outputs": [
    {
     "data": {
      "text/plain": [
       "[1, 2, 3]"
      ]
     },
     "execution_count": 150,
     "metadata": {},
     "output_type": "execute_result"
    }
   ],
   "source": [
    "a=[1,2,3]\n",
    "a[0:3]"
   ]
  },
  {
   "cell_type": "code",
   "execution_count": 181,
   "metadata": {},
   "outputs": [
    {
     "name": "stdout",
     "output_type": "stream",
     "text": [
      "3\n"
     ]
    }
   ],
   "source": [
    "#class Solution:\n",
    "def lengthOfLongestSubstring( s: str) -> int:\n",
    "    chars= [0]*128\n",
    "    left=right=0\n",
    "    res=0\n",
    "    \n",
    "    while(right<len(s)):\n",
    "        r=s[right]\n",
    "        chars[ord(r)]+=1\n",
    "        \n",
    "        while (chars[ord(r)]>1):\n",
    "            l=s[left]\n",
    "            chars[ord(l)]-=1\n",
    "            left+=1\n",
    "        \n",
    "        res=max(res,right-left+1)\n",
    "        \n",
    "        right+=1\n",
    "        \n",
    "    return res\n",
    "print(lengthOfLongestSubstring(\"pwwkew\"))"
   ]
  },
  {
   "cell_type": "code",
   "execution_count": 208,
   "metadata": {},
   "outputs": [
    {
     "ename": "IndexError",
     "evalue": "string index out of range",
     "output_type": "error",
     "traceback": [
      "\u001b[1;31m---------------------------------------------------------------------------\u001b[0m",
      "\u001b[1;31mIndexError\u001b[0m                                Traceback (most recent call last)",
      "\u001b[1;32m<ipython-input-208-33afb215d0cf>\u001b[0m in \u001b[0;36m<module>\u001b[1;34m()\u001b[0m\n\u001b[0;32m      5\u001b[0m \u001b[1;33m\u001b[0m\u001b[0m\n\u001b[0;32m      6\u001b[0m \u001b[1;32mwhile\u001b[0m \u001b[0mright\u001b[0m\u001b[1;33m<\u001b[0m\u001b[0mlen\u001b[0m\u001b[1;33m(\u001b[0m\u001b[0ms\u001b[0m\u001b[1;33m)\u001b[0m \u001b[1;32mand\u001b[0m \u001b[0mleft\u001b[0m\u001b[1;33m>=\u001b[0m\u001b[1;36m0\u001b[0m\u001b[1;33m:\u001b[0m\u001b[1;33m\u001b[0m\u001b[0m\n\u001b[1;32m----> 7\u001b[1;33m     \u001b[1;32mwhile\u001b[0m \u001b[0ms\u001b[0m\u001b[1;33m[\u001b[0m\u001b[0mleft\u001b[0m\u001b[1;33m]\u001b[0m\u001b[1;33m==\u001b[0m\u001b[0ms\u001b[0m\u001b[1;33m[\u001b[0m\u001b[0mright\u001b[0m\u001b[1;33m]\u001b[0m\u001b[1;33m:\u001b[0m\u001b[1;33m\u001b[0m\u001b[0m\n\u001b[0m\u001b[0;32m      8\u001b[0m         \u001b[1;32mif\u001b[0m\u001b[1;33m(\u001b[0m\u001b[1;33m(\u001b[0m\u001b[0mright\u001b[0m\u001b[1;33m-\u001b[0m\u001b[0mleft\u001b[0m\u001b[1;33m+\u001b[0m\u001b[1;36m1\u001b[0m\u001b[1;33m)\u001b[0m\u001b[1;33m>\u001b[0m\u001b[0mlen\u001b[0m\u001b[1;33m(\u001b[0m\u001b[0mres\u001b[0m\u001b[1;33m)\u001b[0m\u001b[1;33m)\u001b[0m\u001b[1;33m:\u001b[0m\u001b[1;33m\u001b[0m\u001b[0m\n\u001b[0;32m      9\u001b[0m             \u001b[0mres\u001b[0m\u001b[1;33m=\u001b[0m\u001b[0ms\u001b[0m\u001b[1;33m[\u001b[0m\u001b[0mleft\u001b[0m\u001b[1;33m:\u001b[0m\u001b[0mright\u001b[0m\u001b[1;33m+\u001b[0m\u001b[1;36m1\u001b[0m\u001b[1;33m]\u001b[0m\u001b[1;33m\u001b[0m\u001b[0m\n",
      "\u001b[1;31mIndexError\u001b[0m: string index out of range"
     ]
    }
   ],
   "source": [
    "s=\"bdb\"\n",
    "left=right=0\n",
    "mid=0\n",
    "res=\"\"\n",
    "\n",
    "while right<len(s) and left>=0: \n",
    "    while s[left]==s[right]:\n",
    "        if((right-left+1)>len(res)):\n",
    "            res=s[left:right+1]\n",
    "        left=left-1\n",
    "        right=right+1\n",
    "        \n",
    "        if(left<0):\n",
    "            break\n",
    "    mid+=1\n",
    "    left=mid\n",
    "    right=mid\n",
    "#     print(res)\n"
   ]
  },
  {
   "cell_type": "code",
   "execution_count": 226,
   "metadata": {},
   "outputs": [
    {
     "name": "stdout",
     "output_type": "stream",
     "text": [
      "a\n"
     ]
    }
   ],
   "source": [
    "s=\"a\"\n",
    "left=right=0\n",
    "mid=0\n",
    "res=\"\"\n",
    "\n",
    "while mid<len(s):\n",
    "    while s[left]==s[right]:\n",
    "        if((right-left+1)>len(res)):\n",
    "            res=s[left:right+1]\n",
    "        left=left-1\n",
    "        right=right+1\n",
    "        if(left<0 or right>len(s)-1):\n",
    "            break\n",
    "    mid+=1\n",
    "    left=mid\n",
    "    right=mid\n",
    "left=0\n",
    "right=1\n",
    "mid=left\n",
    "while mid<len(s)-1 and len(s)>1:\n",
    "    while s[left]==s[right]:\n",
    "        if((right-left+1)>len(res)):\n",
    "            res=s[left:right+1]\n",
    "        left=left-1\n",
    "        right=right+1\n",
    "        if(left<0 or right>len(s)-1):\n",
    "            break\n",
    "    mid+=1\n",
    "    left=mid\n",
    "    right=mid+1\n",
    "print(res)\n"
   ]
  },
  {
   "cell_type": "code",
   "execution_count": 184,
   "metadata": {},
   "outputs": [
    {
     "data": {
      "text/plain": [
       "4"
      ]
     },
     "execution_count": 184,
     "metadata": {},
     "output_type": "execute_result"
    }
   ],
   "source": []
  }
 ],
 "metadata": {
  "kernelspec": {
   "display_name": "Python 3",
   "language": "python",
   "name": "python3"
  },
  "language_info": {
   "codemirror_mode": {
    "name": "ipython",
    "version": 3
   },
   "file_extension": ".py",
   "mimetype": "text/x-python",
   "name": "python",
   "nbconvert_exporter": "python",
   "pygments_lexer": "ipython3",
   "version": "3.6.5"
  }
 },
 "nbformat": 4,
 "nbformat_minor": 2
}
